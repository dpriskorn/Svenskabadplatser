{
 "cells": [
  {
   "cell_type": "markdown",
   "id": "4a0e87c4",
   "metadata": {},
   "source": [
    "Get all Bathing Waters with P9618 in this project from Wikidata and checks if they exist on eionet as a WaterBody \n",
    "\n",
    "https://dd.eionet.europa.eu/vocabularyconcept/wise/WaterBody\n",
    "\n",
    "* The project: [github salgo60/Svenskabadplatser](https://github.com/salgo60/Svenskabadplatser)\n",
    "  * European bathwaters [GITHUB](https://github.com/salgo60/EuropeanBathingWater/blob/main/README.md) / [Wikidata](https://www.wikidata.org/wiki/Wikidata:WikiProject_European_Bath_Waters)\n",
    "* this [Notebook](https://github.com/salgo60/Svenskabadplatser/blob/main/Jupyter/Eionet_Data_Dictionary.ipynb)\n",
    "\n",
    "  \n",
    "Status:  \n",
    "\n",
    "\n",
    "\n",
    "| Date | Total | Ok | Error \n",
    "| ------------- |:-------------:|:-------------:|:-------------:|\n",
    "| 20210610 | 3176 | 2240 | 936 |\n",
    "\n"
   ]
  },
  {
   "cell_type": "code",
   "execution_count": 1,
   "id": "b20809ea",
   "metadata": {},
   "outputs": [
    {
     "name": "stdout",
     "output_type": "stream",
     "text": [
      "Last run:  2021-06-10 09:52:45.966952\n"
     ]
    }
   ],
   "source": [
    "from datetime import datetime\n",
    "start_time  = datetime.now()\n",
    "print(\"Last run: \", start_time)"
   ]
  },
  {
   "cell_type": "code",
   "execution_count": 2,
   "id": "903ccc82",
   "metadata": {},
   "outputs": [],
   "source": [
    "import pandas as pd\n"
   ]
  },
  {
   "cell_type": "code",
   "execution_count": 3,
   "id": "1f3346e9",
   "metadata": {},
   "outputs": [
    {
     "data": {
      "text/plain": [
       "(3176, 5)"
      ]
     },
     "execution_count": 3,
     "metadata": {},
     "output_type": "execute_result"
    }
   ],
   "source": [
    "#\n",
    "# pip install sparqlwrapper\n",
    "# https://rdflib.github.io/sparqlwrapper/\n",
    "\n",
    "import sys,json\n",
    "from SPARQLWrapper import SPARQLWrapper, JSON\n",
    "\n",
    "endpoint_url = \"https://query.wikidata.org/sparql\"\n",
    " \n",
    "# https://w.wiki/3Tk$    \n",
    "queryBath = \"\"\"SELECT  (REPLACE(STR(?nodebath), \".*Q\", \"Q\") AS ?wikidata) ?nodebath (SUBSTR(lcase(?bath),1,2) AS ?country)\n",
    "(URI(CONCAT(\"https://dd.eionet.europa.eu/vocabularyconcept/wise/WFDProtectedArea/euProtectedAreaCode.\",\n",
    "       str(?bath))) AS ?eionet)  (str(?bath) AS ?bathwateridentifier){\n",
    "      ?nodebath wdt:P9616 ?bath} \n",
    "\"\"\"\n",
    "\n",
    "\n",
    "def get_sparql_dataframe(endpoint_url, query):\n",
    "    \"\"\"\n",
    "    Helper function to convert SPARQL results into a Pandas data frame.\n",
    "    \"\"\"\n",
    "    user_agent = \"salgo60/%s.%s\" % (sys.version_info[0], sys.version_info[1])\n",
    " \n",
    "    sparql = SPARQLWrapper(endpoint_url, agent=user_agent)\n",
    "    sparql.setQuery(query)\n",
    "    sparql.setReturnFormat(JSON)\n",
    "    result = sparql.query()\n",
    "\n",
    "    processed_results = json.load(result.response)\n",
    "    cols = processed_results['head']['vars']\n",
    "\n",
    "    out = []\n",
    "    for row in processed_results['results']['bindings']:\n",
    "        item = []\n",
    "        for c in cols:\n",
    "            item.append(row.get(c, {}).get('value'))\n",
    "        out.append(item)\n",
    "\n",
    "    return pd.DataFrame(out, columns=cols)\n",
    "\n",
    "WDBath = get_sparql_dataframe(endpoint_url, queryBath)\n",
    "WDBath.shape"
   ]
  },
  {
   "cell_type": "code",
   "execution_count": 4,
   "id": "f7c09c8c",
   "metadata": {},
   "outputs": [
    {
     "data": {
      "text/html": [
       "<div>\n",
       "<style scoped>\n",
       "    .dataframe tbody tr th:only-of-type {\n",
       "        vertical-align: middle;\n",
       "    }\n",
       "\n",
       "    .dataframe tbody tr th {\n",
       "        vertical-align: top;\n",
       "    }\n",
       "\n",
       "    .dataframe thead th {\n",
       "        text-align: right;\n",
       "    }\n",
       "</style>\n",
       "<table border=\"1\" class=\"dataframe\">\n",
       "  <thead>\n",
       "    <tr style=\"text-align: right;\">\n",
       "      <th></th>\n",
       "      <th>wikidata</th>\n",
       "      <th>nodebath</th>\n",
       "      <th>country</th>\n",
       "      <th>eionet</th>\n",
       "      <th>bathwateridentifier</th>\n",
       "    </tr>\n",
       "  </thead>\n",
       "  <tbody>\n",
       "    <tr>\n",
       "      <th>0</th>\n",
       "      <td>Q106702268</td>\n",
       "      <td>http://www.wikidata.org/entity/Q106702268</td>\n",
       "      <td>se</td>\n",
       "      <td>https://dd.eionet.europa.eu/vocabularyconcept/...</td>\n",
       "      <td>SE0411080000000220</td>\n",
       "    </tr>\n",
       "    <tr>\n",
       "      <th>1</th>\n",
       "      <td>Q106702265</td>\n",
       "      <td>http://www.wikidata.org/entity/Q106702265</td>\n",
       "      <td>se</td>\n",
       "      <td>https://dd.eionet.europa.eu/vocabularyconcept/...</td>\n",
       "      <td>SE0411080000000205</td>\n",
       "    </tr>\n",
       "    <tr>\n",
       "      <th>2</th>\n",
       "      <td>Q106702261</td>\n",
       "      <td>http://www.wikidata.org/entity/Q106702261</td>\n",
       "      <td>se</td>\n",
       "      <td>https://dd.eionet.europa.eu/vocabularyconcept/...</td>\n",
       "      <td>SE0411080000000216</td>\n",
       "    </tr>\n",
       "    <tr>\n",
       "      <th>3</th>\n",
       "      <td>Q106703325</td>\n",
       "      <td>http://www.wikidata.org/entity/Q106703325</td>\n",
       "      <td>se</td>\n",
       "      <td>https://dd.eionet.europa.eu/vocabularyconcept/...</td>\n",
       "      <td>SE0210380000001180</td>\n",
       "    </tr>\n",
       "    <tr>\n",
       "      <th>4</th>\n",
       "      <td>Q106702259</td>\n",
       "      <td>http://www.wikidata.org/entity/Q106702259</td>\n",
       "      <td>se</td>\n",
       "      <td>https://dd.eionet.europa.eu/vocabularyconcept/...</td>\n",
       "      <td>SE0411080000000212</td>\n",
       "    </tr>\n",
       "  </tbody>\n",
       "</table>\n",
       "</div>"
      ],
      "text/plain": [
       "     wikidata                                   nodebath country  \\\n",
       "0  Q106702268  http://www.wikidata.org/entity/Q106702268      se   \n",
       "1  Q106702265  http://www.wikidata.org/entity/Q106702265      se   \n",
       "2  Q106702261  http://www.wikidata.org/entity/Q106702261      se   \n",
       "3  Q106703325  http://www.wikidata.org/entity/Q106703325      se   \n",
       "4  Q106702259  http://www.wikidata.org/entity/Q106702259      se   \n",
       "\n",
       "                                              eionet bathwateridentifier  \n",
       "0  https://dd.eionet.europa.eu/vocabularyconcept/...  SE0411080000000220  \n",
       "1  https://dd.eionet.europa.eu/vocabularyconcept/...  SE0411080000000205  \n",
       "2  https://dd.eionet.europa.eu/vocabularyconcept/...  SE0411080000000216  \n",
       "3  https://dd.eionet.europa.eu/vocabularyconcept/...  SE0210380000001180  \n",
       "4  https://dd.eionet.europa.eu/vocabularyconcept/...  SE0411080000000212  "
      ]
     },
     "execution_count": 4,
     "metadata": {},
     "output_type": "execute_result"
    }
   ],
   "source": [
    "WDBath.head()"
   ]
  },
  {
   "cell_type": "code",
   "execution_count": null,
   "id": "518ba6fe",
   "metadata": {},
   "outputs": [
    {
     "name": "stderr",
     "output_type": "stream",
     "text": [
      "  1%|          | 29/3176 [00:01<01:44, 29.97it/s]"
     ]
    }
   ],
   "source": [
    "import urllib3, json\n",
    "from tqdm import tqdm\n",
    "http = urllib3.PoolManager()\n",
    "\n",
    "listBath = []\n",
    "for WD, row in tqdm(WDBath.iterrows(), total=WDBath.shape[0]):\n",
    "    url = row[\"eionet\"] \n",
    "    \n",
    "    new_item = dict()\n",
    "    new_item['wikidata'] = row[\"wikidata\"] \n",
    "    try:\n",
    "        r = http.request('GET', url) \n",
    "        new_item['status'] = r.status\n",
    "    except:\n",
    "        print (r.status, url)\n",
    "        new_item['status'] = r.status\n",
    "    new_item['eionet'] = url \n",
    "    new_item['bathwateridentifier'] = row[\"bathwateridentifier\"] \n",
    "    new_item['country'] = row[\"country\"] \n",
    "    \n",
    "    listBath.append(new_item)\n",
    "print (len(listBath))"
   ]
  },
  {
   "cell_type": "code",
   "execution_count": null,
   "id": "97bb95a8",
   "metadata": {},
   "outputs": [],
   "source": [
    "Eionettot = pd.DataFrame(listBath,\n",
    "                  columns=['wikidata','country','bathwateridentifier','status','eionet'])\n",
    "Eionettot.shape\n"
   ]
  },
  {
   "cell_type": "code",
   "execution_count": null,
   "id": "a36b2560",
   "metadata": {},
   "outputs": [],
   "source": [
    "pd.set_option('max_colwidth', 400)\n",
    "Eionettot.head(10)"
   ]
  },
  {
   "cell_type": "code",
   "execution_count": null,
   "id": "ac8242ba",
   "metadata": {},
   "outputs": [],
   "source": [
    "#Eionettot.value_counts({\"status\",\"country\"})\n",
    "#Eionettot[['status', 'country']].apply(pd.Series.value_counts)\n"
   ]
  },
  {
   "cell_type": "code",
   "execution_count": null,
   "id": "5073b2d5",
   "metadata": {},
   "outputs": [],
   "source": [
    "EionettotError = Eionettot[(Eionettot['status']==200)] \n",
    "EionettotOk = Eionettot[(Eionettot['status']==404)]"
   ]
  },
  {
   "cell_type": "code",
   "execution_count": null,
   "id": "131b6b52",
   "metadata": {},
   "outputs": [],
   "source": [
    "EionettotError.shape"
   ]
  },
  {
   "cell_type": "code",
   "execution_count": null,
   "id": "645c8af7",
   "metadata": {},
   "outputs": [],
   "source": [
    "EionettotError.value_counts(\"country\")"
   ]
  },
  {
   "cell_type": "code",
   "execution_count": null,
   "id": "d6d82ca4",
   "metadata": {},
   "outputs": [],
   "source": [
    "EionettotOk.shape"
   ]
  },
  {
   "cell_type": "code",
   "execution_count": null,
   "id": "cbcbbed6",
   "metadata": {},
   "outputs": [],
   "source": [
    "EionettotOk.value_counts(\"country\")"
   ]
  },
  {
   "cell_type": "code",
   "execution_count": null,
   "id": "d5ce300a",
   "metadata": {},
   "outputs": [],
   "source": [
    "EionettotOk.to_csv(\"BathIdentifier_Ok.csv\")\n",
    "EionettotError.to_csv(\"BathIdentifier_Error.csv\")\n",
    "Eionettot.to_csv(\"BathIdentifier_All.csv\")\n"
   ]
  },
  {
   "cell_type": "markdown",
   "id": "0c4d6920",
   "metadata": {},
   "source": [
    "Generate Markdown table eg.\n",
    "| 20210610 | 3176 | 2240 | 936 |\n"
   ]
  },
  {
   "cell_type": "code",
   "execution_count": null,
   "id": "443cee0d",
   "metadata": {},
   "outputs": [],
   "source": [
    "print(\"|\",start_time.strftime(\"%Y%m%d\"),\"|\", \\\n",
    "      Eionettot.shape[0],\"|\", \\\n",
    "      EionettotOk.shape[0],\"|\", \\\n",
    "      EionettotError.shape[0],\"|\",)\n"
   ]
  },
  {
   "cell_type": "code",
   "execution_count": null,
   "id": "3ba992e0",
   "metadata": {},
   "outputs": [],
   "source": [
    "end = datetime.now()\n",
    "print(\"Ended: \", end) \n",
    "print('Time elapsed (hh:mm:ss.ms) {}'.format(datetime.now() - start_time))"
   ]
  },
  {
   "cell_type": "code",
   "execution_count": null,
   "id": "6d9e188e",
   "metadata": {},
   "outputs": [],
   "source": []
  }
 ],
 "metadata": {
  "kernelspec": {
   "display_name": "Python 3",
   "language": "python",
   "name": "python3"
  },
  "language_info": {
   "codemirror_mode": {
    "name": "ipython",
    "version": 3
   },
   "file_extension": ".py",
   "mimetype": "text/x-python",
   "name": "python",
   "nbconvert_exporter": "python",
   "pygments_lexer": "ipython3",
   "version": "3.9.4"
  }
 },
 "nbformat": 4,
 "nbformat_minor": 5
}
