{
 "cells": [
  {
   "cell_type": "markdown",
   "id": "4a0e87c4",
   "metadata": {},
   "source": [
    "Get all Swedish Bathing Waters in this project from Wikidata and checks if they are connected to an OSM object using an [API](https://osm.wikidata.link/tagged)\n",
    "\n",
    "* [github salgo60/Svenskabadplatser](https://github.com/salgo60/Svenskabadplatser)\n",
    "* this [Notebook](https://github.com/salgo60/Svenskabadplatser/blob/main/Jupyter/OSM_Wikidata_Bathwater.ipynb)\n",
    "\n",
    "* API [Wikidata to OpenStreetMap](https://osm.wikidata.link/tagged)\n",
    "  * ex [https://osm.wikidata.link/tagged/api/item/Q106708773](https://osm.wikidata.link/tagged/api/item/Q106708773)\n",
    "* Wikidata badplats <-> Naturreservat [SPARQL](https://w.wiki/3MwX)\n",
    "  * Lesson learned: inte alla Naturreservat finns på Open Street Map\n",
    "\n",
    "* Another tool [osm.wikidata.link](https://osm.wikidata.link/search)\n",
    "  \n",
    "Status:  \n",
    "\n",
    "\n",
    "\n",
    "| Date | Badplatser | ej WD - OSM | Vatten | ej WD - OSM |naturreservat | ej WD - OSM  |\n",
    "| ------------- |:-------------:|:-------------:|:-------------:|:-------------:|:-------------:| -----:|\n",
    "| 20210529 | 2812 | 1946 | 1149 | 197 | 214 | 16\n",
    "| 20210528 | 2811 | 1953 | 1149 | 196 | 214 | 16\n",
    "| 20210527 | 2809 | 1991 | 1228 | 232 | 214 | 16\n",
    "| 20210526 | 2806 | 2029 | 1202 | 235 | 213 | 16\n",
    "| 20210525     | 2789 | 2076 |1104 | 234 | 209|84|\n",
    "| 20210524     | 2787 | 2787 |1094 | 230 | 208|84| \n",
    "| 20210523     | 2766 | 2120 |1030 | 219 | 205|86|\n",
    "| 20210522     | 2761 | 2142 |1001 | 216 | 205|87|\n",
    "| 20210521     | 2756 | 2199 |979 | 215 | ||\n",
    "| 20210519     | 2757 | 2257 |594 | 59 | ||\n",
    "| 20210518     | 2755 | 2327 |484 | 60 | ||\n",
    "\n",
    "TODO: \n",
    "* Vatten är sjöar och Kustvatten. Kustvatten verkar inte finnas i OSM så kanske skilja dom åt"
   ]
  },
  {
   "cell_type": "code",
   "execution_count": 1,
   "id": "b20809ea",
   "metadata": {},
   "outputs": [
    {
     "name": "stdout",
     "output_type": "stream",
     "text": [
      "Last run:  2021-05-29 14:48:59.665073\n"
     ]
    }
   ],
   "source": [
    "from datetime import datetime\n",
    "start_time  = datetime.now()\n",
    "print(\"Last run: \", start_time)"
   ]
  },
  {
   "cell_type": "code",
   "execution_count": 2,
   "id": "903ccc82",
   "metadata": {},
   "outputs": [],
   "source": [
    "import pandas as pd\n"
   ]
  },
  {
   "cell_type": "code",
   "execution_count": 3,
   "id": "1f3346e9",
   "metadata": {},
   "outputs": [
    {
     "data": {
      "text/plain": [
       "(2812, 8)"
      ]
     },
     "execution_count": 3,
     "metadata": {},
     "output_type": "execute_result"
    }
   ],
   "source": [
    "#\n",
    "# pip install sparqlwrapper\n",
    "# https://rdflib.github.io/sparqlwrapper/\n",
    "\n",
    "import sys,json\n",
    "from SPARQLWrapper import SPARQLWrapper, JSON\n",
    "\n",
    "endpoint_url = \"https://query.wikidata.org/sparql\"\n",
    " \n",
    "# https://w.wiki/3LWk    \n",
    "queryBath = \"\"\"SELECT (REPLACE(STR(?nodeBath), \".*Q\", \"Q\") AS ?qbathid) ?nodeBathLabel ?nutsCode ?SJOID\n",
    "(REPLACE(STR(?nodeWater), \".*Q\", \"Q\") AS ?qlakeid) ?nodeWaterLabel ?coord WHERE {\n",
    "  ?nodeBath wdt:P6104 wd:Q106774536.\n",
    "  OPTIONAL { ?nodeBath wdt:P605 ?nutsCode. }\n",
    "  OPTIONAL { ?nodeBath wdt:P625 ?coord. }\n",
    "  OPTIONAL {\n",
    "    ?nodeBath wdt:P206 ?nodeWater.\n",
    "    OPTIONAL { ?nodeWater wdt:P761 ?SJOID. }\n",
    "  }\n",
    "  SERVICE wikibase:label { bd:serviceParam wikibase:language \"sv,en\". }\n",
    "}\n",
    "ORDER BY (?nodeBathLabel)\"\"\"\n",
    "\n",
    "\n",
    "def get_sparql_dataframe(endpoint_url, query):\n",
    "    \"\"\"\n",
    "    Helper function to convert SPARQL results into a Pandas data frame.\n",
    "    \"\"\"\n",
    "    user_agent = \"salgo60/%s.%s\" % (sys.version_info[0], sys.version_info[1])\n",
    " \n",
    "    sparql = SPARQLWrapper(endpoint_url, agent=user_agent)\n",
    "    sparql.setQuery(query)\n",
    "    sparql.setReturnFormat(JSON)\n",
    "    result = sparql.query()\n",
    "\n",
    "    processed_results = json.load(result.response)\n",
    "    cols = processed_results['head']['vars']\n",
    "\n",
    "    out = []\n",
    "    for row in processed_results['results']['bindings']:\n",
    "        item = []\n",
    "        for c in cols:\n",
    "            item.append(row.get(c, {}).get('value'))\n",
    "        out.append(item)\n",
    "\n",
    "    return pd.DataFrame(out, columns=cols)\n",
    "\n",
    "WDBath = get_sparql_dataframe(endpoint_url, queryBath)\n",
    "WDBath[\"Source\"] = \"WD\"     \n",
    "WDBath.shape"
   ]
  },
  {
   "cell_type": "code",
   "execution_count": 4,
   "id": "f7c09c8c",
   "metadata": {},
   "outputs": [
    {
     "data": {
      "text/html": [
       "<div>\n",
       "<style scoped>\n",
       "    .dataframe tbody tr th:only-of-type {\n",
       "        vertical-align: middle;\n",
       "    }\n",
       "\n",
       "    .dataframe tbody tr th {\n",
       "        vertical-align: top;\n",
       "    }\n",
       "\n",
       "    .dataframe thead th {\n",
       "        text-align: right;\n",
       "    }\n",
       "</style>\n",
       "<table border=\"1\" class=\"dataframe\">\n",
       "  <thead>\n",
       "    <tr style=\"text-align: right;\">\n",
       "      <th></th>\n",
       "      <th>qbathid</th>\n",
       "      <th>nodeBathLabel</th>\n",
       "      <th>nutsCode</th>\n",
       "      <th>SJOID</th>\n",
       "      <th>qlakeid</th>\n",
       "      <th>nodeWaterLabel</th>\n",
       "      <th>coord</th>\n",
       "      <th>Source</th>\n",
       "    </tr>\n",
       "  </thead>\n",
       "  <tbody>\n",
       "    <tr>\n",
       "      <th>0</th>\n",
       "      <td>Q106708773</td>\n",
       "      <td>Abborrbergets badplats</td>\n",
       "      <td>SE0220486000001903</td>\n",
       "      <td>658887-156656</td>\n",
       "      <td>Q35694946</td>\n",
       "      <td>Strängnäsfjärden</td>\n",
       "      <td>Point(17.037397412 59.384608492)</td>\n",
       "      <td>WD</td>\n",
       "    </tr>\n",
       "    <tr>\n",
       "      <th>1</th>\n",
       "      <td>Q106707080</td>\n",
       "      <td>Abborrsjöns badplats</td>\n",
       "      <td>SE0411060000000277</td>\n",
       "      <td>624471-143063</td>\n",
       "      <td>Q16275305</td>\n",
       "      <td>Abborrasjön</td>\n",
       "      <td>Point(14.691359 56.326564)</td>\n",
       "      <td>WD</td>\n",
       "    </tr>\n",
       "    <tr>\n",
       "      <th>2</th>\n",
       "      <td>Q106707080</td>\n",
       "      <td>Abborrsjöns badplats</td>\n",
       "      <td>SE0411060000000277</td>\n",
       "      <td>624471-143063</td>\n",
       "      <td>Q16275305</td>\n",
       "      <td>Abborrasjön</td>\n",
       "      <td>Point(14.691358723 56.326564061)</td>\n",
       "      <td>WD</td>\n",
       "    </tr>\n",
       "    <tr>\n",
       "      <th>3</th>\n",
       "      <td>Q106711299</td>\n",
       "      <td>Abborrtjärns badplats</td>\n",
       "      <td>SE0812404000003683</td>\n",
       "      <td>713089-168959</td>\n",
       "      <td>Q16487572</td>\n",
       "      <td>Abborrtjärnen</td>\n",
       "      <td>Point(19.724889698 64.231408958)</td>\n",
       "      <td>WD</td>\n",
       "    </tr>\n",
       "    <tr>\n",
       "      <th>4</th>\n",
       "      <td>Q106708954</td>\n",
       "      <td>Abborrtjärns badplats</td>\n",
       "      <td>SE0611763000002279</td>\n",
       "      <td>660121-136542</td>\n",
       "      <td>Q16275388</td>\n",
       "      <td>Abborrtjärn</td>\n",
       "      <td>Point(13.4333 59.5096)</td>\n",
       "      <td>WD</td>\n",
       "    </tr>\n",
       "  </tbody>\n",
       "</table>\n",
       "</div>"
      ],
      "text/plain": [
       "      qbathid           nodeBathLabel            nutsCode          SJOID  \\\n",
       "0  Q106708773  Abborrbergets badplats  SE0220486000001903  658887-156656   \n",
       "1  Q106707080    Abborrsjöns badplats  SE0411060000000277  624471-143063   \n",
       "2  Q106707080    Abborrsjöns badplats  SE0411060000000277  624471-143063   \n",
       "3  Q106711299   Abborrtjärns badplats  SE0812404000003683  713089-168959   \n",
       "4  Q106708954   Abborrtjärns badplats  SE0611763000002279  660121-136542   \n",
       "\n",
       "     qlakeid    nodeWaterLabel                             coord Source  \n",
       "0  Q35694946  Strängnäsfjärden  Point(17.037397412 59.384608492)     WD  \n",
       "1  Q16275305       Abborrasjön        Point(14.691359 56.326564)     WD  \n",
       "2  Q16275305       Abborrasjön  Point(14.691358723 56.326564061)     WD  \n",
       "3  Q16487572     Abborrtjärnen  Point(19.724889698 64.231408958)     WD  \n",
       "4  Q16275388       Abborrtjärn            Point(13.4333 59.5096)     WD  "
      ]
     },
     "execution_count": 4,
     "metadata": {},
     "output_type": "execute_result"
    }
   ],
   "source": [
    "WDBath.head()"
   ]
  },
  {
   "cell_type": "code",
   "execution_count": 5,
   "id": "518ba6fe",
   "metadata": {},
   "outputs": [
    {
     "name": "stderr",
     "output_type": "stream",
     "text": [
      "100%|██████████| 2812/2812 [04:17<00:00, 10.91it/s]"
     ]
    },
    {
     "name": "stdout",
     "output_type": "stream",
     "text": [
      "2812\n"
     ]
    },
    {
     "name": "stderr",
     "output_type": "stream",
     "text": [
      "\n"
     ]
    }
   ],
   "source": [
    "import urllib3, json\n",
    "from tqdm import tqdm\n",
    "http = urllib3.PoolManager()\n",
    "\n",
    "listBath = []\n",
    "#for WD, row in WDBath.iterrows():\n",
    "for WD, row in tqdm(WDBath.iterrows(), total=WDBath.shape[0]):\n",
    "    #print(row[\"qbathid\"] ) \n",
    "    url = \"https://osm.wikidata.link/tagged/api/item/\" + row[\"qbathid\"] \n",
    "    \n",
    "    new_item = dict()\n",
    "    new_item['wikidata'] = row[\"qbathid\"] \n",
    "    new_item['coord'] = row[\"coord\"] \n",
    "    r = http.request('GET', url) \n",
    "    data = json.loads(r.data.decode('utf-8'))\n",
    "#    print (r.status)\n",
    "    try:\n",
    "        #print (\"OSM \", data[\"osm\"], \"Type: \", type(data[\"osm\"]))\n",
    "        #print (\"ID: \", data[\"osm\"][0][\"id\"])\n",
    "        osmid = data[\"osm\"][0][\"id\"]        \n",
    "    except:\n",
    "        #print (\"error\")\n",
    "        osmid =\"\"\n",
    "    new_item['osmid'] = osmid \n",
    "    listBath.append(new_item)\n",
    "print (len(listBath))"
   ]
  },
  {
   "cell_type": "code",
   "execution_count": 6,
   "id": "97bb95a8",
   "metadata": {},
   "outputs": [
    {
     "data": {
      "text/plain": [
       "(2812, 3)"
      ]
     },
     "execution_count": 6,
     "metadata": {},
     "output_type": "execute_result"
    }
   ],
   "source": [
    "OSMtot = pd.DataFrame(listBath,\n",
    "                  columns=['wikidata','coord','osmid'])\n",
    "OSMtot.shape\n"
   ]
  },
  {
   "cell_type": "code",
   "execution_count": 7,
   "id": "a36b2560",
   "metadata": {},
   "outputs": [
    {
     "data": {
      "text/html": [
       "<div>\n",
       "<style scoped>\n",
       "    .dataframe tbody tr th:only-of-type {\n",
       "        vertical-align: middle;\n",
       "    }\n",
       "\n",
       "    .dataframe tbody tr th {\n",
       "        vertical-align: top;\n",
       "    }\n",
       "\n",
       "    .dataframe thead th {\n",
       "        text-align: right;\n",
       "    }\n",
       "</style>\n",
       "<table border=\"1\" class=\"dataframe\">\n",
       "  <thead>\n",
       "    <tr style=\"text-align: right;\">\n",
       "      <th></th>\n",
       "      <th>wikidata</th>\n",
       "      <th>coord</th>\n",
       "      <th>osmid</th>\n",
       "    </tr>\n",
       "  </thead>\n",
       "  <tbody>\n",
       "    <tr>\n",
       "      <th>0</th>\n",
       "      <td>Q106708773</td>\n",
       "      <td>Point(17.037397412 59.384608492)</td>\n",
       "      <td>8725492343</td>\n",
       "    </tr>\n",
       "    <tr>\n",
       "      <th>1</th>\n",
       "      <td>Q106707080</td>\n",
       "      <td>Point(14.691359 56.326564)</td>\n",
       "      <td>8737463766</td>\n",
       "    </tr>\n",
       "    <tr>\n",
       "      <th>2</th>\n",
       "      <td>Q106707080</td>\n",
       "      <td>Point(14.691358723 56.326564061)</td>\n",
       "      <td>8737463766</td>\n",
       "    </tr>\n",
       "    <tr>\n",
       "      <th>3</th>\n",
       "      <td>Q106711299</td>\n",
       "      <td>Point(19.724889698 64.231408958)</td>\n",
       "      <td>8763990476</td>\n",
       "    </tr>\n",
       "    <tr>\n",
       "      <th>4</th>\n",
       "      <td>Q106708954</td>\n",
       "      <td>Point(13.4333 59.5096)</td>\n",
       "      <td>356838031</td>\n",
       "    </tr>\n",
       "    <tr>\n",
       "      <th>5</th>\n",
       "      <td>Q106710481</td>\n",
       "      <td>Point(18.576809583 65.354219925)</td>\n",
       "      <td>943675486</td>\n",
       "    </tr>\n",
       "    <tr>\n",
       "      <th>6</th>\n",
       "      <td>Q106708549</td>\n",
       "      <td>Point(14.397042778 57.006691546)</td>\n",
       "      <td>8763997383</td>\n",
       "    </tr>\n",
       "    <tr>\n",
       "      <th>7</th>\n",
       "      <td>Q106708324</td>\n",
       "      <td>Point(14.155285315 56.744170005)</td>\n",
       "      <td>4428909177</td>\n",
       "    </tr>\n",
       "    <tr>\n",
       "      <th>8</th>\n",
       "      <td>Q106708011</td>\n",
       "      <td>Point(13.779767114 57.251420376)</td>\n",
       "      <td>8737439015</td>\n",
       "    </tr>\n",
       "    <tr>\n",
       "      <th>9</th>\n",
       "      <td>Q106689287</td>\n",
       "      <td>Point(18.4089 59.2016)</td>\n",
       "      <td>5347857709</td>\n",
       "    </tr>\n",
       "  </tbody>\n",
       "</table>\n",
       "</div>"
      ],
      "text/plain": [
       "     wikidata                             coord       osmid\n",
       "0  Q106708773  Point(17.037397412 59.384608492)  8725492343\n",
       "1  Q106707080        Point(14.691359 56.326564)  8737463766\n",
       "2  Q106707080  Point(14.691358723 56.326564061)  8737463766\n",
       "3  Q106711299  Point(19.724889698 64.231408958)  8763990476\n",
       "4  Q106708954            Point(13.4333 59.5096)   356838031\n",
       "5  Q106710481  Point(18.576809583 65.354219925)   943675486\n",
       "6  Q106708549  Point(14.397042778 57.006691546)  8763997383\n",
       "7  Q106708324  Point(14.155285315 56.744170005)  4428909177\n",
       "8  Q106708011  Point(13.779767114 57.251420376)  8737439015\n",
       "9  Q106689287            Point(18.4089 59.2016)  5347857709"
      ]
     },
     "execution_count": 7,
     "metadata": {},
     "output_type": "execute_result"
    }
   ],
   "source": [
    "pd.set_option('max_colwidth', 400)\n",
    "OSMtot.head(10)"
   ]
  },
  {
   "cell_type": "code",
   "execution_count": 8,
   "id": "5073b2d5",
   "metadata": {},
   "outputs": [
    {
     "data": {
      "text/plain": [
       "(1958, 3)"
      ]
     },
     "execution_count": 8,
     "metadata": {},
     "output_type": "execute_result"
    }
   ],
   "source": [
    "#OSMempty = OSMtot.osmid.notnull()\n",
    "OSMtot[(OSMtot['osmid']==\"\")].shape"
   ]
  },
  {
   "cell_type": "code",
   "execution_count": 9,
   "id": "131b6b52",
   "metadata": {},
   "outputs": [],
   "source": [
    "OSMEmpty =OSMtot[(OSMtot['osmid']==\"\")]"
   ]
  },
  {
   "cell_type": "code",
   "execution_count": 10,
   "id": "49eb18cb",
   "metadata": {},
   "outputs": [
    {
     "data": {
      "text/plain": [
       "(1958, 3)"
      ]
     },
     "execution_count": 10,
     "metadata": {},
     "output_type": "execute_result"
    }
   ],
   "source": [
    "OSMEmpty.shape"
   ]
  },
  {
   "cell_type": "code",
   "execution_count": 11,
   "id": "d5ce300a",
   "metadata": {},
   "outputs": [
    {
     "data": {
      "text/html": [
       "<div>\n",
       "<style scoped>\n",
       "    .dataframe tbody tr th:only-of-type {\n",
       "        vertical-align: middle;\n",
       "    }\n",
       "\n",
       "    .dataframe tbody tr th {\n",
       "        vertical-align: top;\n",
       "    }\n",
       "\n",
       "    .dataframe thead th {\n",
       "        text-align: right;\n",
       "    }\n",
       "</style>\n",
       "<table border=\"1\" class=\"dataframe\">\n",
       "  <thead>\n",
       "    <tr style=\"text-align: right;\">\n",
       "      <th></th>\n",
       "      <th>wikidata</th>\n",
       "      <th>coord</th>\n",
       "      <th>osmid</th>\n",
       "    </tr>\n",
       "  </thead>\n",
       "  <tbody>\n",
       "    <tr>\n",
       "      <th>12</th>\n",
       "      <td>Q106709184</td>\n",
       "      <td>Point(14.414252823 59.404268046)</td>\n",
       "      <td></td>\n",
       "    </tr>\n",
       "    <tr>\n",
       "      <th>16</th>\n",
       "      <td>Q106708747</td>\n",
       "      <td>Point(18.158786988 59.25280499)</td>\n",
       "      <td></td>\n",
       "    </tr>\n",
       "    <tr>\n",
       "      <th>24</th>\n",
       "      <td>Q106709070</td>\n",
       "      <td>Point(14.869880056 60.749363203)</td>\n",
       "      <td></td>\n",
       "    </tr>\n",
       "    <tr>\n",
       "      <th>25</th>\n",
       "      <td>Q106708712</td>\n",
       "      <td>Point(15.445449575 58.121240586)</td>\n",
       "      <td></td>\n",
       "    </tr>\n",
       "    <tr>\n",
       "      <th>27</th>\n",
       "      <td>Q106708053</td>\n",
       "      <td>Point(14.812960627 57.823274799)</td>\n",
       "      <td></td>\n",
       "    </tr>\n",
       "  </tbody>\n",
       "</table>\n",
       "</div>"
      ],
      "text/plain": [
       "      wikidata                             coord osmid\n",
       "12  Q106709184  Point(14.414252823 59.404268046)      \n",
       "16  Q106708747   Point(18.158786988 59.25280499)      \n",
       "24  Q106709070  Point(14.869880056 60.749363203)      \n",
       "25  Q106708712  Point(15.445449575 58.121240586)      \n",
       "27  Q106708053  Point(14.812960627 57.823274799)      "
      ]
     },
     "execution_count": 11,
     "metadata": {},
     "output_type": "execute_result"
    }
   ],
   "source": [
    "OSMEmpty.to_csv(\"WD - OSM Badplatser saknas.csv\")\n",
    "\n",
    "OSMEmpty.head()"
   ]
  },
  {
   "cell_type": "markdown",
   "id": "1d55ba15",
   "metadata": {},
   "source": [
    "### Check sjöar"
   ]
  },
  {
   "cell_type": "code",
   "execution_count": 12,
   "id": "27de3575",
   "metadata": {},
   "outputs": [
    {
     "data": {
      "text/plain": [
       "(1149, 8)"
      ]
     },
     "execution_count": 12,
     "metadata": {},
     "output_type": "execute_result"
    }
   ],
   "source": [
    "querySeaMinusKust = \"\"\"SELECT (REPLACE(STR(?nodeBath), \".*Q\", \"Q\") AS ?qbathid) ?nodeBathLabel ?nutsCode ?SJOID\n",
    "(REPLACE(STR(?nodeWater), \".*Q\", \"Q\") AS ?qlakeid) ?nodeWaterLabel ?coord WHERE {\n",
    "  ?nodeBath wdt:P6104 wd:Q106774536.\n",
    "  OPTIONAL { ?nodeBath wdt:P605 ?nutsCode. }\n",
    "  OPTIONAL { ?nodeBath wdt:P625 ?coord. }\n",
    "   {\n",
    "    ?nodeBath wdt:P206 ?nodeWater.\n",
    "    OPTIONAL { ?nodeWater wdt:P761 ?SJOID. }\n",
    "    minus {?nodeWater wdt:P31 wd:Q16615865}\n",
    "  }\n",
    "  SERVICE wikibase:label { bd:serviceParam wikibase:language \"sv,en\". }\n",
    "}\n",
    "ORDER BY (?nodeBathLabel)\"\"\"\n",
    "# https://w.wiki/3LqW\n",
    "querySea = \"\"\"SELECT (REPLACE(STR(?nodeBath), \".*Q\", \"Q\") AS ?qbathid) ?nodeBathLabel ?nutsCode ?SJOID\n",
    "(REPLACE(STR(?nodeWater), \".*Q\", \"Q\") AS ?qlakeid) ?nodeWaterLabel ?coord WHERE {\n",
    "  ?nodeBath wdt:P6104 wd:Q106774536.\n",
    "  OPTIONAL { ?nodeBath wdt:P605 ?nutsCode. }\n",
    "  OPTIONAL { ?nodeBath wdt:P625 ?coord. }\n",
    "   {\n",
    "    ?nodeBath wdt:P206 ?nodeWater.\n",
    "    OPTIONAL { ?nodeWater wdt:P761 ?SJOID. }\n",
    "  }\n",
    "  SERVICE wikibase:label { bd:serviceParam wikibase:language \"sv,en\". }\n",
    "}\n",
    "ORDER BY (?nodeBathLabel)\"\"\"\n",
    "WDSea = get_sparql_dataframe(endpoint_url, querySeaMinusKust)\n",
    "WDSea[\"Source\"] = \"WD\"     \n",
    "WDSea.shape"
   ]
  },
  {
   "cell_type": "code",
   "execution_count": 13,
   "id": "74ec57bf",
   "metadata": {},
   "outputs": [
    {
     "data": {
      "text/html": [
       "<div>\n",
       "<style scoped>\n",
       "    .dataframe tbody tr th:only-of-type {\n",
       "        vertical-align: middle;\n",
       "    }\n",
       "\n",
       "    .dataframe tbody tr th {\n",
       "        vertical-align: top;\n",
       "    }\n",
       "\n",
       "    .dataframe thead th {\n",
       "        text-align: right;\n",
       "    }\n",
       "</style>\n",
       "<table border=\"1\" class=\"dataframe\">\n",
       "  <thead>\n",
       "    <tr style=\"text-align: right;\">\n",
       "      <th></th>\n",
       "      <th>qbathid</th>\n",
       "      <th>nodeBathLabel</th>\n",
       "      <th>nutsCode</th>\n",
       "      <th>SJOID</th>\n",
       "      <th>qlakeid</th>\n",
       "      <th>nodeWaterLabel</th>\n",
       "      <th>coord</th>\n",
       "      <th>Source</th>\n",
       "    </tr>\n",
       "  </thead>\n",
       "  <tbody>\n",
       "    <tr>\n",
       "      <th>0</th>\n",
       "      <td>Q106708773</td>\n",
       "      <td>Abborrbergets badplats</td>\n",
       "      <td>SE0220486000001903</td>\n",
       "      <td>658887-156656</td>\n",
       "      <td>Q35694946</td>\n",
       "      <td>Strängnäsfjärden</td>\n",
       "      <td>Point(17.037397412 59.384608492)</td>\n",
       "      <td>WD</td>\n",
       "    </tr>\n",
       "    <tr>\n",
       "      <th>1</th>\n",
       "      <td>Q106707080</td>\n",
       "      <td>Abborrsjöns badplats</td>\n",
       "      <td>SE0411060000000277</td>\n",
       "      <td>624471-143063</td>\n",
       "      <td>Q16275305</td>\n",
       "      <td>Abborrasjön</td>\n",
       "      <td>Point(14.691359 56.326564)</td>\n",
       "      <td>WD</td>\n",
       "    </tr>\n",
       "    <tr>\n",
       "      <th>2</th>\n",
       "      <td>Q106707080</td>\n",
       "      <td>Abborrsjöns badplats</td>\n",
       "      <td>SE0411060000000277</td>\n",
       "      <td>624471-143063</td>\n",
       "      <td>Q16275305</td>\n",
       "      <td>Abborrasjön</td>\n",
       "      <td>Point(14.691358723 56.326564061)</td>\n",
       "      <td>WD</td>\n",
       "    </tr>\n",
       "    <tr>\n",
       "      <th>3</th>\n",
       "      <td>Q106708954</td>\n",
       "      <td>Abborrtjärns badplats</td>\n",
       "      <td>SE0611763000002279</td>\n",
       "      <td>660121-136542</td>\n",
       "      <td>Q16275388</td>\n",
       "      <td>Abborrtjärn</td>\n",
       "      <td>Point(13.4333 59.5096)</td>\n",
       "      <td>WD</td>\n",
       "    </tr>\n",
       "    <tr>\n",
       "      <th>4</th>\n",
       "      <td>Q106711299</td>\n",
       "      <td>Abborrtjärns badplats</td>\n",
       "      <td>SE0812404000003683</td>\n",
       "      <td>713089-168959</td>\n",
       "      <td>Q16487572</td>\n",
       "      <td>Abborrtjärnen</td>\n",
       "      <td>Point(19.724889698 64.231408958)</td>\n",
       "      <td>WD</td>\n",
       "    </tr>\n",
       "  </tbody>\n",
       "</table>\n",
       "</div>"
      ],
      "text/plain": [
       "      qbathid           nodeBathLabel            nutsCode          SJOID  \\\n",
       "0  Q106708773  Abborrbergets badplats  SE0220486000001903  658887-156656   \n",
       "1  Q106707080    Abborrsjöns badplats  SE0411060000000277  624471-143063   \n",
       "2  Q106707080    Abborrsjöns badplats  SE0411060000000277  624471-143063   \n",
       "3  Q106708954   Abborrtjärns badplats  SE0611763000002279  660121-136542   \n",
       "4  Q106711299   Abborrtjärns badplats  SE0812404000003683  713089-168959   \n",
       "\n",
       "     qlakeid    nodeWaterLabel                             coord Source  \n",
       "0  Q35694946  Strängnäsfjärden  Point(17.037397412 59.384608492)     WD  \n",
       "1  Q16275305       Abborrasjön        Point(14.691359 56.326564)     WD  \n",
       "2  Q16275305       Abborrasjön  Point(14.691358723 56.326564061)     WD  \n",
       "3  Q16275388       Abborrtjärn            Point(13.4333 59.5096)     WD  \n",
       "4  Q16487572     Abborrtjärnen  Point(19.724889698 64.231408958)     WD  "
      ]
     },
     "execution_count": 13,
     "metadata": {},
     "output_type": "execute_result"
    }
   ],
   "source": [
    "WDSea.head()"
   ]
  },
  {
   "cell_type": "code",
   "execution_count": 14,
   "id": "40ab8b07",
   "metadata": {},
   "outputs": [
    {
     "name": "stderr",
     "output_type": "stream",
     "text": [
      " 41%|████      | 1149/2812 [01:46<02:34, 10.75it/s]"
     ]
    },
    {
     "name": "stdout",
     "output_type": "stream",
     "text": [
      "1149\n"
     ]
    },
    {
     "name": "stderr",
     "output_type": "stream",
     "text": [
      "\n"
     ]
    }
   ],
   "source": [
    "listSea = []\n",
    "#for WD, row in WDBath.iterrows():\n",
    "for WD, row in tqdm(WDSea.iterrows(), total=WDBath.shape[0]):\n",
    "    #print(row[\"qlakeid\"] ) \n",
    "    url = \"https://osm.wikidata.link/tagged/api/item/\" + row[\"qlakeid\"] \n",
    "    \n",
    "    new_item = dict()\n",
    "    new_item['wikidata'] = row[\"qlakeid\"] \n",
    "    r = http.request('GET', url) \n",
    "    data = json.loads(r.data.decode('utf-8'))\n",
    "    try:\n",
    "        #print (\"ID: \", data[\"osm\"][0][\"id\"])\n",
    "\n",
    "        osmid = data[\"osm\"][0][\"id\"] \n",
    "        \n",
    "    except:\n",
    "        #print (\"error\")\n",
    "        osmid =\"\"\n",
    "    new_item['osmid'] = osmid \n",
    "    listSea.append(new_item)\n",
    "print (len(listSea))\n",
    "OSMSeatot = pd.DataFrame(listSea,\n",
    "                  columns=['wikidata','osmid'])"
   ]
  },
  {
   "cell_type": "code",
   "execution_count": 15,
   "id": "d0e3c014",
   "metadata": {},
   "outputs": [
    {
     "data": {
      "text/html": [
       "<div>\n",
       "<style scoped>\n",
       "    .dataframe tbody tr th:only-of-type {\n",
       "        vertical-align: middle;\n",
       "    }\n",
       "\n",
       "    .dataframe tbody tr th {\n",
       "        vertical-align: top;\n",
       "    }\n",
       "\n",
       "    .dataframe thead th {\n",
       "        text-align: right;\n",
       "    }\n",
       "</style>\n",
       "<table border=\"1\" class=\"dataframe\">\n",
       "  <thead>\n",
       "    <tr style=\"text-align: right;\">\n",
       "      <th></th>\n",
       "      <th>wikidata</th>\n",
       "      <th>osmid</th>\n",
       "    </tr>\n",
       "  </thead>\n",
       "  <tbody>\n",
       "    <tr>\n",
       "      <th>0</th>\n",
       "      <td>Q35694946</td>\n",
       "      <td></td>\n",
       "    </tr>\n",
       "    <tr>\n",
       "      <th>1</th>\n",
       "      <td>Q16275305</td>\n",
       "      <td>10677610</td>\n",
       "    </tr>\n",
       "    <tr>\n",
       "      <th>2</th>\n",
       "      <td>Q16275305</td>\n",
       "      <td>10677610</td>\n",
       "    </tr>\n",
       "    <tr>\n",
       "      <th>3</th>\n",
       "      <td>Q16275388</td>\n",
       "      <td>241597601</td>\n",
       "    </tr>\n",
       "    <tr>\n",
       "      <th>4</th>\n",
       "      <td>Q16487572</td>\n",
       "      <td>30167501</td>\n",
       "    </tr>\n",
       "  </tbody>\n",
       "</table>\n",
       "</div>"
      ],
      "text/plain": [
       "    wikidata      osmid\n",
       "0  Q35694946           \n",
       "1  Q16275305   10677610\n",
       "2  Q16275305   10677610\n",
       "3  Q16275388  241597601\n",
       "4  Q16487572   30167501"
      ]
     },
     "execution_count": 15,
     "metadata": {},
     "output_type": "execute_result"
    }
   ],
   "source": [
    "OSMSeatot.head()"
   ]
  },
  {
   "cell_type": "code",
   "execution_count": 16,
   "id": "00e1610c",
   "metadata": {},
   "outputs": [
    {
     "data": {
      "text/plain": [
       "(234, 2)"
      ]
     },
     "execution_count": 16,
     "metadata": {},
     "output_type": "execute_result"
    }
   ],
   "source": [
    "OSMSeaEmpty=OSMSeatot[(OSMSeatot['osmid']==\"\")]\n",
    "# OSMSeaEmpty.wikidata.unique()  \n",
    "#pd.Series(OSMSeaEmpty.wikidata.unique().sort(),dtype=pd.StringDtype()).to_csv(\"WD - OSM Vatten saknas.csv\")\n",
    "pd.Series(OSMSeaEmpty.wikidata.unique()).to_csv(\"WD - OSM Vatten saknas.csv\")\n",
    "\n",
    "OSMSeaEmpty.shape\n"
   ]
  },
  {
   "cell_type": "markdown",
   "id": "6d65b891",
   "metadata": {},
   "source": [
    "# Check Naturreservat"
   ]
  },
  {
   "cell_type": "code",
   "execution_count": 17,
   "id": "0a55f57d",
   "metadata": {},
   "outputs": [
    {
     "data": {
      "text/plain": [
       "(214, 6)"
      ]
     },
     "execution_count": 17,
     "metadata": {},
     "output_type": "execute_result"
    }
   ],
   "source": [
    "# https://w.wiki/3N6L\n",
    "queryNature = \"\"\"SELECT (REPLACE(STR(?nodeBath), \".*Q\", \"Q\") AS ?qbathid) ?nodeBathLabel ?nutsCode ?Naturreg\n",
    "(REPLACE(STR(?naturreservat), \".*Q\", \"Q\") AS ?naturreservatID)  WHERE {\n",
    "  ?nodeBath wdt:P6104 wd:Q106774536.\n",
    "  OPTIONAL {?nodeBath wdt:P605 ?nutsCode }\n",
    "  ?nodeBath wdt:P276 ?naturreservat.\n",
    "  ?naturreservat wdt:P3613 ?Naturreg. # --> reservat\n",
    "  SERVICE wikibase:label { bd:serviceParam wikibase:language \"sv,en\". }\n",
    "}\n",
    "\"\"\"\n",
    "WDNature = get_sparql_dataframe(endpoint_url, queryNature)\n",
    "WDNature[\"Source\"] = \"WD\"     \n",
    "WDNature.shape"
   ]
  },
  {
   "cell_type": "code",
   "execution_count": 18,
   "id": "df33c5f1",
   "metadata": {},
   "outputs": [
    {
     "data": {
      "text/html": [
       "<div>\n",
       "<style scoped>\n",
       "    .dataframe tbody tr th:only-of-type {\n",
       "        vertical-align: middle;\n",
       "    }\n",
       "\n",
       "    .dataframe tbody tr th {\n",
       "        vertical-align: top;\n",
       "    }\n",
       "\n",
       "    .dataframe thead th {\n",
       "        text-align: right;\n",
       "    }\n",
       "</style>\n",
       "<table border=\"1\" class=\"dataframe\">\n",
       "  <thead>\n",
       "    <tr style=\"text-align: right;\">\n",
       "      <th></th>\n",
       "      <th>qbathid</th>\n",
       "      <th>nodeBathLabel</th>\n",
       "      <th>nutsCode</th>\n",
       "      <th>Naturreg</th>\n",
       "      <th>naturreservatID</th>\n",
       "      <th>Source</th>\n",
       "    </tr>\n",
       "  </thead>\n",
       "  <tbody>\n",
       "    <tr>\n",
       "      <th>0</th>\n",
       "      <td>Q106707117</td>\n",
       "      <td>badplats Larödbaden</td>\n",
       "      <td>SE0441283000000317</td>\n",
       "      <td>2045268</td>\n",
       "      <td>Q60732601</td>\n",
       "      <td>WD</td>\n",
       "    </tr>\n",
       "    <tr>\n",
       "      <th>1</th>\n",
       "      <td>Q106707119</td>\n",
       "      <td>Domsten</td>\n",
       "      <td>SE0441283000000319</td>\n",
       "      <td>2030989</td>\n",
       "      <td>Q29579930</td>\n",
       "      <td>WD</td>\n",
       "    </tr>\n",
       "    <tr>\n",
       "      <th>2</th>\n",
       "      <td>Q106707120</td>\n",
       "      <td>Utvälinges badplats</td>\n",
       "      <td>SE0441283000000320</td>\n",
       "      <td>2042687</td>\n",
       "      <td>Q10659042</td>\n",
       "      <td>WD</td>\n",
       "    </tr>\n",
       "    <tr>\n",
       "      <th>3</th>\n",
       "      <td>Q106707127</td>\n",
       "      <td>Gyllebosjöns badplats</td>\n",
       "      <td>SE0441291000000329</td>\n",
       "      <td>2014529</td>\n",
       "      <td>Q10511301</td>\n",
       "      <td>WD</td>\n",
       "    </tr>\n",
       "    <tr>\n",
       "      <th>4</th>\n",
       "      <td>Q106707141</td>\n",
       "      <td>badplats Ryssvägen</td>\n",
       "      <td>SE0441286000000348</td>\n",
       "      <td>2001805</td>\n",
       "      <td>Q27968545</td>\n",
       "      <td>WD</td>\n",
       "    </tr>\n",
       "  </tbody>\n",
       "</table>\n",
       "</div>"
      ],
      "text/plain": [
       "      qbathid          nodeBathLabel            nutsCode Naturreg  \\\n",
       "0  Q106707117    badplats Larödbaden  SE0441283000000317  2045268   \n",
       "1  Q106707119                Domsten  SE0441283000000319  2030989   \n",
       "2  Q106707120    Utvälinges badplats  SE0441283000000320  2042687   \n",
       "3  Q106707127  Gyllebosjöns badplats  SE0441291000000329  2014529   \n",
       "4  Q106707141     badplats Ryssvägen  SE0441286000000348  2001805   \n",
       "\n",
       "  naturreservatID Source  \n",
       "0       Q60732601     WD  \n",
       "1       Q29579930     WD  \n",
       "2       Q10659042     WD  \n",
       "3       Q10511301     WD  \n",
       "4       Q27968545     WD  "
      ]
     },
     "execution_count": 18,
     "metadata": {},
     "output_type": "execute_result"
    }
   ],
   "source": [
    "WDNature.head()"
   ]
  },
  {
   "cell_type": "code",
   "execution_count": 19,
   "id": "f5a04cfa",
   "metadata": {},
   "outputs": [
    {
     "name": "stderr",
     "output_type": "stream",
     "text": [
      "100%|██████████| 214/214 [00:20<00:00, 10.52it/s]"
     ]
    },
    {
     "name": "stdout",
     "output_type": "stream",
     "text": [
      "214\n"
     ]
    },
    {
     "name": "stderr",
     "output_type": "stream",
     "text": [
      "\n"
     ]
    }
   ],
   "source": [
    "listNature = []\n",
    "for WD, row in tqdm(WDNature.iterrows(), total=WDNature.shape[0]):\n",
    "    #print(row[\"naturreservatID\"] ) \n",
    "    url = \"https://osm.wikidata.link/tagged/api/item/\" + row[\"naturreservatID\"] \n",
    "    \n",
    "    new_item = dict()\n",
    "    new_item['wikidata'] = row[\"naturreservatID\"] \n",
    "    r = http.request('GET', url) \n",
    "    data = json.loads(r.data.decode('utf-8'))\n",
    "    try:\n",
    "        #print (\"ID: \", data[\"osm\"][0][\"id\"])\n",
    "        osmid = data[\"osm\"][0][\"id\"] \n",
    "        \n",
    "    except:\n",
    "        #print (\"error\")\n",
    "        osmid =\"\"\n",
    "    new_item['osmid'] = osmid \n",
    "    listNature.append(new_item)\n",
    "print (len(listNature))\n",
    "OSMNature = pd.DataFrame(listNature,\n",
    "                  columns=['wikidata','osmid'])"
   ]
  },
  {
   "cell_type": "code",
   "execution_count": 20,
   "id": "2aafca1a",
   "metadata": {},
   "outputs": [
    {
     "data": {
      "text/html": [
       "<div>\n",
       "<style scoped>\n",
       "    .dataframe tbody tr th:only-of-type {\n",
       "        vertical-align: middle;\n",
       "    }\n",
       "\n",
       "    .dataframe tbody tr th {\n",
       "        vertical-align: top;\n",
       "    }\n",
       "\n",
       "    .dataframe thead th {\n",
       "        text-align: right;\n",
       "    }\n",
       "</style>\n",
       "<table border=\"1\" class=\"dataframe\">\n",
       "  <thead>\n",
       "    <tr style=\"text-align: right;\">\n",
       "      <th></th>\n",
       "      <th>wikidata</th>\n",
       "      <th>osmid</th>\n",
       "    </tr>\n",
       "  </thead>\n",
       "  <tbody>\n",
       "    <tr>\n",
       "      <th>0</th>\n",
       "      <td>Q60732601</td>\n",
       "      <td></td>\n",
       "    </tr>\n",
       "    <tr>\n",
       "      <th>1</th>\n",
       "      <td>Q29579930</td>\n",
       "      <td>913660002</td>\n",
       "    </tr>\n",
       "    <tr>\n",
       "      <th>2</th>\n",
       "      <td>Q10659042</td>\n",
       "      <td>12400357</td>\n",
       "    </tr>\n",
       "    <tr>\n",
       "      <th>3</th>\n",
       "      <td>Q10511301</td>\n",
       "      <td>1460544</td>\n",
       "    </tr>\n",
       "    <tr>\n",
       "      <th>4</th>\n",
       "      <td>Q27968545</td>\n",
       "      <td>102924516</td>\n",
       "    </tr>\n",
       "  </tbody>\n",
       "</table>\n",
       "</div>"
      ],
      "text/plain": [
       "    wikidata      osmid\n",
       "0  Q60732601           \n",
       "1  Q29579930  913660002\n",
       "2  Q10659042   12400357\n",
       "3  Q10511301    1460544\n",
       "4  Q27968545  102924516"
      ]
     },
     "execution_count": 20,
     "metadata": {},
     "output_type": "execute_result"
    }
   ],
   "source": [
    "OSMNature.head()"
   ]
  },
  {
   "cell_type": "code",
   "execution_count": 21,
   "id": "2f6f3fb0",
   "metadata": {},
   "outputs": [],
   "source": [
    "OSMNatureEmpty=OSMNature[(OSMNature['osmid']==\"\")]\n",
    "#OSMNatureEmpty.to_csv(\"WD - OSM Naturereservat saknas.csv\")\n",
    "pd.Series(OSMNatureEmpty.wikidata.unique()).to_csv(\"WD - OSM Naturereservat saknas.csv\")\n",
    "\n",
    "#OSMNatureEmpty"
   ]
  },
  {
   "cell_type": "code",
   "execution_count": 22,
   "id": "0325b013",
   "metadata": {},
   "outputs": [
    {
     "name": "stdout",
     "output_type": "stream",
     "text": [
      "* 20210529 Badplatser 2812 ej OSM kopplade 1958\n",
      " * vatten kopplade 1149 ej OSM kopplade 234\n",
      " * naturreservat kopplade 214 ej OSM kopplade 28\n"
     ]
    }
   ],
   "source": [
    "print(\"*\", start_time.strftime(\"%Y%m%d\"),\"Badplatser\", WDBath.shape[0], \"ej OSM kopplade\",OSMEmpty.shape[0]) \n",
    "print(\" * vatten kopplade\", WDSea.shape[0], \"ej OSM kopplade\",OSMSeaEmpty.shape[0])\n",
    "print(\" * naturreservat kopplade\", OSMNature.shape[0], \"ej OSM kopplade\",OSMNatureEmpty.shape[0])\n"
   ]
  },
  {
   "cell_type": "markdown",
   "id": "acb46511",
   "metadata": {},
   "source": [
    "Line for GITHUB summary"
   ]
  },
  {
   "cell_type": "code",
   "execution_count": 23,
   "id": "e9902b84",
   "metadata": {},
   "outputs": [
    {
     "name": "stdout",
     "output_type": "stream",
     "text": [
      "ej kopplade 1958 vatten ej kopplade 234 , naturreservat ej kopplade 28\n"
     ]
    }
   ],
   "source": [
    "print(\"ej kopplade\",OSMEmpty.shape[0],\"vatten ej kopplade\", OSMSeaEmpty.shape[0], \\\n",
    "      \", naturreservat ej kopplade\",OSMNatureEmpty.shape[0])\n",
    "\n"
   ]
  },
  {
   "cell_type": "markdown",
   "id": "0c4d6920",
   "metadata": {},
   "source": [
    "Generate Markdown table eg.\n",
    "| 20210526     | 2802 | 2050 |1147 | 254 | 213| 84|\n"
   ]
  },
  {
   "cell_type": "code",
   "execution_count": 24,
   "id": "443cee0d",
   "metadata": {},
   "outputs": [
    {
     "name": "stdout",
     "output_type": "stream",
     "text": [
      "| 20210529 | 2812 | 1946 | 1149 | 197 | 214 | 16\n"
     ]
    }
   ],
   "source": [
    "print(\"|\",start_time.strftime(\"%Y%m%d\"),\"|\", \\\n",
    "      WDBath.shape[0],\"|\",OSMEmpty.wikidata.nunique(),\"|\", \\\n",
    "      OSMSeatot.shape[0],\"|\", OSMSeaEmpty.wikidata.nunique(),\"|\", \\\n",
    "      OSMNature.shape[0],\"|\", OSMNatureEmpty.wikidata.nunique())\n"
   ]
  }
 ],
 "metadata": {
  "kernelspec": {
   "display_name": "Python 3",
   "language": "python",
   "name": "python3"
  },
  "language_info": {
   "codemirror_mode": {
    "name": "ipython",
    "version": 3
   },
   "file_extension": ".py",
   "mimetype": "text/x-python",
   "name": "python",
   "nbconvert_exporter": "python",
   "pygments_lexer": "ipython3",
   "version": "3.9.4"
  }
 },
 "nbformat": 4,
 "nbformat_minor": 5
}
