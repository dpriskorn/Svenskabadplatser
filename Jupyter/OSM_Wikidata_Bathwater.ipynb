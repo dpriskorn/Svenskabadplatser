{
 "cells": [
  {
   "cell_type": "markdown",
   "id": "4a0e87c4",
   "metadata": {},
   "source": [
    "Get all Swedish Bathing Waters in this project from Wikidata and checks if they are connected to an OSM object using an [API](https://osm.wikidata.link/tagged)\n",
    "\n",
    "* [github salgo60/Svenskabadplatser](https://github.com/salgo60/Svenskabadplatser)\n",
    "* this [Notebook](https://github.com/salgo60/Svenskabadplatser/blob/main/Jupyter/OSM_Wikidata_Bathwater.ipynb)\n",
    "\n",
    "* API [Wikidata to OpenStreetMap](https://osm.wikidata.link/tagged)\n",
    "  * ex [https://osm.wikidata.link/tagged/api/item/Q106708773](https://osm.wikidata.link/tagged/api/item/Q106708773)\n",
    "  \n",
    "Status:\n",
    "* 20210522  Badplatser 2761 ej OSM kopplade 2142\n",
    "  * vatten kopplade 1001 ej OSM kopplade 216\n",
    "* 20210521 badplatser 2756 ej OSM kopplade 2199\n",
    "  * vatten kopplade 979 ej OSM kopplade 215\n",
    "* 20210519 badplatser 2757 ej OSM kopplade 2257\n",
    "  * vatten kopplade 594 ej OSM kopplade 59\n",
    "* 20210518 badplatser 2755 ej OSM kopplade 2327\n",
    "  * vatten kopplade 484 ej OSM kopplade 60"
   ]
  },
  {
   "cell_type": "code",
   "execution_count": 1,
   "id": "b20809ea",
   "metadata": {},
   "outputs": [
    {
     "name": "stdout",
     "output_type": "stream",
     "text": [
      "Last run:  2021-05-22 09:26:11.296482\n"
     ]
    }
   ],
   "source": [
    "from datetime import datetime\n",
    "start_time  = datetime.now()\n",
    "print(\"Last run: \", start_time)"
   ]
  },
  {
   "cell_type": "code",
   "execution_count": 2,
   "id": "903ccc82",
   "metadata": {},
   "outputs": [],
   "source": [
    "import pandas as pd\n"
   ]
  },
  {
   "cell_type": "code",
   "execution_count": 3,
   "id": "1f3346e9",
   "metadata": {},
   "outputs": [
    {
     "data": {
      "text/plain": [
       "(2761, 8)"
      ]
     },
     "execution_count": 3,
     "metadata": {},
     "output_type": "execute_result"
    }
   ],
   "source": [
    "#\n",
    "# pip install sparqlwrapper\n",
    "# https://rdflib.github.io/sparqlwrapper/\n",
    "\n",
    "import sys,json\n",
    "from SPARQLWrapper import SPARQLWrapper, JSON\n",
    "\n",
    "endpoint_url = \"https://query.wikidata.org/sparql\"\n",
    " \n",
    "# https://w.wiki/3LWk    \n",
    "queryBath = \"\"\"SELECT (REPLACE(STR(?nodeBath), \".*Q\", \"Q\") AS ?qbathid) ?nodeBathLabel ?nutsCode ?SJOID\n",
    "(REPLACE(STR(?nodeWater), \".*Q\", \"Q\") AS ?qlakeid) ?nodeWaterLabel ?coord WHERE {\n",
    "  ?nodeBath wdt:P6104 wd:Q106774536.\n",
    "  OPTIONAL { ?nodeBath wdt:P605 ?nutsCode. }\n",
    "  OPTIONAL { ?nodeBath wdt:P625 ?coord. }\n",
    "  OPTIONAL {\n",
    "    ?nodeBath wdt:P206 ?nodeWater.\n",
    "    OPTIONAL { ?nodeWater wdt:P761 ?SJOID. }\n",
    "  }\n",
    "  SERVICE wikibase:label { bd:serviceParam wikibase:language \"sv,en\". }\n",
    "}\n",
    "ORDER BY (?nodeBathLabel)\"\"\"\n",
    "\n",
    "\n",
    "def get_sparql_dataframe(endpoint_url, query):\n",
    "    \"\"\"\n",
    "    Helper function to convert SPARQL results into a Pandas data frame.\n",
    "    \"\"\"\n",
    "    user_agent = \"salgo60/%s.%s\" % (sys.version_info[0], sys.version_info[1])\n",
    " \n",
    "    sparql = SPARQLWrapper(endpoint_url, agent=user_agent)\n",
    "    sparql.setQuery(query)\n",
    "    sparql.setReturnFormat(JSON)\n",
    "    result = sparql.query()\n",
    "\n",
    "    processed_results = json.load(result.response)\n",
    "    cols = processed_results['head']['vars']\n",
    "\n",
    "    out = []\n",
    "    for row in processed_results['results']['bindings']:\n",
    "        item = []\n",
    "        for c in cols:\n",
    "            item.append(row.get(c, {}).get('value'))\n",
    "        out.append(item)\n",
    "\n",
    "    return pd.DataFrame(out, columns=cols)\n",
    "\n",
    "WDBath = get_sparql_dataframe(endpoint_url, queryBath)\n",
    "WDBath[\"Source\"] = \"WD\"     \n",
    "WDBath.shape"
   ]
  },
  {
   "cell_type": "code",
   "execution_count": 4,
   "id": "f7c09c8c",
   "metadata": {},
   "outputs": [
    {
     "data": {
      "text/html": [
       "<div>\n",
       "<style scoped>\n",
       "    .dataframe tbody tr th:only-of-type {\n",
       "        vertical-align: middle;\n",
       "    }\n",
       "\n",
       "    .dataframe tbody tr th {\n",
       "        vertical-align: top;\n",
       "    }\n",
       "\n",
       "    .dataframe thead th {\n",
       "        text-align: right;\n",
       "    }\n",
       "</style>\n",
       "<table border=\"1\" class=\"dataframe\">\n",
       "  <thead>\n",
       "    <tr style=\"text-align: right;\">\n",
       "      <th></th>\n",
       "      <th>qbathid</th>\n",
       "      <th>nodeBathLabel</th>\n",
       "      <th>nutsCode</th>\n",
       "      <th>SJOID</th>\n",
       "      <th>qlakeid</th>\n",
       "      <th>nodeWaterLabel</th>\n",
       "      <th>coord</th>\n",
       "      <th>Source</th>\n",
       "    </tr>\n",
       "  </thead>\n",
       "  <tbody>\n",
       "    <tr>\n",
       "      <th>0</th>\n",
       "      <td>Q106708773</td>\n",
       "      <td>Abborrbergets badplats</td>\n",
       "      <td>SE0220486000001903</td>\n",
       "      <td>658887-156656</td>\n",
       "      <td>Q35694946</td>\n",
       "      <td>Strängnäsfjärden</td>\n",
       "      <td>Point(17.037397412 59.384608492)</td>\n",
       "      <td>WD</td>\n",
       "    </tr>\n",
       "    <tr>\n",
       "      <th>1</th>\n",
       "      <td>Q106707080</td>\n",
       "      <td>Abborrsjöns badplats</td>\n",
       "      <td>SE0411060000000277</td>\n",
       "      <td>624471-143063</td>\n",
       "      <td>Q16275305</td>\n",
       "      <td>Abborrasjön</td>\n",
       "      <td>Point(14.691358723 56.326564061)</td>\n",
       "      <td>WD</td>\n",
       "    </tr>\n",
       "    <tr>\n",
       "      <th>2</th>\n",
       "      <td>Q106711299</td>\n",
       "      <td>Abborrtjärns badplats</td>\n",
       "      <td>SE0812404000003683</td>\n",
       "      <td>713089-168959</td>\n",
       "      <td>Q16487572</td>\n",
       "      <td>Abborrtjärnen</td>\n",
       "      <td>Point(19.724889698 64.231408958)</td>\n",
       "      <td>WD</td>\n",
       "    </tr>\n",
       "    <tr>\n",
       "      <th>3</th>\n",
       "      <td>Q106708954</td>\n",
       "      <td>Abborrtjärns badplats</td>\n",
       "      <td>SE0611763000002279</td>\n",
       "      <td>660121-136542</td>\n",
       "      <td>Q16275388</td>\n",
       "      <td>Abborrtjärn</td>\n",
       "      <td>Point(13.4333 59.5096)</td>\n",
       "      <td>WD</td>\n",
       "    </tr>\n",
       "    <tr>\n",
       "      <th>4</th>\n",
       "      <td>Q106710481</td>\n",
       "      <td>Adaks badplats</td>\n",
       "      <td>SE0812418000003416</td>\n",
       "      <td>725253-162920</td>\n",
       "      <td>Q17538599</td>\n",
       "      <td>Stor-Adakträsket</td>\n",
       "      <td>Point(18.576809583 65.354219925)</td>\n",
       "      <td>WD</td>\n",
       "    </tr>\n",
       "    <tr>\n",
       "      <th>...</th>\n",
       "      <td>...</td>\n",
       "      <td>...</td>\n",
       "      <td>...</td>\n",
       "      <td>...</td>\n",
       "      <td>...</td>\n",
       "      <td>...</td>\n",
       "      <td>...</td>\n",
       "      <td>...</td>\n",
       "    </tr>\n",
       "    <tr>\n",
       "      <th>2756</th>\n",
       "      <td>Q106695873</td>\n",
       "      <td>Östra holmens badplats</td>\n",
       "      <td>SE0251980000002546</td>\n",
       "      <td>None</td>\n",
       "      <td>Q184492</td>\n",
       "      <td>Mälaren</td>\n",
       "      <td>Point(16.576895 59.586077)</td>\n",
       "      <td>WD</td>\n",
       "    </tr>\n",
       "    <tr>\n",
       "      <th>2757</th>\n",
       "      <td>Q106710694</td>\n",
       "      <td>Östtjärn badplats</td>\n",
       "      <td>SE0712281000003466</td>\n",
       "      <td>691354-157517</td>\n",
       "      <td>Q18184573</td>\n",
       "      <td>Östtjärnen</td>\n",
       "      <td>Point(17.268201 62.327749)</td>\n",
       "      <td>WD</td>\n",
       "    </tr>\n",
       "    <tr>\n",
       "      <th>2758</th>\n",
       "      <td>Q106708537</td>\n",
       "      <td>Övdens badplats</td>\n",
       "      <td>SE0920764000001583</td>\n",
       "      <td>627654-141929</td>\n",
       "      <td>Q18134117</td>\n",
       "      <td>Övden</td>\n",
       "      <td>Point(14.50528951 56.620870346)</td>\n",
       "      <td>WD</td>\n",
       "    </tr>\n",
       "    <tr>\n",
       "      <th>2759</th>\n",
       "      <td>Q106685181</td>\n",
       "      <td>Övre Rudansjöns badstrand</td>\n",
       "      <td>SE0110136000002143</td>\n",
       "      <td>656380-163314</td>\n",
       "      <td>Q3360982</td>\n",
       "      <td>Övre Rudasjön</td>\n",
       "      <td>Point(18.1316 59.1659)</td>\n",
       "      <td>WD</td>\n",
       "    </tr>\n",
       "    <tr>\n",
       "      <th>2760</th>\n",
       "      <td>Q106708047</td>\n",
       "      <td>Öxabäck badplats</td>\n",
       "      <td>SE0A21463000000953</td>\n",
       "      <td>636696-131979</td>\n",
       "      <td>Q18196323</td>\n",
       "      <td>Öxasjön</td>\n",
       "      <td>Point(12.807878486 57.392350004)</td>\n",
       "      <td>WD</td>\n",
       "    </tr>\n",
       "  </tbody>\n",
       "</table>\n",
       "<p>2761 rows × 8 columns</p>\n",
       "</div>"
      ],
      "text/plain": [
       "         qbathid              nodeBathLabel            nutsCode  \\\n",
       "0     Q106708773     Abborrbergets badplats  SE0220486000001903   \n",
       "1     Q106707080       Abborrsjöns badplats  SE0411060000000277   \n",
       "2     Q106711299      Abborrtjärns badplats  SE0812404000003683   \n",
       "3     Q106708954      Abborrtjärns badplats  SE0611763000002279   \n",
       "4     Q106710481             Adaks badplats  SE0812418000003416   \n",
       "...          ...                        ...                 ...   \n",
       "2756  Q106695873     Östra holmens badplats  SE0251980000002546   \n",
       "2757  Q106710694          Östtjärn badplats  SE0712281000003466   \n",
       "2758  Q106708537            Övdens badplats  SE0920764000001583   \n",
       "2759  Q106685181  Övre Rudansjöns badstrand  SE0110136000002143   \n",
       "2760  Q106708047           Öxabäck badplats  SE0A21463000000953   \n",
       "\n",
       "              SJOID    qlakeid    nodeWaterLabel  \\\n",
       "0     658887-156656  Q35694946  Strängnäsfjärden   \n",
       "1     624471-143063  Q16275305       Abborrasjön   \n",
       "2     713089-168959  Q16487572     Abborrtjärnen   \n",
       "3     660121-136542  Q16275388       Abborrtjärn   \n",
       "4     725253-162920  Q17538599  Stor-Adakträsket   \n",
       "...             ...        ...               ...   \n",
       "2756           None    Q184492           Mälaren   \n",
       "2757  691354-157517  Q18184573        Östtjärnen   \n",
       "2758  627654-141929  Q18134117             Övden   \n",
       "2759  656380-163314   Q3360982     Övre Rudasjön   \n",
       "2760  636696-131979  Q18196323           Öxasjön   \n",
       "\n",
       "                                 coord Source  \n",
       "0     Point(17.037397412 59.384608492)     WD  \n",
       "1     Point(14.691358723 56.326564061)     WD  \n",
       "2     Point(19.724889698 64.231408958)     WD  \n",
       "3               Point(13.4333 59.5096)     WD  \n",
       "4     Point(18.576809583 65.354219925)     WD  \n",
       "...                                ...    ...  \n",
       "2756        Point(16.576895 59.586077)     WD  \n",
       "2757        Point(17.268201 62.327749)     WD  \n",
       "2758   Point(14.50528951 56.620870346)     WD  \n",
       "2759            Point(18.1316 59.1659)     WD  \n",
       "2760  Point(12.807878486 57.392350004)     WD  \n",
       "\n",
       "[2761 rows x 8 columns]"
      ]
     },
     "execution_count": 4,
     "metadata": {},
     "output_type": "execute_result"
    }
   ],
   "source": [
    "WDBath"
   ]
  },
  {
   "cell_type": "code",
   "execution_count": 5,
   "id": "518ba6fe",
   "metadata": {},
   "outputs": [
    {
     "name": "stderr",
     "output_type": "stream",
     "text": [
      "100%|██████████| 2761/2761 [04:04<00:00, 11.27it/s]"
     ]
    },
    {
     "name": "stdout",
     "output_type": "stream",
     "text": [
      "2761\n"
     ]
    },
    {
     "name": "stderr",
     "output_type": "stream",
     "text": [
      "\n"
     ]
    }
   ],
   "source": [
    "import urllib3, json\n",
    "from tqdm import tqdm\n",
    "http = urllib3.PoolManager()\n",
    "\n",
    "listBath = []\n",
    "#for WD, row in WDBath.iterrows():\n",
    "for WD, row in tqdm(WDBath.iterrows(), total=WDBath.shape[0]):\n",
    "    #print(row[\"qbathid\"] ) \n",
    "    url = \"https://osm.wikidata.link/tagged/api/item/\" + row[\"qbathid\"] \n",
    "    \n",
    "    new_item = dict()\n",
    "    new_item['wikidata'] = row[\"qbathid\"] \n",
    "    new_item['coord'] = row[\"coord\"] \n",
    "    r = http.request('GET', url) \n",
    "    data = json.loads(r.data.decode('utf-8'))\n",
    "#    print (r.status)\n",
    "    try:\n",
    "        #print (\"OSM \", data[\"osm\"], \"Type: \", type(data[\"osm\"]))\n",
    "        #print (\"ID: \", data[\"osm\"][0][\"id\"])\n",
    "        osmid = data[\"osm\"][0][\"id\"]        \n",
    "    except:\n",
    "        #print (\"error\")\n",
    "        osmid =\"\"\n",
    "    new_item['osmid'] = osmid \n",
    "    listBath.append(new_item)\n",
    "print (len(listBath))"
   ]
  },
  {
   "cell_type": "code",
   "execution_count": 6,
   "id": "97bb95a8",
   "metadata": {},
   "outputs": [
    {
     "data": {
      "text/plain": [
       "(2761, 3)"
      ]
     },
     "execution_count": 6,
     "metadata": {},
     "output_type": "execute_result"
    }
   ],
   "source": [
    "OSMtot = pd.DataFrame(listBath,\n",
    "                  columns=['wikidata','coord','osmid'])\n",
    "OSMtot.shape\n"
   ]
  },
  {
   "cell_type": "code",
   "execution_count": 7,
   "id": "a36b2560",
   "metadata": {},
   "outputs": [
    {
     "data": {
      "text/html": [
       "<div>\n",
       "<style scoped>\n",
       "    .dataframe tbody tr th:only-of-type {\n",
       "        vertical-align: middle;\n",
       "    }\n",
       "\n",
       "    .dataframe tbody tr th {\n",
       "        vertical-align: top;\n",
       "    }\n",
       "\n",
       "    .dataframe thead th {\n",
       "        text-align: right;\n",
       "    }\n",
       "</style>\n",
       "<table border=\"1\" class=\"dataframe\">\n",
       "  <thead>\n",
       "    <tr style=\"text-align: right;\">\n",
       "      <th></th>\n",
       "      <th>wikidata</th>\n",
       "      <th>coord</th>\n",
       "      <th>osmid</th>\n",
       "    </tr>\n",
       "  </thead>\n",
       "  <tbody>\n",
       "    <tr>\n",
       "      <th>0</th>\n",
       "      <td>Q106708773</td>\n",
       "      <td>Point(17.037397412 59.384608492)</td>\n",
       "      <td>8725492343</td>\n",
       "    </tr>\n",
       "    <tr>\n",
       "      <th>1</th>\n",
       "      <td>Q106707080</td>\n",
       "      <td>Point(14.691358723 56.326564061)</td>\n",
       "      <td>8737463766</td>\n",
       "    </tr>\n",
       "    <tr>\n",
       "      <th>2</th>\n",
       "      <td>Q106711299</td>\n",
       "      <td>Point(19.724889698 64.231408958)</td>\n",
       "      <td></td>\n",
       "    </tr>\n",
       "    <tr>\n",
       "      <th>3</th>\n",
       "      <td>Q106708954</td>\n",
       "      <td>Point(13.4333 59.5096)</td>\n",
       "      <td>356838031</td>\n",
       "    </tr>\n",
       "    <tr>\n",
       "      <th>4</th>\n",
       "      <td>Q106710481</td>\n",
       "      <td>Point(18.576809583 65.354219925)</td>\n",
       "      <td>943675486</td>\n",
       "    </tr>\n",
       "    <tr>\n",
       "      <th>...</th>\n",
       "      <td>...</td>\n",
       "      <td>...</td>\n",
       "      <td>...</td>\n",
       "    </tr>\n",
       "    <tr>\n",
       "      <th>95</th>\n",
       "      <td>Q104808953</td>\n",
       "      <td>Point(17.440773888 59.057008055)</td>\n",
       "      <td>377452749</td>\n",
       "    </tr>\n",
       "    <tr>\n",
       "      <th>96</th>\n",
       "      <td>Q106710705</td>\n",
       "      <td>Point(17.459269445 62.271444954)</td>\n",
       "      <td>307760979</td>\n",
       "    </tr>\n",
       "    <tr>\n",
       "      <th>97</th>\n",
       "      <td>Q106707873</td>\n",
       "      <td>Point(16.37065877 56.696529388)</td>\n",
       "      <td></td>\n",
       "    </tr>\n",
       "    <tr>\n",
       "      <th>98</th>\n",
       "      <td>Q106676963</td>\n",
       "      <td>Point(18.762768 60.056753)</td>\n",
       "      <td>680605708</td>\n",
       "    </tr>\n",
       "    <tr>\n",
       "      <th>99</th>\n",
       "      <td>Q106711971</td>\n",
       "      <td>Point(15.267990274 60.563705742)</td>\n",
       "      <td></td>\n",
       "    </tr>\n",
       "  </tbody>\n",
       "</table>\n",
       "<p>100 rows × 3 columns</p>\n",
       "</div>"
      ],
      "text/plain": [
       "      wikidata                             coord       osmid\n",
       "0   Q106708773  Point(17.037397412 59.384608492)  8725492343\n",
       "1   Q106707080  Point(14.691358723 56.326564061)  8737463766\n",
       "2   Q106711299  Point(19.724889698 64.231408958)            \n",
       "3   Q106708954            Point(13.4333 59.5096)   356838031\n",
       "4   Q106710481  Point(18.576809583 65.354219925)   943675486\n",
       "..         ...                               ...         ...\n",
       "95  Q104808953  Point(17.440773888 59.057008055)   377452749\n",
       "96  Q106710705  Point(17.459269445 62.271444954)   307760979\n",
       "97  Q106707873   Point(16.37065877 56.696529388)            \n",
       "98  Q106676963        Point(18.762768 60.056753)   680605708\n",
       "99  Q106711971  Point(15.267990274 60.563705742)            \n",
       "\n",
       "[100 rows x 3 columns]"
      ]
     },
     "execution_count": 7,
     "metadata": {},
     "output_type": "execute_result"
    }
   ],
   "source": [
    "pd.set_option('max_colwidth', 400)\n",
    "OSMtot.head(100)"
   ]
  },
  {
   "cell_type": "code",
   "execution_count": 8,
   "id": "5073b2d5",
   "metadata": {},
   "outputs": [
    {
     "data": {
      "text/plain": [
       "(2142, 3)"
      ]
     },
     "execution_count": 8,
     "metadata": {},
     "output_type": "execute_result"
    }
   ],
   "source": [
    "#OSMempty = OSMtot.osmid.notnull()\n",
    "OSMtot[(OSMtot['osmid']==\"\")].shape"
   ]
  },
  {
   "cell_type": "code",
   "execution_count": 9,
   "id": "131b6b52",
   "metadata": {},
   "outputs": [],
   "source": [
    "OSMEmpty =OSMtot[(OSMtot['osmid']==\"\")]"
   ]
  },
  {
   "cell_type": "code",
   "execution_count": 10,
   "id": "49eb18cb",
   "metadata": {},
   "outputs": [
    {
     "data": {
      "text/plain": [
       "(2142, 3)"
      ]
     },
     "execution_count": 10,
     "metadata": {},
     "output_type": "execute_result"
    }
   ],
   "source": [
    "OSMEmpty.shape"
   ]
  },
  {
   "cell_type": "code",
   "execution_count": 11,
   "id": "d5ce300a",
   "metadata": {},
   "outputs": [
    {
     "data": {
      "text/html": [
       "<div>\n",
       "<style scoped>\n",
       "    .dataframe tbody tr th:only-of-type {\n",
       "        vertical-align: middle;\n",
       "    }\n",
       "\n",
       "    .dataframe tbody tr th {\n",
       "        vertical-align: top;\n",
       "    }\n",
       "\n",
       "    .dataframe thead th {\n",
       "        text-align: right;\n",
       "    }\n",
       "</style>\n",
       "<table border=\"1\" class=\"dataframe\">\n",
       "  <thead>\n",
       "    <tr style=\"text-align: right;\">\n",
       "      <th></th>\n",
       "      <th>wikidata</th>\n",
       "      <th>coord</th>\n",
       "      <th>osmid</th>\n",
       "    </tr>\n",
       "  </thead>\n",
       "  <tbody>\n",
       "    <tr>\n",
       "      <th>2</th>\n",
       "      <td>Q106711299</td>\n",
       "      <td>Point(19.724889698 64.231408958)</td>\n",
       "      <td></td>\n",
       "    </tr>\n",
       "    <tr>\n",
       "      <th>5</th>\n",
       "      <td>Q106708549</td>\n",
       "      <td>Point(14.397042778 57.006691546)</td>\n",
       "      <td></td>\n",
       "    </tr>\n",
       "    <tr>\n",
       "      <th>11</th>\n",
       "      <td>Q106709184</td>\n",
       "      <td>Point(14.414252823 59.404268046)</td>\n",
       "      <td></td>\n",
       "    </tr>\n",
       "    <tr>\n",
       "      <th>18</th>\n",
       "      <td>Q106709695</td>\n",
       "      <td>Point(16.55509 60.63854)</td>\n",
       "      <td></td>\n",
       "    </tr>\n",
       "    <tr>\n",
       "      <th>20</th>\n",
       "      <td>Q106709070</td>\n",
       "      <td>Point(14.869880056 60.749363203)</td>\n",
       "      <td></td>\n",
       "    </tr>\n",
       "    <tr>\n",
       "      <th>...</th>\n",
       "      <td>...</td>\n",
       "      <td>...</td>\n",
       "      <td>...</td>\n",
       "    </tr>\n",
       "    <tr>\n",
       "      <th>2745</th>\n",
       "      <td>Q106687370</td>\n",
       "      <td>Point(12.192259 58.273465)</td>\n",
       "      <td></td>\n",
       "    </tr>\n",
       "    <tr>\n",
       "      <th>2746</th>\n",
       "      <td>Q106671882</td>\n",
       "      <td>Point(18.257445 59.250819)</td>\n",
       "      <td></td>\n",
       "    </tr>\n",
       "    <tr>\n",
       "      <th>2747</th>\n",
       "      <td>Q106653304</td>\n",
       "      <td>Point(17.9824 59.3098)</td>\n",
       "      <td></td>\n",
       "    </tr>\n",
       "    <tr>\n",
       "      <th>2749</th>\n",
       "      <td>Q18202436</td>\n",
       "      <td>Point(13.546667 59.381944)</td>\n",
       "      <td></td>\n",
       "    </tr>\n",
       "    <tr>\n",
       "      <th>2757</th>\n",
       "      <td>Q106710694</td>\n",
       "      <td>Point(17.268201 62.327749)</td>\n",
       "      <td></td>\n",
       "    </tr>\n",
       "  </tbody>\n",
       "</table>\n",
       "<p>2142 rows × 3 columns</p>\n",
       "</div>"
      ],
      "text/plain": [
       "        wikidata                             coord osmid\n",
       "2     Q106711299  Point(19.724889698 64.231408958)      \n",
       "5     Q106708549  Point(14.397042778 57.006691546)      \n",
       "11    Q106709184  Point(14.414252823 59.404268046)      \n",
       "18    Q106709695          Point(16.55509 60.63854)      \n",
       "20    Q106709070  Point(14.869880056 60.749363203)      \n",
       "...          ...                               ...   ...\n",
       "2745  Q106687370        Point(12.192259 58.273465)      \n",
       "2746  Q106671882        Point(18.257445 59.250819)      \n",
       "2747  Q106653304            Point(17.9824 59.3098)      \n",
       "2749   Q18202436        Point(13.546667 59.381944)      \n",
       "2757  Q106710694        Point(17.268201 62.327749)      \n",
       "\n",
       "[2142 rows x 3 columns]"
      ]
     },
     "execution_count": 11,
     "metadata": {},
     "output_type": "execute_result"
    }
   ],
   "source": [
    "OSMEmpty"
   ]
  },
  {
   "cell_type": "markdown",
   "id": "1d55ba15",
   "metadata": {},
   "source": [
    "### Check sjöar"
   ]
  },
  {
   "cell_type": "code",
   "execution_count": 12,
   "id": "27de3575",
   "metadata": {},
   "outputs": [
    {
     "data": {
      "text/plain": [
       "(1001, 8)"
      ]
     },
     "execution_count": 12,
     "metadata": {},
     "output_type": "execute_result"
    }
   ],
   "source": [
    "# https://w.wiki/3LqW\"\n",
    "querySea = \"\"\"SELECT (REPLACE(STR(?nodeBath), \".*Q\", \"Q\") AS ?qbathid) ?nodeBathLabel ?nutsCode ?SJOID\n",
    "(REPLACE(STR(?nodeWater), \".*Q\", \"Q\") AS ?qlakeid) ?nodeWaterLabel ?coord WHERE {\n",
    "  ?nodeBath wdt:P6104 wd:Q106774536.\n",
    "  OPTIONAL { ?nodeBath wdt:P605 ?nutsCode. }\n",
    "  OPTIONAL { ?nodeBath wdt:P625 ?coord. }\n",
    "   {\n",
    "    ?nodeBath wdt:P206 ?nodeWater.\n",
    "    OPTIONAL { ?nodeWater wdt:P761 ?SJOID. }\n",
    "  }\n",
    "  SERVICE wikibase:label { bd:serviceParam wikibase:language \"sv,en\". }\n",
    "}\n",
    "ORDER BY (?nodeBathLabel)\"\"\"\n",
    "WDSea = get_sparql_dataframe(endpoint_url, querySea)\n",
    "WDSea[\"Source\"] = \"WD\"     \n",
    "WDSea.shape"
   ]
  },
  {
   "cell_type": "code",
   "execution_count": 13,
   "id": "74ec57bf",
   "metadata": {},
   "outputs": [
    {
     "data": {
      "text/html": [
       "<div>\n",
       "<style scoped>\n",
       "    .dataframe tbody tr th:only-of-type {\n",
       "        vertical-align: middle;\n",
       "    }\n",
       "\n",
       "    .dataframe tbody tr th {\n",
       "        vertical-align: top;\n",
       "    }\n",
       "\n",
       "    .dataframe thead th {\n",
       "        text-align: right;\n",
       "    }\n",
       "</style>\n",
       "<table border=\"1\" class=\"dataframe\">\n",
       "  <thead>\n",
       "    <tr style=\"text-align: right;\">\n",
       "      <th></th>\n",
       "      <th>qbathid</th>\n",
       "      <th>nodeBathLabel</th>\n",
       "      <th>nutsCode</th>\n",
       "      <th>SJOID</th>\n",
       "      <th>qlakeid</th>\n",
       "      <th>nodeWaterLabel</th>\n",
       "      <th>coord</th>\n",
       "      <th>Source</th>\n",
       "    </tr>\n",
       "  </thead>\n",
       "  <tbody>\n",
       "    <tr>\n",
       "      <th>0</th>\n",
       "      <td>Q106708773</td>\n",
       "      <td>Abborrbergets badplats</td>\n",
       "      <td>SE0220486000001903</td>\n",
       "      <td>658887-156656</td>\n",
       "      <td>Q35694946</td>\n",
       "      <td>Strängnäsfjärden</td>\n",
       "      <td>Point(17.037397412 59.384608492)</td>\n",
       "      <td>WD</td>\n",
       "    </tr>\n",
       "    <tr>\n",
       "      <th>1</th>\n",
       "      <td>Q106707080</td>\n",
       "      <td>Abborrsjöns badplats</td>\n",
       "      <td>SE0411060000000277</td>\n",
       "      <td>624471-143063</td>\n",
       "      <td>Q16275305</td>\n",
       "      <td>Abborrasjön</td>\n",
       "      <td>Point(14.691358723 56.326564061)</td>\n",
       "      <td>WD</td>\n",
       "    </tr>\n",
       "    <tr>\n",
       "      <th>2</th>\n",
       "      <td>Q106708954</td>\n",
       "      <td>Abborrtjärns badplats</td>\n",
       "      <td>SE0611763000002279</td>\n",
       "      <td>660121-136542</td>\n",
       "      <td>Q16275388</td>\n",
       "      <td>Abborrtjärn</td>\n",
       "      <td>Point(13.4333 59.5096)</td>\n",
       "      <td>WD</td>\n",
       "    </tr>\n",
       "    <tr>\n",
       "      <th>3</th>\n",
       "      <td>Q106711299</td>\n",
       "      <td>Abborrtjärns badplats</td>\n",
       "      <td>SE0812404000003683</td>\n",
       "      <td>713089-168959</td>\n",
       "      <td>Q16487572</td>\n",
       "      <td>Abborrtjärnen</td>\n",
       "      <td>Point(19.724889698 64.231408958)</td>\n",
       "      <td>WD</td>\n",
       "    </tr>\n",
       "    <tr>\n",
       "      <th>4</th>\n",
       "      <td>Q106710481</td>\n",
       "      <td>Adaks badplats</td>\n",
       "      <td>SE0812418000003416</td>\n",
       "      <td>725253-162920</td>\n",
       "      <td>Q17538599</td>\n",
       "      <td>Stor-Adakträsket</td>\n",
       "      <td>Point(18.576809583 65.354219925)</td>\n",
       "      <td>WD</td>\n",
       "    </tr>\n",
       "    <tr>\n",
       "      <th>...</th>\n",
       "      <td>...</td>\n",
       "      <td>...</td>\n",
       "      <td>...</td>\n",
       "      <td>...</td>\n",
       "      <td>...</td>\n",
       "      <td>...</td>\n",
       "      <td>...</td>\n",
       "      <td>...</td>\n",
       "    </tr>\n",
       "    <tr>\n",
       "      <th>996</th>\n",
       "      <td>Q106695873</td>\n",
       "      <td>Östra holmens badplats</td>\n",
       "      <td>SE0251980000002546</td>\n",
       "      <td>None</td>\n",
       "      <td>Q184492</td>\n",
       "      <td>Mälaren</td>\n",
       "      <td>Point(16.576895 59.586077)</td>\n",
       "      <td>WD</td>\n",
       "    </tr>\n",
       "    <tr>\n",
       "      <th>997</th>\n",
       "      <td>Q106710694</td>\n",
       "      <td>Östtjärn badplats</td>\n",
       "      <td>SE0712281000003466</td>\n",
       "      <td>691354-157517</td>\n",
       "      <td>Q18184573</td>\n",
       "      <td>Östtjärnen</td>\n",
       "      <td>Point(17.268201 62.327749)</td>\n",
       "      <td>WD</td>\n",
       "    </tr>\n",
       "    <tr>\n",
       "      <th>998</th>\n",
       "      <td>Q106708537</td>\n",
       "      <td>Övdens badplats</td>\n",
       "      <td>SE0920764000001583</td>\n",
       "      <td>627654-141929</td>\n",
       "      <td>Q18134117</td>\n",
       "      <td>Övden</td>\n",
       "      <td>Point(14.50528951 56.620870346)</td>\n",
       "      <td>WD</td>\n",
       "    </tr>\n",
       "    <tr>\n",
       "      <th>999</th>\n",
       "      <td>Q106685181</td>\n",
       "      <td>Övre Rudansjöns badstrand</td>\n",
       "      <td>SE0110136000002143</td>\n",
       "      <td>656380-163314</td>\n",
       "      <td>Q3360982</td>\n",
       "      <td>Övre Rudasjön</td>\n",
       "      <td>Point(18.1316 59.1659)</td>\n",
       "      <td>WD</td>\n",
       "    </tr>\n",
       "    <tr>\n",
       "      <th>1000</th>\n",
       "      <td>Q106708047</td>\n",
       "      <td>Öxabäck badplats</td>\n",
       "      <td>SE0A21463000000953</td>\n",
       "      <td>636696-131979</td>\n",
       "      <td>Q18196323</td>\n",
       "      <td>Öxasjön</td>\n",
       "      <td>Point(12.807878486 57.392350004)</td>\n",
       "      <td>WD</td>\n",
       "    </tr>\n",
       "  </tbody>\n",
       "</table>\n",
       "<p>1001 rows × 8 columns</p>\n",
       "</div>"
      ],
      "text/plain": [
       "         qbathid              nodeBathLabel            nutsCode  \\\n",
       "0     Q106708773     Abborrbergets badplats  SE0220486000001903   \n",
       "1     Q106707080       Abborrsjöns badplats  SE0411060000000277   \n",
       "2     Q106708954      Abborrtjärns badplats  SE0611763000002279   \n",
       "3     Q106711299      Abborrtjärns badplats  SE0812404000003683   \n",
       "4     Q106710481             Adaks badplats  SE0812418000003416   \n",
       "...          ...                        ...                 ...   \n",
       "996   Q106695873     Östra holmens badplats  SE0251980000002546   \n",
       "997   Q106710694          Östtjärn badplats  SE0712281000003466   \n",
       "998   Q106708537            Övdens badplats  SE0920764000001583   \n",
       "999   Q106685181  Övre Rudansjöns badstrand  SE0110136000002143   \n",
       "1000  Q106708047           Öxabäck badplats  SE0A21463000000953   \n",
       "\n",
       "              SJOID    qlakeid    nodeWaterLabel  \\\n",
       "0     658887-156656  Q35694946  Strängnäsfjärden   \n",
       "1     624471-143063  Q16275305       Abborrasjön   \n",
       "2     660121-136542  Q16275388       Abborrtjärn   \n",
       "3     713089-168959  Q16487572     Abborrtjärnen   \n",
       "4     725253-162920  Q17538599  Stor-Adakträsket   \n",
       "...             ...        ...               ...   \n",
       "996            None    Q184492           Mälaren   \n",
       "997   691354-157517  Q18184573        Östtjärnen   \n",
       "998   627654-141929  Q18134117             Övden   \n",
       "999   656380-163314   Q3360982     Övre Rudasjön   \n",
       "1000  636696-131979  Q18196323           Öxasjön   \n",
       "\n",
       "                                 coord Source  \n",
       "0     Point(17.037397412 59.384608492)     WD  \n",
       "1     Point(14.691358723 56.326564061)     WD  \n",
       "2               Point(13.4333 59.5096)     WD  \n",
       "3     Point(19.724889698 64.231408958)     WD  \n",
       "4     Point(18.576809583 65.354219925)     WD  \n",
       "...                                ...    ...  \n",
       "996         Point(16.576895 59.586077)     WD  \n",
       "997         Point(17.268201 62.327749)     WD  \n",
       "998    Point(14.50528951 56.620870346)     WD  \n",
       "999             Point(18.1316 59.1659)     WD  \n",
       "1000  Point(12.807878486 57.392350004)     WD  \n",
       "\n",
       "[1001 rows x 8 columns]"
      ]
     },
     "execution_count": 13,
     "metadata": {},
     "output_type": "execute_result"
    }
   ],
   "source": [
    "WDSea"
   ]
  },
  {
   "cell_type": "code",
   "execution_count": 20,
   "id": "40ab8b07",
   "metadata": {},
   "outputs": [
    {
     "name": "stderr",
     "output_type": "stream",
     "text": [
      "  0%|          | 1/2761 [00:00<08:06,  5.68it/s]"
     ]
    },
    {
     "name": "stdout",
     "output_type": "stream",
     "text": [
      "https://osm.wikidata.link/tagged/api/item/Q35694946\n",
      "https://osm.wikidata.link/tagged/api/item/Q16275305\n"
     ]
    },
    {
     "name": "stderr",
     "output_type": "stream",
     "text": [
      "\r",
      "  0%|          | 3/2761 [00:00<04:59,  9.22it/s]"
     ]
    },
    {
     "name": "stdout",
     "output_type": "stream",
     "text": [
      "https://osm.wikidata.link/tagged/api/item/Q16275388\n",
      "https://osm.wikidata.link/tagged/api/item/Q16487572\n",
      "https://osm.wikidata.link/tagged/api/item/Q17538599\n"
     ]
    },
    {
     "name": "stderr",
     "output_type": "stream",
     "text": [
      "  0%|          | 7/2761 [00:00<04:10, 11.01it/s]"
     ]
    },
    {
     "name": "stdout",
     "output_type": "stream",
     "text": [
      "https://osm.wikidata.link/tagged/api/item/Q16275651\n",
      "https://osm.wikidata.link/tagged/api/item/Q16275680\n",
      "https://osm.wikidata.link/tagged/api/item/Q16496084\n"
     ]
    },
    {
     "name": "stderr",
     "output_type": "stream",
     "text": [
      "\r",
      "  0%|          | 9/2761 [00:00<04:02, 11.33it/s]"
     ]
    },
    {
     "name": "stdout",
     "output_type": "stream",
     "text": [
      "https://osm.wikidata.link/tagged/api/item/Q1193471\n",
      "https://osm.wikidata.link/tagged/api/item/Q16496119\n",
      "https://osm.wikidata.link/tagged/api/item/Q10405392\n"
     ]
    },
    {
     "name": "stderr",
     "output_type": "stream",
     "text": [
      "  0%|          | 13/2761 [00:01<03:56, 11.60it/s]"
     ]
    },
    {
     "name": "stdout",
     "output_type": "stream",
     "text": [
      "https://osm.wikidata.link/tagged/api/item/Q17608522\n",
      "https://osm.wikidata.link/tagged/api/item/Q10727528\n",
      "https://osm.wikidata.link/tagged/api/item/Q16496424\n"
     ]
    },
    {
     "name": "stderr",
     "output_type": "stream",
     "text": [
      "\r",
      "  1%|          | 15/2761 [00:01<03:54, 11.71it/s]"
     ]
    },
    {
     "name": "stdout",
     "output_type": "stream",
     "text": [
      "https://osm.wikidata.link/tagged/api/item/Q16496441\n",
      "https://osm.wikidata.link/tagged/api/item/Q217430\n",
      "https://osm.wikidata.link/tagged/api/item/Q16275760\n"
     ]
    },
    {
     "name": "stderr",
     "output_type": "stream",
     "text": [
      "  1%|          | 19/2761 [00:01<03:54, 11.71it/s]"
     ]
    },
    {
     "name": "stdout",
     "output_type": "stream",
     "text": [
      "https://osm.wikidata.link/tagged/api/item/Q629354\n",
      "https://osm.wikidata.link/tagged/api/item/Q16496783\n",
      "https://osm.wikidata.link/tagged/api/item/Q16496819\n"
     ]
    },
    {
     "name": "stderr",
     "output_type": "stream",
     "text": [
      "\r",
      "  1%|          | 21/2761 [00:01<03:54, 11.71it/s]"
     ]
    },
    {
     "name": "stdout",
     "output_type": "stream",
     "text": [
      "https://osm.wikidata.link/tagged/api/item/Q17781091\n",
      "https://osm.wikidata.link/tagged/api/item/Q16496868\n",
      "https://osm.wikidata.link/tagged/api/item/Q16496731\n"
     ]
    },
    {
     "name": "stderr",
     "output_type": "stream",
     "text": [
      "  1%|          | 25/2761 [00:02<03:51, 11.81it/s]"
     ]
    },
    {
     "name": "stdout",
     "output_type": "stream",
     "text": [
      "https://osm.wikidata.link/tagged/api/item/Q16275831\n",
      "https://osm.wikidata.link/tagged/api/item/Q4992724\n",
      "https://osm.wikidata.link/tagged/api/item/Q16275859\n"
     ]
    },
    {
     "name": "stderr",
     "output_type": "stream",
     "text": [
      "\r",
      "  1%|          | 27/2761 [00:02<03:51, 11.80it/s]"
     ]
    },
    {
     "name": "stdout",
     "output_type": "stream",
     "text": [
      "https://osm.wikidata.link/tagged/api/item/Q10572659\n",
      "https://osm.wikidata.link/tagged/api/item/Q173596\n",
      "https://osm.wikidata.link/tagged/api/item/Q10419129\n"
     ]
    },
    {
     "name": "stderr",
     "output_type": "stream",
     "text": [
      "  1%|          | 31/2761 [00:02<03:52, 11.77it/s]"
     ]
    },
    {
     "name": "stdout",
     "output_type": "stream",
     "text": [
      "https://osm.wikidata.link/tagged/api/item/Q31891561\n",
      "https://osm.wikidata.link/tagged/api/item/Q10727528\n",
      "https://osm.wikidata.link/tagged/api/item/Q188195\n"
     ]
    },
    {
     "name": "stderr",
     "output_type": "stream",
     "text": [
      "\r",
      "  1%|          | 33/2761 [00:02<03:55, 11.60it/s]"
     ]
    },
    {
     "name": "stdout",
     "output_type": "stream",
     "text": [
      "https://osm.wikidata.link/tagged/api/item/Q18188217\n",
      "https://osm.wikidata.link/tagged/api/item/Q10419908\n",
      "https://osm.wikidata.link/tagged/api/item/Q16497364\n"
     ]
    },
    {
     "name": "stderr",
     "output_type": "stream",
     "text": [
      "  1%|▏         | 37/2761 [00:03<03:55, 11.59it/s]"
     ]
    },
    {
     "name": "stdout",
     "output_type": "stream",
     "text": [
      "https://osm.wikidata.link/tagged/api/item/Q16497665\n",
      "https://osm.wikidata.link/tagged/api/item/Q10423780\n",
      "https://osm.wikidata.link/tagged/api/item/Q13368095\n"
     ]
    },
    {
     "name": "stderr",
     "output_type": "stream",
     "text": [
      "\r",
      "  1%|▏         | 39/2761 [00:03<03:53, 11.68it/s]"
     ]
    },
    {
     "name": "stdout",
     "output_type": "stream",
     "text": [
      "https://osm.wikidata.link/tagged/api/item/Q629354\n",
      "https://osm.wikidata.link/tagged/api/item/Q188195\n",
      "https://osm.wikidata.link/tagged/api/item/Q4176489\n"
     ]
    },
    {
     "name": "stderr",
     "output_type": "stream",
     "text": [
      "  2%|▏         | 43/2761 [00:03<03:51, 11.75it/s]"
     ]
    },
    {
     "name": "stdout",
     "output_type": "stream",
     "text": [
      "https://osm.wikidata.link/tagged/api/item/Q184492\n",
      "https://osm.wikidata.link/tagged/api/item/Q10548414\n",
      "https://osm.wikidata.link/tagged/api/item/Q173596\n"
     ]
    },
    {
     "name": "stderr",
     "output_type": "stream",
     "text": [
      "\r",
      "  2%|▏         | 45/2761 [00:03<03:49, 11.81it/s]"
     ]
    },
    {
     "name": "stdout",
     "output_type": "stream",
     "text": [
      "https://osm.wikidata.link/tagged/api/item/Q10425483\n",
      "https://osm.wikidata.link/tagged/api/item/Q10425742\n",
      "https://osm.wikidata.link/tagged/api/item/Q629354\n"
     ]
    },
    {
     "name": "stderr",
     "output_type": "stream",
     "text": [
      "  2%|▏         | 49/2761 [00:04<03:53, 11.64it/s]"
     ]
    },
    {
     "name": "stdout",
     "output_type": "stream",
     "text": [
      "https://osm.wikidata.link/tagged/api/item/Q10686342\n",
      "https://osm.wikidata.link/tagged/api/item/Q16498256\n",
      "https://osm.wikidata.link/tagged/api/item/Q16498284\n"
     ]
    },
    {
     "name": "stderr",
     "output_type": "stream",
     "text": [
      "\r",
      "  2%|▏         | 51/2761 [00:04<03:50, 11.74it/s]"
     ]
    },
    {
     "name": "stdout",
     "output_type": "stream",
     "text": [
      "https://osm.wikidata.link/tagged/api/item/Q184492\n",
      "https://osm.wikidata.link/tagged/api/item/Q188195\n",
      "https://osm.wikidata.link/tagged/api/item/Q2518033\n"
     ]
    },
    {
     "name": "stderr",
     "output_type": "stream",
     "text": [
      "  2%|▏         | 55/2761 [00:04<03:48, 11.84it/s]"
     ]
    },
    {
     "name": "stdout",
     "output_type": "stream",
     "text": [
      "https://osm.wikidata.link/tagged/api/item/Q16498417\n",
      "https://osm.wikidata.link/tagged/api/item/Q1938681\n",
      "https://osm.wikidata.link/tagged/api/item/Q16498530\n"
     ]
    },
    {
     "name": "stderr",
     "output_type": "stream",
     "text": [
      "\r",
      "  2%|▏         | 57/2761 [00:04<03:50, 11.75it/s]"
     ]
    },
    {
     "name": "stdout",
     "output_type": "stream",
     "text": [
      "https://osm.wikidata.link/tagged/api/item/Q1574296\n",
      "https://osm.wikidata.link/tagged/api/item/Q63358664\n",
      "https://osm.wikidata.link/tagged/api/item/Q1545197\n"
     ]
    },
    {
     "name": "stderr",
     "output_type": "stream",
     "text": [
      "  2%|▏         | 61/2761 [00:05<03:50, 11.69it/s]"
     ]
    },
    {
     "name": "stdout",
     "output_type": "stream",
     "text": [
      "https://osm.wikidata.link/tagged/api/item/Q248626\n",
      "https://osm.wikidata.link/tagged/api/item/Q10681088\n",
      "https://osm.wikidata.link/tagged/api/item/Q18094790\n"
     ]
    },
    {
     "name": "stderr",
     "output_type": "stream",
     "text": [
      "\r",
      "  2%|▏         | 63/2761 [00:05<03:51, 11.64it/s]"
     ]
    },
    {
     "name": "stdout",
     "output_type": "stream",
     "text": [
      "https://osm.wikidata.link/tagged/api/item/Q4993120\n",
      "https://osm.wikidata.link/tagged/api/item/Q16502343\n",
      "https://osm.wikidata.link/tagged/api/item/Q16502485\n"
     ]
    },
    {
     "name": "stderr",
     "output_type": "stream",
     "text": [
      "  2%|▏         | 67/2761 [00:05<03:53, 11.52it/s]"
     ]
    },
    {
     "name": "stdout",
     "output_type": "stream",
     "text": [
      "https://osm.wikidata.link/tagged/api/item/Q16502489\n",
      "https://osm.wikidata.link/tagged/api/item/Q173596\n",
      "https://osm.wikidata.link/tagged/api/item/Q17709346\n"
     ]
    },
    {
     "name": "stderr",
     "output_type": "stream",
     "text": [
      "\r",
      "  2%|▏         | 69/2761 [00:05<03:55, 11.43it/s]"
     ]
    },
    {
     "name": "stdout",
     "output_type": "stream",
     "text": [
      "https://osm.wikidata.link/tagged/api/item/Q184492\n",
      "https://osm.wikidata.link/tagged/api/item/Q173596\n",
      "https://osm.wikidata.link/tagged/api/item/Q16496308\n"
     ]
    },
    {
     "name": "stderr",
     "output_type": "stream",
     "text": [
      "  3%|▎         | 73/2761 [00:06<03:50, 11.68it/s]"
     ]
    },
    {
     "name": "stdout",
     "output_type": "stream",
     "text": [
      "https://osm.wikidata.link/tagged/api/item/Q184492\n",
      "https://osm.wikidata.link/tagged/api/item/Q18178142\n",
      "https://osm.wikidata.link/tagged/api/item/Q173596\n"
     ]
    },
    {
     "name": "stderr",
     "output_type": "stream",
     "text": [
      "\r",
      "  3%|▎         | 75/2761 [00:06<03:48, 11.76it/s]"
     ]
    },
    {
     "name": "stdout",
     "output_type": "stream",
     "text": [
      "https://osm.wikidata.link/tagged/api/item/Q16503735\n",
      "https://osm.wikidata.link/tagged/api/item/Q18134022\n",
      "https://osm.wikidata.link/tagged/api/item/Q16503799\n"
     ]
    },
    {
     "name": "stderr",
     "output_type": "stream",
     "text": [
      "  3%|▎         | 79/2761 [00:06<03:49, 11.69it/s]"
     ]
    },
    {
     "name": "stdout",
     "output_type": "stream",
     "text": [
      "https://osm.wikidata.link/tagged/api/item/Q891521\n",
      "https://osm.wikidata.link/tagged/api/item/Q173596\n",
      "https://osm.wikidata.link/tagged/api/item/Q184492\n"
     ]
    },
    {
     "name": "stderr",
     "output_type": "stream",
     "text": [
      "\r",
      "  3%|▎         | 81/2761 [00:06<03:49, 11.68it/s]"
     ]
    },
    {
     "name": "stdout",
     "output_type": "stream",
     "text": [
      "https://osm.wikidata.link/tagged/api/item/Q10572940\n",
      "https://osm.wikidata.link/tagged/api/item/Q16503956\n",
      "https://osm.wikidata.link/tagged/api/item/Q10433413\n"
     ]
    },
    {
     "name": "stderr",
     "output_type": "stream",
     "text": [
      "  3%|▎         | 85/2761 [00:07<03:56, 11.29it/s]"
     ]
    },
    {
     "name": "stdout",
     "output_type": "stream",
     "text": [
      "https://osm.wikidata.link/tagged/api/item/Q5519368\n",
      "https://osm.wikidata.link/tagged/api/item/Q248626\n",
      "https://osm.wikidata.link/tagged/api/item/Q10727586\n"
     ]
    },
    {
     "name": "stderr",
     "output_type": "stream",
     "text": [
      "\r",
      "  3%|▎         | 87/2761 [00:07<04:05, 10.88it/s]"
     ]
    },
    {
     "name": "stdout",
     "output_type": "stream",
     "text": [
      "https://osm.wikidata.link/tagged/api/item/Q184492\n",
      "https://osm.wikidata.link/tagged/api/item/Q106920240\n",
      "https://osm.wikidata.link/tagged/api/item/Q10705582\n"
     ]
    },
    {
     "name": "stderr",
     "output_type": "stream",
     "text": [
      "  3%|▎         | 91/2761 [00:07<04:02, 11.02it/s]"
     ]
    },
    {
     "name": "stdout",
     "output_type": "stream",
     "text": [
      "https://osm.wikidata.link/tagged/api/item/Q10561762\n",
      "https://osm.wikidata.link/tagged/api/item/Q16505539\n",
      "https://osm.wikidata.link/tagged/api/item/Q184492\n"
     ]
    },
    {
     "name": "stderr",
     "output_type": "stream",
     "text": [
      "\r",
      "  3%|▎         | 93/2761 [00:08<03:57, 11.21it/s]"
     ]
    },
    {
     "name": "stdout",
     "output_type": "stream",
     "text": [
      "https://osm.wikidata.link/tagged/api/item/Q184492\n",
      "https://osm.wikidata.link/tagged/api/item/Q629354\n",
      "https://osm.wikidata.link/tagged/api/item/Q992937\n"
     ]
    },
    {
     "name": "stderr",
     "output_type": "stream",
     "text": [
      "  4%|▎         | 97/2761 [00:08<04:00, 11.09it/s]"
     ]
    },
    {
     "name": "stdout",
     "output_type": "stream",
     "text": [
      "https://osm.wikidata.link/tagged/api/item/Q188195\n",
      "https://osm.wikidata.link/tagged/api/item/Q18182797\n",
      "https://osm.wikidata.link/tagged/api/item/Q18182797\n"
     ]
    },
    {
     "name": "stderr",
     "output_type": "stream",
     "text": [
      "\r",
      "  4%|▎         | 99/2761 [00:08<03:57, 11.19it/s]"
     ]
    },
    {
     "name": "stdout",
     "output_type": "stream",
     "text": [
      "https://osm.wikidata.link/tagged/api/item/Q18194046\n",
      "https://osm.wikidata.link/tagged/api/item/Q16506308\n",
      "https://osm.wikidata.link/tagged/api/item/Q32229557\n"
     ]
    },
    {
     "name": "stderr",
     "output_type": "stream",
     "text": [
      "\r",
      "  4%|▎         | 101/2761 [00:08<03:58, 11.14it/s]"
     ]
    },
    {
     "name": "stdout",
     "output_type": "stream",
     "text": [
      "https://osm.wikidata.link/tagged/api/item/Q943244\n",
      "https://osm.wikidata.link/tagged/api/item/Q629354\n"
     ]
    },
    {
     "name": "stderr",
     "output_type": "stream",
     "text": [
      "  4%|▍         | 105/2761 [00:09<04:20, 10.20it/s]"
     ]
    },
    {
     "name": "stdout",
     "output_type": "stream",
     "text": [
      "https://osm.wikidata.link/tagged/api/item/Q10438360\n",
      "https://osm.wikidata.link/tagged/api/item/Q10438438\n",
      "https://osm.wikidata.link/tagged/api/item/Q3361714\n"
     ]
    },
    {
     "name": "stderr",
     "output_type": "stream",
     "text": [
      "\r",
      "  4%|▍         | 107/2761 [00:09<04:10, 10.58it/s]"
     ]
    },
    {
     "name": "stdout",
     "output_type": "stream",
     "text": [
      "https://osm.wikidata.link/tagged/api/item/Q16506816\n",
      "https://osm.wikidata.link/tagged/api/item/Q188195\n",
      "https://osm.wikidata.link/tagged/api/item/Q10727586\n"
     ]
    },
    {
     "name": "stderr",
     "output_type": "stream",
     "text": [
      "  4%|▍         | 111/2761 [00:09<03:59, 11.08it/s]"
     ]
    },
    {
     "name": "stdout",
     "output_type": "stream",
     "text": [
      "https://osm.wikidata.link/tagged/api/item/Q16507273\n",
      "https://osm.wikidata.link/tagged/api/item/Q16507329\n",
      "https://osm.wikidata.link/tagged/api/item/Q16507329\n"
     ]
    },
    {
     "name": "stderr",
     "output_type": "stream",
     "text": [
      "\r",
      "  4%|▍         | 113/2761 [00:09<03:57, 11.16it/s]"
     ]
    },
    {
     "name": "stdout",
     "output_type": "stream",
     "text": [
      "https://osm.wikidata.link/tagged/api/item/Q10726067\n",
      "https://osm.wikidata.link/tagged/api/item/Q16275913\n",
      "https://osm.wikidata.link/tagged/api/item/Q473857\n"
     ]
    },
    {
     "name": "stderr",
     "output_type": "stream",
     "text": [
      "  4%|▍         | 117/2761 [00:10<03:51, 11.42it/s]"
     ]
    },
    {
     "name": "stdout",
     "output_type": "stream",
     "text": [
      "https://osm.wikidata.link/tagged/api/item/Q28838051\n",
      "https://osm.wikidata.link/tagged/api/item/Q18194042\n",
      "https://osm.wikidata.link/tagged/api/item/Q18178112\n"
     ]
    },
    {
     "name": "stderr",
     "output_type": "stream",
     "text": [
      "\r",
      "  4%|▍         | 119/2761 [00:10<03:49, 11.49it/s]"
     ]
    },
    {
     "name": "stdout",
     "output_type": "stream",
     "text": [
      "https://osm.wikidata.link/tagged/api/item/Q17733787\n",
      "https://osm.wikidata.link/tagged/api/item/Q18134021\n",
      "https://osm.wikidata.link/tagged/api/item/Q10593482\n"
     ]
    },
    {
     "name": "stderr",
     "output_type": "stream",
     "text": [
      "  4%|▍         | 123/2761 [00:10<03:46, 11.62it/s]"
     ]
    },
    {
     "name": "stdout",
     "output_type": "stream",
     "text": [
      "https://osm.wikidata.link/tagged/api/item/Q10593482\n",
      "https://osm.wikidata.link/tagged/api/item/Q18134963\n",
      "https://osm.wikidata.link/tagged/api/item/Q16924621\n"
     ]
    },
    {
     "name": "stderr",
     "output_type": "stream",
     "text": [
      "\r",
      "  5%|▍         | 125/2761 [00:10<03:46, 11.63it/s]"
     ]
    },
    {
     "name": "stdout",
     "output_type": "stream",
     "text": [
      "https://osm.wikidata.link/tagged/api/item/Q211425\n",
      "https://osm.wikidata.link/tagged/api/item/Q676523\n",
      "https://osm.wikidata.link/tagged/api/item/Q10477224\n"
     ]
    },
    {
     "name": "stderr",
     "output_type": "stream",
     "text": [
      "  5%|▍         | 129/2761 [00:11<03:47, 11.55it/s]"
     ]
    },
    {
     "name": "stdout",
     "output_type": "stream",
     "text": [
      "https://osm.wikidata.link/tagged/api/item/Q188195\n",
      "https://osm.wikidata.link/tagged/api/item/Q10688256\n",
      "https://osm.wikidata.link/tagged/api/item/Q173596\n"
     ]
    },
    {
     "name": "stderr",
     "output_type": "stream",
     "text": [
      "\r",
      "  5%|▍         | 131/2761 [00:11<03:53, 11.25it/s]"
     ]
    },
    {
     "name": "stdout",
     "output_type": "stream",
     "text": [
      "https://osm.wikidata.link/tagged/api/item/Q173596\n",
      "https://osm.wikidata.link/tagged/api/item/Q3360880\n",
      "https://osm.wikidata.link/tagged/api/item/Q10717650\n"
     ]
    },
    {
     "name": "stderr",
     "output_type": "stream",
     "text": [
      "  5%|▍         | 135/2761 [00:11<03:49, 11.46it/s]"
     ]
    },
    {
     "name": "stdout",
     "output_type": "stream",
     "text": [
      "https://osm.wikidata.link/tagged/api/item/Q18192814\n",
      "https://osm.wikidata.link/tagged/api/item/Q202868\n",
      "https://osm.wikidata.link/tagged/api/item/Q184492\n"
     ]
    },
    {
     "name": "stderr",
     "output_type": "stream",
     "text": [
      "\r",
      "  5%|▍         | 137/2761 [00:12<03:48, 11.48it/s]"
     ]
    },
    {
     "name": "stdout",
     "output_type": "stream",
     "text": [
      "https://osm.wikidata.link/tagged/api/item/Q3361283\n",
      "https://osm.wikidata.link/tagged/api/item/Q173596\n",
      "https://osm.wikidata.link/tagged/api/item/Q1574296\n"
     ]
    },
    {
     "name": "stderr",
     "output_type": "stream",
     "text": [
      "  5%|▌         | 141/2761 [00:12<03:54, 11.18it/s]"
     ]
    },
    {
     "name": "stdout",
     "output_type": "stream",
     "text": [
      "https://osm.wikidata.link/tagged/api/item/Q18181312\n",
      "https://osm.wikidata.link/tagged/api/item/Q10488451\n",
      "https://osm.wikidata.link/tagged/api/item/Q4993120\n"
     ]
    },
    {
     "name": "stderr",
     "output_type": "stream",
     "text": [
      "\r",
      "  5%|▌         | 143/2761 [00:12<03:50, 11.34it/s]"
     ]
    },
    {
     "name": "stdout",
     "output_type": "stream",
     "text": [
      "https://osm.wikidata.link/tagged/api/item/Q18190499\n",
      "https://osm.wikidata.link/tagged/api/item/Q2208706\n",
      "https://osm.wikidata.link/tagged/api/item/Q4991981\n"
     ]
    },
    {
     "name": "stderr",
     "output_type": "stream",
     "text": [
      "  5%|▌         | 147/2761 [00:12<03:46, 11.54it/s]"
     ]
    },
    {
     "name": "stdout",
     "output_type": "stream",
     "text": [
      "https://osm.wikidata.link/tagged/api/item/Q18177785\n",
      "https://osm.wikidata.link/tagged/api/item/Q1278126\n",
      "https://osm.wikidata.link/tagged/api/item/Q17745223\n"
     ]
    },
    {
     "name": "stderr",
     "output_type": "stream",
     "text": [
      "\r",
      "  5%|▌         | 149/2761 [00:13<03:46, 11.55it/s]"
     ]
    },
    {
     "name": "stdout",
     "output_type": "stream",
     "text": [
      "https://osm.wikidata.link/tagged/api/item/Q4993120\n",
      "https://osm.wikidata.link/tagged/api/item/Q10688202\n",
      "https://osm.wikidata.link/tagged/api/item/Q211425\n"
     ]
    },
    {
     "name": "stderr",
     "output_type": "stream",
     "text": [
      "  6%|▌         | 153/2761 [00:13<03:44, 11.62it/s]"
     ]
    },
    {
     "name": "stdout",
     "output_type": "stream",
     "text": [
      "https://osm.wikidata.link/tagged/api/item/Q18190591\n",
      "https://osm.wikidata.link/tagged/api/item/Q10701706\n",
      "https://osm.wikidata.link/tagged/api/item/Q18105292\n"
     ]
    },
    {
     "name": "stderr",
     "output_type": "stream",
     "text": [
      "\r",
      "  6%|▌         | 155/2761 [00:13<03:44, 11.62it/s]"
     ]
    },
    {
     "name": "stdout",
     "output_type": "stream",
     "text": [
      "https://osm.wikidata.link/tagged/api/item/Q16496783\n",
      "https://osm.wikidata.link/tagged/api/item/Q18179146\n",
      "https://osm.wikidata.link/tagged/api/item/Q3360936\n"
     ]
    },
    {
     "name": "stderr",
     "output_type": "stream",
     "text": [
      "  6%|▌         | 159/2761 [00:13<03:45, 11.54it/s]"
     ]
    },
    {
     "name": "stdout",
     "output_type": "stream",
     "text": [
      "https://osm.wikidata.link/tagged/api/item/Q18196808\n",
      "https://osm.wikidata.link/tagged/api/item/Q18198796\n",
      "https://osm.wikidata.link/tagged/api/item/Q184492\n"
     ]
    },
    {
     "name": "stderr",
     "output_type": "stream",
     "text": [
      "\r",
      "  6%|▌         | 161/2761 [00:14<03:45, 11.53it/s]"
     ]
    },
    {
     "name": "stdout",
     "output_type": "stream",
     "text": [
      "https://osm.wikidata.link/tagged/api/item/Q184492\n",
      "https://osm.wikidata.link/tagged/api/item/Q10419838\n",
      "https://osm.wikidata.link/tagged/api/item/Q10727528\n"
     ]
    },
    {
     "name": "stderr",
     "output_type": "stream",
     "text": [
      "  6%|▌         | 165/2761 [00:14<04:01, 10.74it/s]"
     ]
    },
    {
     "name": "stdout",
     "output_type": "stream",
     "text": [
      "https://osm.wikidata.link/tagged/api/item/Q1146737\n",
      "https://osm.wikidata.link/tagged/api/item/Q184492\n",
      "https://osm.wikidata.link/tagged/api/item/Q184492\n"
     ]
    },
    {
     "name": "stderr",
     "output_type": "stream",
     "text": [
      "\r",
      "  6%|▌         | 167/2761 [00:14<04:01, 10.74it/s]"
     ]
    },
    {
     "name": "stdout",
     "output_type": "stream",
     "text": [
      "https://osm.wikidata.link/tagged/api/item/Q629354\n",
      "https://osm.wikidata.link/tagged/api/item/Q18134954\n",
      "https://osm.wikidata.link/tagged/api/item/Q216627\n"
     ]
    },
    {
     "name": "stderr",
     "output_type": "stream",
     "text": [
      "  6%|▌         | 171/2761 [00:15<04:02, 10.66it/s]"
     ]
    },
    {
     "name": "stdout",
     "output_type": "stream",
     "text": [
      "https://osm.wikidata.link/tagged/api/item/Q10419838\n",
      "https://osm.wikidata.link/tagged/api/item/Q184492\n",
      "https://osm.wikidata.link/tagged/api/item/Q173596\n"
     ]
    },
    {
     "name": "stderr",
     "output_type": "stream",
     "text": [
      "\r",
      "  6%|▋         | 173/2761 [00:15<03:57, 10.89it/s]"
     ]
    },
    {
     "name": "stdout",
     "output_type": "stream",
     "text": [
      "https://osm.wikidata.link/tagged/api/item/Q18050040\n",
      "https://osm.wikidata.link/tagged/api/item/Q18197492\n",
      "https://osm.wikidata.link/tagged/api/item/Q173596\n"
     ]
    },
    {
     "name": "stderr",
     "output_type": "stream",
     "text": [
      "  6%|▋         | 177/2761 [00:15<03:49, 11.27it/s]"
     ]
    },
    {
     "name": "stdout",
     "output_type": "stream",
     "text": [
      "https://osm.wikidata.link/tagged/api/item/Q18185257\n",
      "https://osm.wikidata.link/tagged/api/item/Q17518695\n",
      "https://osm.wikidata.link/tagged/api/item/Q18194868\n"
     ]
    },
    {
     "name": "stderr",
     "output_type": "stream",
     "text": [
      "\r",
      "  6%|▋         | 179/2761 [00:15<03:49, 11.23it/s]"
     ]
    },
    {
     "name": "stdout",
     "output_type": "stream",
     "text": [
      "https://osm.wikidata.link/tagged/api/item/Q2208706\n",
      "https://osm.wikidata.link/tagged/api/item/Q16506567\n",
      "https://osm.wikidata.link/tagged/api/item/Q10595665\n"
     ]
    },
    {
     "name": "stderr",
     "output_type": "stream",
     "text": [
      "  7%|▋         | 183/2761 [00:16<03:46, 11.39it/s]"
     ]
    },
    {
     "name": "stdout",
     "output_type": "stream",
     "text": [
      "https://osm.wikidata.link/tagged/api/item/Q16501913\n",
      "https://osm.wikidata.link/tagged/api/item/Q10510892\n",
      "https://osm.wikidata.link/tagged/api/item/Q10508937\n"
     ]
    },
    {
     "name": "stderr",
     "output_type": "stream",
     "text": [
      "\r",
      "  7%|▋         | 185/2761 [00:16<03:45, 11.42it/s]"
     ]
    },
    {
     "name": "stdout",
     "output_type": "stream",
     "text": [
      "https://osm.wikidata.link/tagged/api/item/Q10508937\n",
      "https://osm.wikidata.link/tagged/api/item/Q17745187\n",
      "https://osm.wikidata.link/tagged/api/item/Q18187251\n"
     ]
    },
    {
     "name": "stderr",
     "output_type": "stream",
     "text": [
      "  7%|▋         | 189/2761 [00:16<03:49, 11.21it/s]"
     ]
    },
    {
     "name": "stdout",
     "output_type": "stream",
     "text": [
      "https://osm.wikidata.link/tagged/api/item/Q4993120\n",
      "https://osm.wikidata.link/tagged/api/item/Q18182733\n",
      "https://osm.wikidata.link/tagged/api/item/Q4993120\n"
     ]
    },
    {
     "name": "stderr",
     "output_type": "stream",
     "text": [
      "\r",
      "  7%|▋         | 191/2761 [00:16<03:47, 11.28it/s]"
     ]
    },
    {
     "name": "stdout",
     "output_type": "stream",
     "text": [
      "https://osm.wikidata.link/tagged/api/item/Q10510892\n",
      "https://osm.wikidata.link/tagged/api/item/Q17618366\n",
      "https://osm.wikidata.link/tagged/api/item/Q184492\n"
     ]
    },
    {
     "name": "stderr",
     "output_type": "stream",
     "text": [
      "  7%|▋         | 195/2761 [00:17<03:41, 11.61it/s]"
     ]
    },
    {
     "name": "stdout",
     "output_type": "stream",
     "text": [
      "https://osm.wikidata.link/tagged/api/item/Q3360872\n",
      "https://osm.wikidata.link/tagged/api/item/Q184492\n",
      "https://osm.wikidata.link/tagged/api/item/Q184492\n"
     ]
    },
    {
     "name": "stderr",
     "output_type": "stream",
     "text": [
      "\r",
      "  7%|▋         | 197/2761 [00:17<03:39, 11.67it/s]"
     ]
    },
    {
     "name": "stdout",
     "output_type": "stream",
     "text": [
      "https://osm.wikidata.link/tagged/api/item/Q18105737\n",
      "https://osm.wikidata.link/tagged/api/item/Q3430555\n",
      "https://osm.wikidata.link/tagged/api/item/Q4993120\n"
     ]
    },
    {
     "name": "stderr",
     "output_type": "stream",
     "text": [
      "  7%|▋         | 201/2761 [00:17<03:45, 11.36it/s]"
     ]
    },
    {
     "name": "stdout",
     "output_type": "stream",
     "text": [
      "https://osm.wikidata.link/tagged/api/item/Q10499216\n",
      "https://osm.wikidata.link/tagged/api/item/Q18178634\n",
      "https://osm.wikidata.link/tagged/api/item/Q3430555\n"
     ]
    },
    {
     "name": "stderr",
     "output_type": "stream",
     "text": [
      "\r",
      "  7%|▋         | 203/2761 [00:17<04:20,  9.83it/s]"
     ]
    },
    {
     "name": "stdout",
     "output_type": "stream",
     "text": [
      "https://osm.wikidata.link/tagged/api/item/Q211425\n",
      "https://osm.wikidata.link/tagged/api/item/Q18196321\n"
     ]
    },
    {
     "name": "stderr",
     "output_type": "stream",
     "text": [
      "\r",
      "  7%|▋         | 205/2761 [00:18<04:21,  9.79it/s]"
     ]
    },
    {
     "name": "stdout",
     "output_type": "stream",
     "text": [
      "https://osm.wikidata.link/tagged/api/item/Q629354\n",
      "https://osm.wikidata.link/tagged/api/item/Q188195\n",
      "https://osm.wikidata.link/tagged/api/item/Q3361714\n"
     ]
    },
    {
     "name": "stderr",
     "output_type": "stream",
     "text": [
      "  8%|▊         | 209/2761 [00:18<04:05, 10.41it/s]"
     ]
    },
    {
     "name": "stdout",
     "output_type": "stream",
     "text": [
      "https://osm.wikidata.link/tagged/api/item/Q28475226\n",
      "https://osm.wikidata.link/tagged/api/item/Q18002473\n",
      "https://osm.wikidata.link/tagged/api/item/Q18179724\n"
     ]
    },
    {
     "name": "stderr",
     "output_type": "stream",
     "text": [
      "\r",
      "  8%|▊         | 211/2761 [00:18<03:56, 10.79it/s]"
     ]
    },
    {
     "name": "stdout",
     "output_type": "stream",
     "text": [
      "https://osm.wikidata.link/tagged/api/item/Q173596\n",
      "https://osm.wikidata.link/tagged/api/item/Q18185549\n",
      "https://osm.wikidata.link/tagged/api/item/Q17644753\n"
     ]
    },
    {
     "name": "stderr",
     "output_type": "stream",
     "text": [
      "  8%|▊         | 215/2761 [00:19<03:58, 10.65it/s]"
     ]
    },
    {
     "name": "stdout",
     "output_type": "stream",
     "text": [
      "https://osm.wikidata.link/tagged/api/item/Q18186372\n",
      "https://osm.wikidata.link/tagged/api/item/Q149448\n",
      "https://osm.wikidata.link/tagged/api/item/Q1474746\n"
     ]
    },
    {
     "name": "stderr",
     "output_type": "stream",
     "text": [
      "\r",
      "  8%|▊         | 217/2761 [00:19<03:51, 11.01it/s]"
     ]
    },
    {
     "name": "stdout",
     "output_type": "stream",
     "text": [
      "https://osm.wikidata.link/tagged/api/item/Q217430\n",
      "https://osm.wikidata.link/tagged/api/item/Q32254050\n",
      "https://osm.wikidata.link/tagged/api/item/Q10524190\n"
     ]
    },
    {
     "name": "stderr",
     "output_type": "stream",
     "text": [
      "  8%|▊         | 221/2761 [00:19<03:43, 11.34it/s]"
     ]
    },
    {
     "name": "stdout",
     "output_type": "stream",
     "text": [
      "https://osm.wikidata.link/tagged/api/item/Q17709719\n",
      "https://osm.wikidata.link/tagged/api/item/Q18134084\n",
      "https://osm.wikidata.link/tagged/api/item/Q1333418\n"
     ]
    },
    {
     "name": "stderr",
     "output_type": "stream",
     "text": [
      "\r",
      "  8%|▊         | 223/2761 [00:19<03:40, 11.53it/s]"
     ]
    },
    {
     "name": "stdout",
     "output_type": "stream",
     "text": [
      "https://osm.wikidata.link/tagged/api/item/Q1545197\n",
      "https://osm.wikidata.link/tagged/api/item/Q211425\n",
      "https://osm.wikidata.link/tagged/api/item/Q18177576\n"
     ]
    },
    {
     "name": "stderr",
     "output_type": "stream",
     "text": [
      "  8%|▊         | 227/2761 [00:20<03:41, 11.45it/s]"
     ]
    },
    {
     "name": "stdout",
     "output_type": "stream",
     "text": [
      "https://osm.wikidata.link/tagged/api/item/Q3361685\n",
      "https://osm.wikidata.link/tagged/api/item/Q10526496\n",
      "https://osm.wikidata.link/tagged/api/item/Q18177950\n"
     ]
    },
    {
     "name": "stderr",
     "output_type": "stream",
     "text": [
      "\r",
      "  8%|▊         | 229/2761 [00:20<03:39, 11.53it/s]"
     ]
    },
    {
     "name": "stdout",
     "output_type": "stream",
     "text": [
      "https://osm.wikidata.link/tagged/api/item/Q271286\n",
      "https://osm.wikidata.link/tagged/api/item/Q3361241\n",
      "https://osm.wikidata.link/tagged/api/item/Q10541827\n"
     ]
    },
    {
     "name": "stderr",
     "output_type": "stream",
     "text": [
      "  8%|▊         | 233/2761 [00:20<03:37, 11.64it/s]"
     ]
    },
    {
     "name": "stdout",
     "output_type": "stream",
     "text": [
      "https://osm.wikidata.link/tagged/api/item/Q18177793\n",
      "https://osm.wikidata.link/tagged/api/item/Q10526977\n",
      "https://osm.wikidata.link/tagged/api/item/Q18189400\n"
     ]
    },
    {
     "name": "stderr",
     "output_type": "stream",
     "text": [
      "\r",
      "  9%|▊         | 235/2761 [00:20<03:36, 11.68it/s]"
     ]
    },
    {
     "name": "stdout",
     "output_type": "stream",
     "text": [
      "https://osm.wikidata.link/tagged/api/item/Q4176489\n",
      "https://osm.wikidata.link/tagged/api/item/Q184492\n",
      "https://osm.wikidata.link/tagged/api/item/Q10688256\n"
     ]
    },
    {
     "name": "stderr",
     "output_type": "stream",
     "text": [
      "  9%|▊         | 239/2761 [00:21<03:36, 11.65it/s]"
     ]
    },
    {
     "name": "stdout",
     "output_type": "stream",
     "text": [
      "https://osm.wikidata.link/tagged/api/item/Q18094896\n",
      "https://osm.wikidata.link/tagged/api/item/Q18132165\n",
      "https://osm.wikidata.link/tagged/api/item/Q184492\n"
     ]
    },
    {
     "name": "stderr",
     "output_type": "stream",
     "text": [
      "\r",
      "  9%|▊         | 241/2761 [00:21<03:35, 11.69it/s]"
     ]
    },
    {
     "name": "stdout",
     "output_type": "stream",
     "text": [
      "https://osm.wikidata.link/tagged/api/item/Q184492\n",
      "https://osm.wikidata.link/tagged/api/item/Q10531678\n",
      "https://osm.wikidata.link/tagged/api/item/Q184492\n"
     ]
    },
    {
     "name": "stderr",
     "output_type": "stream",
     "text": [
      "  9%|▉         | 245/2761 [00:21<03:35, 11.67it/s]"
     ]
    },
    {
     "name": "stdout",
     "output_type": "stream",
     "text": [
      "https://osm.wikidata.link/tagged/api/item/Q184492\n",
      "https://osm.wikidata.link/tagged/api/item/Q3361378\n",
      "https://osm.wikidata.link/tagged/api/item/Q188195\n"
     ]
    },
    {
     "name": "stderr",
     "output_type": "stream",
     "text": [
      "\r",
      "  9%|▉         | 247/2761 [00:21<03:37, 11.56it/s]"
     ]
    },
    {
     "name": "stdout",
     "output_type": "stream",
     "text": [
      "https://osm.wikidata.link/tagged/api/item/Q18190637\n",
      "https://osm.wikidata.link/tagged/api/item/Q10715295\n",
      "https://osm.wikidata.link/tagged/api/item/Q10532682\n"
     ]
    },
    {
     "name": "stderr",
     "output_type": "stream",
     "text": [
      "  9%|▉         | 251/2761 [00:22<03:36, 11.61it/s]"
     ]
    },
    {
     "name": "stdout",
     "output_type": "stream",
     "text": [
      "https://osm.wikidata.link/tagged/api/item/Q18069877\n",
      "https://osm.wikidata.link/tagged/api/item/Q1285289\n",
      "https://osm.wikidata.link/tagged/api/item/Q10688256\n"
     ]
    },
    {
     "name": "stderr",
     "output_type": "stream",
     "text": [
      "\r",
      "  9%|▉         | 253/2761 [00:22<03:34, 11.68it/s]"
     ]
    },
    {
     "name": "stdout",
     "output_type": "stream",
     "text": [
      "https://osm.wikidata.link/tagged/api/item/Q629354\n",
      "https://osm.wikidata.link/tagged/api/item/Q188195\n",
      "https://osm.wikidata.link/tagged/api/item/Q184492\n"
     ]
    },
    {
     "name": "stderr",
     "output_type": "stream",
     "text": [
      "  9%|▉         | 257/2761 [00:22<03:32, 11.77it/s]"
     ]
    },
    {
     "name": "stdout",
     "output_type": "stream",
     "text": [
      "https://osm.wikidata.link/tagged/api/item/Q184492\n",
      "https://osm.wikidata.link/tagged/api/item/Q17577115\n",
      "https://osm.wikidata.link/tagged/api/item/Q184492\n"
     ]
    },
    {
     "name": "stderr",
     "output_type": "stream",
     "text": [
      "\r",
      "  9%|▉         | 259/2761 [00:22<03:35, 11.59it/s]"
     ]
    },
    {
     "name": "stdout",
     "output_type": "stream",
     "text": [
      "https://osm.wikidata.link/tagged/api/item/Q10504376\n",
      "https://osm.wikidata.link/tagged/api/item/Q2208706\n",
      "https://osm.wikidata.link/tagged/api/item/Q184492\n"
     ]
    },
    {
     "name": "stderr",
     "output_type": "stream",
     "text": [
      " 10%|▉         | 263/2761 [00:23<03:36, 11.54it/s]"
     ]
    },
    {
     "name": "stdout",
     "output_type": "stream",
     "text": [
      "https://osm.wikidata.link/tagged/api/item/Q184492\n",
      "https://osm.wikidata.link/tagged/api/item/Q184492\n",
      "https://osm.wikidata.link/tagged/api/item/Q17780931\n"
     ]
    },
    {
     "name": "stderr",
     "output_type": "stream",
     "text": [
      "\r",
      " 10%|▉         | 265/2761 [00:23<03:36, 11.54it/s]"
     ]
    },
    {
     "name": "stdout",
     "output_type": "stream",
     "text": [
      "https://osm.wikidata.link/tagged/api/item/Q184492\n",
      "https://osm.wikidata.link/tagged/api/item/Q184492\n",
      "https://osm.wikidata.link/tagged/api/item/Q211425\n"
     ]
    },
    {
     "name": "stderr",
     "output_type": "stream",
     "text": [
      " 10%|▉         | 269/2761 [00:23<03:33, 11.65it/s]"
     ]
    },
    {
     "name": "stdout",
     "output_type": "stream",
     "text": [
      "https://osm.wikidata.link/tagged/api/item/Q173596\n",
      "https://osm.wikidata.link/tagged/api/item/Q18002487\n",
      "https://osm.wikidata.link/tagged/api/item/Q248626\n"
     ]
    },
    {
     "name": "stderr",
     "output_type": "stream",
     "text": [
      "\r",
      " 10%|▉         | 271/2761 [00:23<03:38, 11.42it/s]"
     ]
    },
    {
     "name": "stdout",
     "output_type": "stream",
     "text": [
      "https://osm.wikidata.link/tagged/api/item/Q2208706\n",
      "https://osm.wikidata.link/tagged/api/item/Q18188222\n",
      "https://osm.wikidata.link/tagged/api/item/Q248626\n"
     ]
    },
    {
     "name": "stderr",
     "output_type": "stream",
     "text": [
      " 10%|▉         | 275/2761 [00:24<03:33, 11.65it/s]"
     ]
    },
    {
     "name": "stdout",
     "output_type": "stream",
     "text": [
      "https://osm.wikidata.link/tagged/api/item/Q18198771\n",
      "https://osm.wikidata.link/tagged/api/item/Q184492\n",
      "https://osm.wikidata.link/tagged/api/item/Q4993120\n"
     ]
    },
    {
     "name": "stderr",
     "output_type": "stream",
     "text": [
      "\r",
      " 10%|█         | 277/2761 [00:24<03:29, 11.84it/s]"
     ]
    },
    {
     "name": "stdout",
     "output_type": "stream",
     "text": [
      "https://osm.wikidata.link/tagged/api/item/Q10429654\n",
      "https://osm.wikidata.link/tagged/api/item/Q1938681\n",
      "https://osm.wikidata.link/tagged/api/item/Q17780874\n"
     ]
    },
    {
     "name": "stderr",
     "output_type": "stream",
     "text": [
      " 10%|█         | 281/2761 [00:24<03:29, 11.83it/s]"
     ]
    },
    {
     "name": "stdout",
     "output_type": "stream",
     "text": [
      "https://osm.wikidata.link/tagged/api/item/Q184492\n",
      "https://osm.wikidata.link/tagged/api/item/Q18132326\n",
      "https://osm.wikidata.link/tagged/api/item/Q184492\n"
     ]
    },
    {
     "name": "stderr",
     "output_type": "stream",
     "text": [
      "\r",
      " 10%|█         | 283/2761 [00:24<03:32, 11.66it/s]"
     ]
    },
    {
     "name": "stdout",
     "output_type": "stream",
     "text": [
      "https://osm.wikidata.link/tagged/api/item/Q1851416\n",
      "https://osm.wikidata.link/tagged/api/item/Q3361414\n",
      "https://osm.wikidata.link/tagged/api/item/Q17638496\n"
     ]
    },
    {
     "name": "stderr",
     "output_type": "stream",
     "text": [
      " 10%|█         | 287/2761 [00:25<03:41, 11.19it/s]"
     ]
    },
    {
     "name": "stdout",
     "output_type": "stream",
     "text": [
      "https://osm.wikidata.link/tagged/api/item/Q184492\n",
      "https://osm.wikidata.link/tagged/api/item/Q184492\n",
      "https://osm.wikidata.link/tagged/api/item/Q629354\n"
     ]
    },
    {
     "name": "stderr",
     "output_type": "stream",
     "text": [
      "\r",
      " 10%|█         | 289/2761 [00:25<03:39, 11.28it/s]"
     ]
    },
    {
     "name": "stdout",
     "output_type": "stream",
     "text": [
      "https://osm.wikidata.link/tagged/api/item/Q3360973\n",
      "https://osm.wikidata.link/tagged/api/item/Q3360973\n",
      "https://osm.wikidata.link/tagged/api/item/Q18194069\n"
     ]
    },
    {
     "name": "stderr",
     "output_type": "stream",
     "text": [
      " 11%|█         | 293/2761 [00:25<03:35, 11.46it/s]"
     ]
    },
    {
     "name": "stdout",
     "output_type": "stream",
     "text": [
      "https://osm.wikidata.link/tagged/api/item/Q10602469\n",
      "https://osm.wikidata.link/tagged/api/item/Q173596\n",
      "https://osm.wikidata.link/tagged/api/item/Q1146737\n"
     ]
    },
    {
     "name": "stderr",
     "output_type": "stream",
     "text": [
      "\r",
      " 11%|█         | 295/2761 [00:25<03:36, 11.41it/s]"
     ]
    },
    {
     "name": "stdout",
     "output_type": "stream",
     "text": [
      "https://osm.wikidata.link/tagged/api/item/Q184492\n",
      "https://osm.wikidata.link/tagged/api/item/Q426516\n",
      "https://osm.wikidata.link/tagged/api/item/Q4993120\n"
     ]
    },
    {
     "name": "stderr",
     "output_type": "stream",
     "text": [
      " 11%|█         | 299/2761 [00:26<03:35, 11.41it/s]"
     ]
    },
    {
     "name": "stdout",
     "output_type": "stream",
     "text": [
      "https://osm.wikidata.link/tagged/api/item/Q10554350\n",
      "https://osm.wikidata.link/tagged/api/item/Q4993120\n",
      "https://osm.wikidata.link/tagged/api/item/Q217430\n"
     ]
    },
    {
     "name": "stderr",
     "output_type": "stream",
     "text": [
      "\r",
      " 11%|█         | 301/2761 [00:26<03:33, 11.51it/s]"
     ]
    },
    {
     "name": "stdout",
     "output_type": "stream",
     "text": [
      "https://osm.wikidata.link/tagged/api/item/Q217430\n",
      "https://osm.wikidata.link/tagged/api/item/Q10713150\n",
      "https://osm.wikidata.link/tagged/api/item/Q16506527\n"
     ]
    },
    {
     "name": "stderr",
     "output_type": "stream",
     "text": [
      "\r",
      " 11%|█         | 303/2761 [00:26<03:32, 11.58it/s]"
     ]
    },
    {
     "name": "stdout",
     "output_type": "stream",
     "text": [
      "https://osm.wikidata.link/tagged/api/item/Q18187727\n",
      "https://osm.wikidata.link/tagged/api/item/Q3361706\n"
     ]
    },
    {
     "name": "stderr",
     "output_type": "stream",
     "text": [
      " 11%|█         | 307/2761 [00:27<03:52, 10.54it/s]"
     ]
    },
    {
     "name": "stdout",
     "output_type": "stream",
     "text": [
      "https://osm.wikidata.link/tagged/api/item/Q3361706\n",
      "https://osm.wikidata.link/tagged/api/item/Q18134092\n",
      "https://osm.wikidata.link/tagged/api/item/Q3361403\n"
     ]
    },
    {
     "name": "stderr",
     "output_type": "stream",
     "text": [
      "\r",
      " 11%|█         | 309/2761 [00:27<03:47, 10.78it/s]"
     ]
    },
    {
     "name": "stdout",
     "output_type": "stream",
     "text": [
      "https://osm.wikidata.link/tagged/api/item/Q17644846\n",
      "https://osm.wikidata.link/tagged/api/item/Q184492\n",
      "https://osm.wikidata.link/tagged/api/item/Q10561742\n"
     ]
    },
    {
     "name": "stderr",
     "output_type": "stream",
     "text": [
      " 11%|█▏        | 313/2761 [00:27<03:40, 11.08it/s]"
     ]
    },
    {
     "name": "stdout",
     "output_type": "stream",
     "text": [
      "https://osm.wikidata.link/tagged/api/item/Q17745093\n",
      "https://osm.wikidata.link/tagged/api/item/Q17634170\n",
      "https://osm.wikidata.link/tagged/api/item/Q18105966\n"
     ]
    },
    {
     "name": "stderr",
     "output_type": "stream",
     "text": [
      "\r",
      " 11%|█▏        | 315/2761 [00:27<03:39, 11.13it/s]"
     ]
    },
    {
     "name": "stdout",
     "output_type": "stream",
     "text": [
      "https://osm.wikidata.link/tagged/api/item/Q18186546\n",
      "https://osm.wikidata.link/tagged/api/item/Q10691807\n",
      "https://osm.wikidata.link/tagged/api/item/Q49114276\n"
     ]
    },
    {
     "name": "stderr",
     "output_type": "stream",
     "text": [
      " 12%|█▏        | 319/2761 [00:28<03:33, 11.42it/s]"
     ]
    },
    {
     "name": "stdout",
     "output_type": "stream",
     "text": [
      "https://osm.wikidata.link/tagged/api/item/Q4991981\n",
      "https://osm.wikidata.link/tagged/api/item/Q2208706\n",
      "https://osm.wikidata.link/tagged/api/item/Q10504376\n"
     ]
    },
    {
     "name": "stderr",
     "output_type": "stream",
     "text": [
      "\r",
      " 12%|█▏        | 321/2761 [00:28<03:41, 10.99it/s]"
     ]
    },
    {
     "name": "stdout",
     "output_type": "stream",
     "text": [
      "https://osm.wikidata.link/tagged/api/item/Q17781159\n",
      "https://osm.wikidata.link/tagged/api/item/Q431863\n",
      "https://osm.wikidata.link/tagged/api/item/Q3377937\n"
     ]
    },
    {
     "name": "stderr",
     "output_type": "stream",
     "text": [
      " 12%|█▏        | 325/2761 [00:28<03:35, 11.28it/s]"
     ]
    },
    {
     "name": "stdout",
     "output_type": "stream",
     "text": [
      "https://osm.wikidata.link/tagged/api/item/Q3430555\n",
      "https://osm.wikidata.link/tagged/api/item/Q10569029\n",
      "https://osm.wikidata.link/tagged/api/item/Q10577656\n"
     ]
    },
    {
     "name": "stderr",
     "output_type": "stream",
     "text": [
      "\r",
      " 12%|█▏        | 327/2761 [00:28<03:34, 11.32it/s]"
     ]
    },
    {
     "name": "stdout",
     "output_type": "stream",
     "text": [
      "https://osm.wikidata.link/tagged/api/item/Q184492\n",
      "https://osm.wikidata.link/tagged/api/item/Q5350532\n",
      "https://osm.wikidata.link/tagged/api/item/Q16879501\n"
     ]
    },
    {
     "name": "stderr",
     "output_type": "stream",
     "text": [
      " 12%|█▏        | 331/2761 [00:29<03:34, 11.33it/s]"
     ]
    },
    {
     "name": "stdout",
     "output_type": "stream",
     "text": [
      "https://osm.wikidata.link/tagged/api/item/Q4176489\n",
      "https://osm.wikidata.link/tagged/api/item/Q3430555\n",
      "https://osm.wikidata.link/tagged/api/item/Q184492\n"
     ]
    },
    {
     "name": "stderr",
     "output_type": "stream",
     "text": [
      "\r",
      " 12%|█▏        | 333/2761 [00:29<03:35, 11.26it/s]"
     ]
    },
    {
     "name": "stdout",
     "output_type": "stream",
     "text": [
      "https://osm.wikidata.link/tagged/api/item/Q10713150\n",
      "https://osm.wikidata.link/tagged/api/item/Q17618297\n",
      "https://osm.wikidata.link/tagged/api/item/Q3361414\n"
     ]
    },
    {
     "name": "stderr",
     "output_type": "stream",
     "text": [
      " 12%|█▏        | 337/2761 [00:29<03:33, 11.36it/s]"
     ]
    },
    {
     "name": "stdout",
     "output_type": "stream",
     "text": [
      "https://osm.wikidata.link/tagged/api/item/Q10604948\n",
      "https://osm.wikidata.link/tagged/api/item/Q184492\n",
      "https://osm.wikidata.link/tagged/api/item/Q184492\n"
     ]
    },
    {
     "name": "stderr",
     "output_type": "stream",
     "text": [
      "\r",
      " 12%|█▏        | 339/2761 [00:29<03:31, 11.45it/s]"
     ]
    },
    {
     "name": "stdout",
     "output_type": "stream",
     "text": [
      "https://osm.wikidata.link/tagged/api/item/Q17780893\n",
      "https://osm.wikidata.link/tagged/api/item/Q184492\n",
      "https://osm.wikidata.link/tagged/api/item/Q17745174\n"
     ]
    },
    {
     "name": "stderr",
     "output_type": "stream",
     "text": [
      " 12%|█▏        | 343/2761 [00:30<03:29, 11.56it/s]"
     ]
    },
    {
     "name": "stdout",
     "output_type": "stream",
     "text": [
      "https://osm.wikidata.link/tagged/api/item/Q184492\n",
      "https://osm.wikidata.link/tagged/api/item/Q2208706\n",
      "https://osm.wikidata.link/tagged/api/item/Q4993120\n"
     ]
    },
    {
     "name": "stderr",
     "output_type": "stream",
     "text": [
      "\r",
      " 12%|█▏        | 345/2761 [00:30<03:28, 11.56it/s]"
     ]
    },
    {
     "name": "stdout",
     "output_type": "stream",
     "text": [
      "https://osm.wikidata.link/tagged/api/item/Q5519368\n",
      "https://osm.wikidata.link/tagged/api/item/Q17618511\n",
      "https://osm.wikidata.link/tagged/api/item/Q184492\n"
     ]
    },
    {
     "name": "stderr",
     "output_type": "stream",
     "text": [
      " 13%|█▎        | 349/2761 [00:30<03:28, 11.55it/s]"
     ]
    },
    {
     "name": "stdout",
     "output_type": "stream",
     "text": [
      "https://osm.wikidata.link/tagged/api/item/Q184492\n",
      "https://osm.wikidata.link/tagged/api/item/Q16879499\n",
      "https://osm.wikidata.link/tagged/api/item/Q18177792\n"
     ]
    },
    {
     "name": "stderr",
     "output_type": "stream",
     "text": [
      "\r",
      " 13%|█▎        | 351/2761 [00:30<03:29, 11.53it/s]"
     ]
    },
    {
     "name": "stdout",
     "output_type": "stream",
     "text": [
      "https://osm.wikidata.link/tagged/api/item/Q18178747\n",
      "https://osm.wikidata.link/tagged/api/item/Q184492\n",
      "https://osm.wikidata.link/tagged/api/item/Q18193988\n"
     ]
    },
    {
     "name": "stderr",
     "output_type": "stream",
     "text": [
      " 13%|█▎        | 355/2761 [00:31<03:29, 11.48it/s]"
     ]
    },
    {
     "name": "stdout",
     "output_type": "stream",
     "text": [
      "https://osm.wikidata.link/tagged/api/item/Q17517485\n",
      "https://osm.wikidata.link/tagged/api/item/Q5519368\n",
      "https://osm.wikidata.link/tagged/api/item/Q18141491\n"
     ]
    },
    {
     "name": "stderr",
     "output_type": "stream",
     "text": [
      "\r",
      " 13%|█▎        | 357/2761 [00:31<03:29, 11.48it/s]"
     ]
    },
    {
     "name": "stdout",
     "output_type": "stream",
     "text": [
      "https://osm.wikidata.link/tagged/api/item/Q18196039\n",
      "https://osm.wikidata.link/tagged/api/item/Q629354\n",
      "https://osm.wikidata.link/tagged/api/item/Q18104930\n"
     ]
    },
    {
     "name": "stderr",
     "output_type": "stream",
     "text": [
      " 13%|█▎        | 361/2761 [00:31<03:29, 11.48it/s]"
     ]
    },
    {
     "name": "stdout",
     "output_type": "stream",
     "text": [
      "https://osm.wikidata.link/tagged/api/item/Q1767861\n",
      "https://osm.wikidata.link/tagged/api/item/Q100416515\n",
      "https://osm.wikidata.link/tagged/api/item/Q18190475\n"
     ]
    },
    {
     "name": "stderr",
     "output_type": "stream",
     "text": [
      "\r",
      " 13%|█▎        | 363/2761 [00:32<03:29, 11.46it/s]"
     ]
    },
    {
     "name": "stdout",
     "output_type": "stream",
     "text": [
      "https://osm.wikidata.link/tagged/api/item/Q184492\n",
      "https://osm.wikidata.link/tagged/api/item/Q184492\n",
      "https://osm.wikidata.link/tagged/api/item/Q184492\n"
     ]
    },
    {
     "name": "stderr",
     "output_type": "stream",
     "text": [
      " 13%|█▎        | 367/2761 [00:32<03:31, 11.34it/s]"
     ]
    },
    {
     "name": "stdout",
     "output_type": "stream",
     "text": [
      "https://osm.wikidata.link/tagged/api/item/Q184492\n",
      "https://osm.wikidata.link/tagged/api/item/Q3377948\n",
      "https://osm.wikidata.link/tagged/api/item/Q18189803\n"
     ]
    },
    {
     "name": "stderr",
     "output_type": "stream",
     "text": [
      "\r",
      " 13%|█▎        | 369/2761 [00:32<03:30, 11.38it/s]"
     ]
    },
    {
     "name": "stdout",
     "output_type": "stream",
     "text": [
      "https://osm.wikidata.link/tagged/api/item/Q676523\n",
      "https://osm.wikidata.link/tagged/api/item/Q3377959\n",
      "https://osm.wikidata.link/tagged/api/item/Q10593482\n"
     ]
    },
    {
     "name": "stderr",
     "output_type": "stream",
     "text": [
      " 14%|█▎        | 373/2761 [00:32<03:27, 11.52it/s]"
     ]
    },
    {
     "name": "stdout",
     "output_type": "stream",
     "text": [
      "https://osm.wikidata.link/tagged/api/item/Q184492\n",
      "https://osm.wikidata.link/tagged/api/item/Q4176489\n",
      "https://osm.wikidata.link/tagged/api/item/Q18187936\n"
     ]
    },
    {
     "name": "stderr",
     "output_type": "stream",
     "text": [
      "\r",
      " 14%|█▎        | 375/2761 [00:33<03:27, 11.48it/s]"
     ]
    },
    {
     "name": "stdout",
     "output_type": "stream",
     "text": [
      "https://osm.wikidata.link/tagged/api/item/Q10601730\n",
      "https://osm.wikidata.link/tagged/api/item/Q211425\n",
      "https://osm.wikidata.link/tagged/api/item/Q3360872\n"
     ]
    },
    {
     "name": "stderr",
     "output_type": "stream",
     "text": [
      " 14%|█▎        | 379/2761 [00:33<03:27, 11.50it/s]"
     ]
    },
    {
     "name": "stdout",
     "output_type": "stream",
     "text": [
      "https://osm.wikidata.link/tagged/api/item/Q18184183\n",
      "https://osm.wikidata.link/tagged/api/item/Q10428621\n",
      "https://osm.wikidata.link/tagged/api/item/Q32260874\n"
     ]
    },
    {
     "name": "stderr",
     "output_type": "stream",
     "text": [
      "\r",
      " 14%|█▍        | 381/2761 [00:33<03:27, 11.47it/s]"
     ]
    },
    {
     "name": "stdout",
     "output_type": "stream",
     "text": [
      "https://osm.wikidata.link/tagged/api/item/Q5350532\n",
      "https://osm.wikidata.link/tagged/api/item/Q3377948\n",
      "https://osm.wikidata.link/tagged/api/item/Q184492\n"
     ]
    },
    {
     "name": "stderr",
     "output_type": "stream",
     "text": [
      " 14%|█▍        | 385/2761 [00:33<03:25, 11.57it/s]"
     ]
    },
    {
     "name": "stdout",
     "output_type": "stream",
     "text": [
      "https://osm.wikidata.link/tagged/api/item/Q18196831\n",
      "https://osm.wikidata.link/tagged/api/item/Q3360453\n",
      "https://osm.wikidata.link/tagged/api/item/Q10428621\n"
     ]
    },
    {
     "name": "stderr",
     "output_type": "stream",
     "text": [
      "\r",
      " 14%|█▍        | 387/2761 [00:34<03:24, 11.62it/s]"
     ]
    },
    {
     "name": "stdout",
     "output_type": "stream",
     "text": [
      "https://osm.wikidata.link/tagged/api/item/Q17578317\n",
      "https://osm.wikidata.link/tagged/api/item/Q10605387\n",
      "https://osm.wikidata.link/tagged/api/item/Q184492\n"
     ]
    },
    {
     "name": "stderr",
     "output_type": "stream",
     "text": [
      " 14%|█▍        | 391/2761 [00:34<03:22, 11.68it/s]"
     ]
    },
    {
     "name": "stdout",
     "output_type": "stream",
     "text": [
      "https://osm.wikidata.link/tagged/api/item/Q217430\n",
      "https://osm.wikidata.link/tagged/api/item/Q17709779\n",
      "https://osm.wikidata.link/tagged/api/item/Q1160449\n"
     ]
    },
    {
     "name": "stderr",
     "output_type": "stream",
     "text": [
      "\r",
      " 14%|█▍        | 393/2761 [00:34<03:20, 11.83it/s]"
     ]
    },
    {
     "name": "stdout",
     "output_type": "stream",
     "text": [
      "https://osm.wikidata.link/tagged/api/item/Q17609048\n",
      "https://osm.wikidata.link/tagged/api/item/Q17609048\n",
      "https://osm.wikidata.link/tagged/api/item/Q184492\n"
     ]
    },
    {
     "name": "stderr",
     "output_type": "stream",
     "text": [
      " 14%|█▍        | 397/2761 [00:34<03:19, 11.87it/s]"
     ]
    },
    {
     "name": "stdout",
     "output_type": "stream",
     "text": [
      "https://osm.wikidata.link/tagged/api/item/Q10428621\n",
      "https://osm.wikidata.link/tagged/api/item/Q629354\n",
      "https://osm.wikidata.link/tagged/api/item/Q2315249\n"
     ]
    },
    {
     "name": "stderr",
     "output_type": "stream",
     "text": [
      "\r",
      " 14%|█▍        | 399/2761 [00:35<03:20, 11.80it/s]"
     ]
    },
    {
     "name": "stdout",
     "output_type": "stream",
     "text": [
      "https://osm.wikidata.link/tagged/api/item/Q184492\n",
      "https://osm.wikidata.link/tagged/api/item/Q10577656\n",
      "https://osm.wikidata.link/tagged/api/item/Q1545197\n"
     ]
    },
    {
     "name": "stderr",
     "output_type": "stream",
     "text": [
      " 15%|█▍        | 403/2761 [00:35<03:20, 11.74it/s]"
     ]
    },
    {
     "name": "stdout",
     "output_type": "stream",
     "text": [
      "https://osm.wikidata.link/tagged/api/item/Q1545197\n",
      "https://osm.wikidata.link/tagged/api/item/Q17745292\n",
      "https://osm.wikidata.link/tagged/api/item/Q18104966\n"
     ]
    },
    {
     "name": "stderr",
     "output_type": "stream",
     "text": [
      "\r",
      " 15%|█▍        | 405/2761 [00:35<03:51, 10.18it/s]"
     ]
    },
    {
     "name": "stdout",
     "output_type": "stream",
     "text": [
      "https://osm.wikidata.link/tagged/api/item/Q4993120\n",
      "https://osm.wikidata.link/tagged/api/item/Q1193471\n"
     ]
    },
    {
     "name": "stderr",
     "output_type": "stream",
     "text": [
      "\r",
      " 15%|█▍        | 407/2761 [00:35<03:41, 10.64it/s]"
     ]
    },
    {
     "name": "stdout",
     "output_type": "stream",
     "text": [
      "https://osm.wikidata.link/tagged/api/item/Q10649097\n",
      "https://osm.wikidata.link/tagged/api/item/Q18194012\n",
      "https://osm.wikidata.link/tagged/api/item/Q18135018\n"
     ]
    },
    {
     "name": "stderr",
     "output_type": "stream",
     "text": [
      " 15%|█▍        | 411/2761 [00:36<03:33, 10.99it/s]"
     ]
    },
    {
     "name": "stdout",
     "output_type": "stream",
     "text": [
      "https://osm.wikidata.link/tagged/api/item/Q2208706\n",
      "https://osm.wikidata.link/tagged/api/item/Q173596\n",
      "https://osm.wikidata.link/tagged/api/item/Q3424558\n"
     ]
    },
    {
     "name": "stderr",
     "output_type": "stream",
     "text": [
      "\r",
      " 15%|█▍        | 413/2761 [00:36<03:34, 10.93it/s]"
     ]
    },
    {
     "name": "stdout",
     "output_type": "stream",
     "text": [
      "https://osm.wikidata.link/tagged/api/item/Q18178437\n",
      "https://osm.wikidata.link/tagged/api/item/Q1146737\n"
     ]
    },
    {
     "name": "stderr",
     "output_type": "stream",
     "text": [
      "\r",
      " 15%|█▌        | 415/2761 [00:36<04:01,  9.70it/s]"
     ]
    },
    {
     "name": "stdout",
     "output_type": "stream",
     "text": [
      "https://osm.wikidata.link/tagged/api/item/Q2521741\n",
      "https://osm.wikidata.link/tagged/api/item/Q1474746\n"
     ]
    },
    {
     "name": "stderr",
     "output_type": "stream",
     "text": [
      "\r",
      " 15%|█▌        | 417/2761 [00:36<03:57,  9.86it/s]"
     ]
    },
    {
     "name": "stdout",
     "output_type": "stream",
     "text": [
      "https://osm.wikidata.link/tagged/api/item/Q18184460\n",
      "https://osm.wikidata.link/tagged/api/item/Q2208706\n",
      "https://osm.wikidata.link/tagged/api/item/Q17618603\n"
     ]
    },
    {
     "name": "stderr",
     "output_type": "stream",
     "text": [
      " 15%|█▌        | 421/2761 [00:37<03:43, 10.47it/s]"
     ]
    },
    {
     "name": "stdout",
     "output_type": "stream",
     "text": [
      "https://osm.wikidata.link/tagged/api/item/Q188195\n",
      "https://osm.wikidata.link/tagged/api/item/Q17634178\n",
      "https://osm.wikidata.link/tagged/api/item/Q10659141\n"
     ]
    },
    {
     "name": "stderr",
     "output_type": "stream",
     "text": [
      "\r",
      " 15%|█▌        | 423/2761 [00:37<03:36, 10.78it/s]"
     ]
    },
    {
     "name": "stdout",
     "output_type": "stream",
     "text": [
      "https://osm.wikidata.link/tagged/api/item/Q10659141\n",
      "https://osm.wikidata.link/tagged/api/item/Q10659141\n",
      "https://osm.wikidata.link/tagged/api/item/Q5519368\n"
     ]
    },
    {
     "name": "stderr",
     "output_type": "stream",
     "text": [
      " 15%|█▌        | 427/2761 [00:37<03:31, 11.02it/s]"
     ]
    },
    {
     "name": "stdout",
     "output_type": "stream",
     "text": [
      "https://osm.wikidata.link/tagged/api/item/Q2521741\n",
      "https://osm.wikidata.link/tagged/api/item/Q2521741\n",
      "https://osm.wikidata.link/tagged/api/item/Q10518082\n"
     ]
    },
    {
     "name": "stderr",
     "output_type": "stream",
     "text": [
      "\r",
      " 16%|█▌        | 429/2761 [00:37<03:34, 10.90it/s]"
     ]
    },
    {
     "name": "stdout",
     "output_type": "stream",
     "text": [
      "https://osm.wikidata.link/tagged/api/item/Q10572659\n",
      "https://osm.wikidata.link/tagged/api/item/Q106709553\n",
      "https://osm.wikidata.link/tagged/api/item/Q17745410\n"
     ]
    },
    {
     "name": "stderr",
     "output_type": "stream",
     "text": [
      " 16%|█▌        | 433/2761 [00:38<03:24, 11.41it/s]"
     ]
    },
    {
     "name": "stdout",
     "output_type": "stream",
     "text": [
      "https://osm.wikidata.link/tagged/api/item/Q10593482\n",
      "https://osm.wikidata.link/tagged/api/item/Q173596\n",
      "https://osm.wikidata.link/tagged/api/item/Q17638547\n"
     ]
    },
    {
     "name": "stderr",
     "output_type": "stream",
     "text": [
      "\r",
      " 16%|█▌        | 435/2761 [00:38<03:29, 11.12it/s]"
     ]
    },
    {
     "name": "stdout",
     "output_type": "stream",
     "text": [
      "https://osm.wikidata.link/tagged/api/item/Q173596\n",
      "https://osm.wikidata.link/tagged/api/item/Q18179051\n",
      "https://osm.wikidata.link/tagged/api/item/Q1574296\n"
     ]
    },
    {
     "name": "stderr",
     "output_type": "stream",
     "text": [
      " 16%|█▌        | 439/2761 [00:38<03:33, 10.86it/s]"
     ]
    },
    {
     "name": "stdout",
     "output_type": "stream",
     "text": [
      "https://osm.wikidata.link/tagged/api/item/Q18134939\n",
      "https://osm.wikidata.link/tagged/api/item/Q10572657\n",
      "https://osm.wikidata.link/tagged/api/item/Q10593482\n"
     ]
    },
    {
     "name": "stderr",
     "output_type": "stream",
     "text": [
      "\r",
      " 16%|█▌        | 441/2761 [00:39<03:32, 10.92it/s]"
     ]
    },
    {
     "name": "stdout",
     "output_type": "stream",
     "text": [
      "https://osm.wikidata.link/tagged/api/item/Q173596\n",
      "https://osm.wikidata.link/tagged/api/item/Q18177612\n",
      "https://osm.wikidata.link/tagged/api/item/Q18196674\n"
     ]
    },
    {
     "name": "stderr",
     "output_type": "stream",
     "text": [
      " 16%|█▌        | 445/2761 [00:39<03:25, 11.28it/s]"
     ]
    },
    {
     "name": "stdout",
     "output_type": "stream",
     "text": [
      "https://osm.wikidata.link/tagged/api/item/Q2208706\n",
      "https://osm.wikidata.link/tagged/api/item/Q18189458\n",
      "https://osm.wikidata.link/tagged/api/item/Q2208706\n"
     ]
    },
    {
     "name": "stderr",
     "output_type": "stream",
     "text": [
      "\r",
      " 16%|█▌        | 447/2761 [00:39<03:26, 11.20it/s]"
     ]
    },
    {
     "name": "stdout",
     "output_type": "stream",
     "text": [
      "https://osm.wikidata.link/tagged/api/item/Q1019336\n",
      "https://osm.wikidata.link/tagged/api/item/Q3360966\n",
      "https://osm.wikidata.link/tagged/api/item/Q10667405\n"
     ]
    },
    {
     "name": "stderr",
     "output_type": "stream",
     "text": [
      " 16%|█▋        | 451/2761 [00:39<03:23, 11.36it/s]"
     ]
    },
    {
     "name": "stdout",
     "output_type": "stream",
     "text": [
      "https://osm.wikidata.link/tagged/api/item/Q2285479\n",
      "https://osm.wikidata.link/tagged/api/item/Q18134943\n",
      "https://osm.wikidata.link/tagged/api/item/Q17578487\n"
     ]
    },
    {
     "name": "stderr",
     "output_type": "stream",
     "text": [
      "\r",
      " 16%|█▋        | 453/2761 [00:40<03:21, 11.46it/s]"
     ]
    },
    {
     "name": "stdout",
     "output_type": "stream",
     "text": [
      "https://osm.wikidata.link/tagged/api/item/Q217430\n",
      "https://osm.wikidata.link/tagged/api/item/Q217430\n",
      "https://osm.wikidata.link/tagged/api/item/Q16879499\n"
     ]
    },
    {
     "name": "stderr",
     "output_type": "stream",
     "text": [
      " 17%|█▋        | 457/2761 [00:40<03:15, 11.76it/s]"
     ]
    },
    {
     "name": "stdout",
     "output_type": "stream",
     "text": [
      "https://osm.wikidata.link/tagged/api/item/Q17745192\n",
      "https://osm.wikidata.link/tagged/api/item/Q18134026\n",
      "https://osm.wikidata.link/tagged/api/item/Q10727528\n"
     ]
    },
    {
     "name": "stderr",
     "output_type": "stream",
     "text": [
      "\r",
      " 17%|█▋        | 459/2761 [00:40<03:15, 11.78it/s]"
     ]
    },
    {
     "name": "stdout",
     "output_type": "stream",
     "text": [
      "https://osm.wikidata.link/tagged/api/item/Q271286\n",
      "https://osm.wikidata.link/tagged/api/item/Q16914857\n",
      "https://osm.wikidata.link/tagged/api/item/Q10554009\n"
     ]
    },
    {
     "name": "stderr",
     "output_type": "stream",
     "text": [
      " 17%|█▋        | 463/2761 [00:40<03:12, 11.92it/s]"
     ]
    },
    {
     "name": "stdout",
     "output_type": "stream",
     "text": [
      "https://osm.wikidata.link/tagged/api/item/Q2521741\n",
      "https://osm.wikidata.link/tagged/api/item/Q10438548\n",
      "https://osm.wikidata.link/tagged/api/item/Q4176489\n"
     ]
    },
    {
     "name": "stderr",
     "output_type": "stream",
     "text": [
      "\r",
      " 17%|█▋        | 465/2761 [00:41<03:20, 11.43it/s]"
     ]
    },
    {
     "name": "stdout",
     "output_type": "stream",
     "text": [
      "https://osm.wikidata.link/tagged/api/item/Q17745333\n",
      "https://osm.wikidata.link/tagged/api/item/Q10727528\n",
      "https://osm.wikidata.link/tagged/api/item/Q18194027\n"
     ]
    },
    {
     "name": "stderr",
     "output_type": "stream",
     "text": [
      "\r",
      " 17%|█▋        | 467/2761 [00:41<03:18, 11.54it/s]"
     ]
    },
    {
     "name": "stdout",
     "output_type": "stream",
     "text": [
      "https://osm.wikidata.link/tagged/api/item/Q550372\n",
      "https://osm.wikidata.link/tagged/api/item/Q4993120\n"
     ]
    },
    {
     "name": "stderr",
     "output_type": "stream",
     "text": [
      "\r",
      " 17%|█▋        | 469/2761 [00:41<03:41, 10.33it/s]"
     ]
    },
    {
     "name": "stdout",
     "output_type": "stream",
     "text": [
      "https://osm.wikidata.link/tagged/api/item/Q17576909\n",
      "https://osm.wikidata.link/tagged/api/item/Q1520068\n"
     ]
    },
    {
     "name": "stderr",
     "output_type": "stream",
     "text": [
      " 17%|█▋        | 473/2761 [00:41<03:48, 10.02it/s]"
     ]
    },
    {
     "name": "stdout",
     "output_type": "stream",
     "text": [
      "https://osm.wikidata.link/tagged/api/item/Q18196081\n",
      "https://osm.wikidata.link/tagged/api/item/Q2208706\n",
      "https://osm.wikidata.link/tagged/api/item/Q17745211\n"
     ]
    },
    {
     "name": "stderr",
     "output_type": "stream",
     "text": [
      "\r",
      " 17%|█▋        | 475/2761 [00:42<03:40, 10.37it/s]"
     ]
    },
    {
     "name": "stdout",
     "output_type": "stream",
     "text": [
      "https://osm.wikidata.link/tagged/api/item/Q17745212\n",
      "https://osm.wikidata.link/tagged/api/item/Q5519368\n",
      "https://osm.wikidata.link/tagged/api/item/Q18194471\n"
     ]
    },
    {
     "name": "stderr",
     "output_type": "stream",
     "text": [
      " 17%|█▋        | 479/2761 [00:42<03:33, 10.70it/s]"
     ]
    },
    {
     "name": "stdout",
     "output_type": "stream",
     "text": [
      "https://osm.wikidata.link/tagged/api/item/Q4176489\n",
      "https://osm.wikidata.link/tagged/api/item/Q550372\n",
      "https://osm.wikidata.link/tagged/api/item/Q1474746\n"
     ]
    },
    {
     "name": "stderr",
     "output_type": "stream",
     "text": [
      "\r",
      " 17%|█▋        | 481/2761 [00:42<03:27, 10.98it/s]"
     ]
    },
    {
     "name": "stdout",
     "output_type": "stream",
     "text": [
      "https://osm.wikidata.link/tagged/api/item/Q184492\n",
      "https://osm.wikidata.link/tagged/api/item/Q18095197\n",
      "https://osm.wikidata.link/tagged/api/item/Q17609073\n"
     ]
    },
    {
     "name": "stderr",
     "output_type": "stream",
     "text": [
      " 18%|█▊        | 485/2761 [00:42<03:23, 11.20it/s]"
     ]
    },
    {
     "name": "stdout",
     "output_type": "stream",
     "text": [
      "https://osm.wikidata.link/tagged/api/item/Q184492\n",
      "https://osm.wikidata.link/tagged/api/item/Q10542941\n",
      "https://osm.wikidata.link/tagged/api/item/Q184492\n"
     ]
    },
    {
     "name": "stderr",
     "output_type": "stream",
     "text": [
      "\r",
      " 18%|█▊        | 487/2761 [00:43<03:22, 11.21it/s]"
     ]
    },
    {
     "name": "stdout",
     "output_type": "stream",
     "text": [
      "https://osm.wikidata.link/tagged/api/item/Q184492\n",
      "https://osm.wikidata.link/tagged/api/item/Q10726068\n",
      "https://osm.wikidata.link/tagged/api/item/Q184492\n"
     ]
    },
    {
     "name": "stderr",
     "output_type": "stream",
     "text": [
      "\r",
      " 18%|█▊        | 489/2761 [00:43<03:20, 11.33it/s]"
     ]
    },
    {
     "name": "stdout",
     "output_type": "stream",
     "text": [
      "https://osm.wikidata.link/tagged/api/item/Q10674115\n",
      "https://osm.wikidata.link/tagged/api/item/Q10727528\n"
     ]
    },
    {
     "name": "stderr",
     "output_type": "stream",
     "text": [
      " 18%|█▊        | 493/2761 [00:43<03:27, 10.93it/s]"
     ]
    },
    {
     "name": "stdout",
     "output_type": "stream",
     "text": [
      "https://osm.wikidata.link/tagged/api/item/Q2315249\n",
      "https://osm.wikidata.link/tagged/api/item/Q18134088\n",
      "https://osm.wikidata.link/tagged/api/item/Q18195168\n"
     ]
    },
    {
     "name": "stderr",
     "output_type": "stream",
     "text": [
      "\r",
      " 18%|█▊        | 495/2761 [00:43<03:28, 10.88it/s]"
     ]
    },
    {
     "name": "stdout",
     "output_type": "stream",
     "text": [
      "https://osm.wikidata.link/tagged/api/item/Q18182735\n",
      "https://osm.wikidata.link/tagged/api/item/Q18178451\n",
      "https://osm.wikidata.link/tagged/api/item/Q10681088\n"
     ]
    },
    {
     "name": "stderr",
     "output_type": "stream",
     "text": [
      " 18%|█▊        | 499/2761 [00:44<03:20, 11.27it/s]"
     ]
    },
    {
     "name": "stdout",
     "output_type": "stream",
     "text": [
      "https://osm.wikidata.link/tagged/api/item/Q18184193\n",
      "https://osm.wikidata.link/tagged/api/item/Q3361124\n",
      "https://osm.wikidata.link/tagged/api/item/Q49392963\n"
     ]
    },
    {
     "name": "stderr",
     "output_type": "stream",
     "text": [
      "\r",
      " 18%|█▊        | 501/2761 [00:44<03:19, 11.33it/s]"
     ]
    },
    {
     "name": "stdout",
     "output_type": "stream",
     "text": [
      "https://osm.wikidata.link/tagged/api/item/Q17560109\n",
      "https://osm.wikidata.link/tagged/api/item/Q10679277\n",
      "https://osm.wikidata.link/tagged/api/item/Q10679277\n"
     ]
    },
    {
     "name": "stderr",
     "output_type": "stream",
     "text": [
      " 18%|█▊        | 505/2761 [00:44<03:21, 11.21it/s]"
     ]
    },
    {
     "name": "stdout",
     "output_type": "stream",
     "text": [
      "https://osm.wikidata.link/tagged/api/item/Q217430\n",
      "https://osm.wikidata.link/tagged/api/item/Q184492\n",
      "https://osm.wikidata.link/tagged/api/item/Q18196863\n"
     ]
    },
    {
     "name": "stderr",
     "output_type": "stream",
     "text": [
      "\r",
      " 18%|█▊        | 507/2761 [00:45<03:50,  9.78it/s]"
     ]
    },
    {
     "name": "stdout",
     "output_type": "stream",
     "text": [
      "https://osm.wikidata.link/tagged/api/item/Q18190832\n",
      "https://osm.wikidata.link/tagged/api/item/Q18132897\n",
      "https://osm.wikidata.link/tagged/api/item/Q188195\n"
     ]
    },
    {
     "name": "stderr",
     "output_type": "stream",
     "text": [
      " 19%|█▊        | 511/2761 [00:45<03:31, 10.62it/s]"
     ]
    },
    {
     "name": "stdout",
     "output_type": "stream",
     "text": [
      "https://osm.wikidata.link/tagged/api/item/Q1474746\n",
      "https://osm.wikidata.link/tagged/api/item/Q17712543\n",
      "https://osm.wikidata.link/tagged/api/item/Q2208706\n"
     ]
    },
    {
     "name": "stderr",
     "output_type": "stream",
     "text": [
      "\r",
      " 19%|█▊        | 513/2761 [00:45<03:26, 10.87it/s]"
     ]
    },
    {
     "name": "stdout",
     "output_type": "stream",
     "text": [
      "https://osm.wikidata.link/tagged/api/item/Q1266065\n",
      "https://osm.wikidata.link/tagged/api/item/Q18194060\n",
      "https://osm.wikidata.link/tagged/api/item/Q629354\n"
     ]
    },
    {
     "name": "stderr",
     "output_type": "stream",
     "text": [
      " 19%|█▊        | 517/2761 [00:45<03:22, 11.10it/s]"
     ]
    },
    {
     "name": "stdout",
     "output_type": "stream",
     "text": [
      "https://osm.wikidata.link/tagged/api/item/Q4176489\n",
      "https://osm.wikidata.link/tagged/api/item/Q1154899\n",
      "https://osm.wikidata.link/tagged/api/item/Q173596\n"
     ]
    },
    {
     "name": "stderr",
     "output_type": "stream",
     "text": [
      "\r",
      " 19%|█▉        | 519/2761 [00:46<03:20, 11.17it/s]"
     ]
    },
    {
     "name": "stdout",
     "output_type": "stream",
     "text": [
      "https://osm.wikidata.link/tagged/api/item/Q149448\n",
      "https://osm.wikidata.link/tagged/api/item/Q149448\n",
      "https://osm.wikidata.link/tagged/api/item/Q1851416\n"
     ]
    },
    {
     "name": "stderr",
     "output_type": "stream",
     "text": [
      " 19%|█▉        | 523/2761 [00:46<03:19, 11.24it/s]"
     ]
    },
    {
     "name": "stdout",
     "output_type": "stream",
     "text": [
      "https://osm.wikidata.link/tagged/api/item/Q2618547\n",
      "https://osm.wikidata.link/tagged/api/item/Q10488451\n",
      "https://osm.wikidata.link/tagged/api/item/Q10593482\n"
     ]
    },
    {
     "name": "stderr",
     "output_type": "stream",
     "text": [
      "\r",
      " 19%|█▉        | 525/2761 [00:46<03:17, 11.33it/s]"
     ]
    },
    {
     "name": "stdout",
     "output_type": "stream",
     "text": [
      "https://osm.wikidata.link/tagged/api/item/Q202868\n",
      "https://osm.wikidata.link/tagged/api/item/Q18121150\n",
      "https://osm.wikidata.link/tagged/api/item/Q271320\n"
     ]
    },
    {
     "name": "stderr",
     "output_type": "stream",
     "text": [
      " 19%|█▉        | 529/2761 [00:46<03:14, 11.45it/s]"
     ]
    },
    {
     "name": "stdout",
     "output_type": "stream",
     "text": [
      "https://osm.wikidata.link/tagged/api/item/Q49393163\n",
      "https://osm.wikidata.link/tagged/api/item/Q3424558\n",
      "https://osm.wikidata.link/tagged/api/item/Q10699235\n"
     ]
    },
    {
     "name": "stderr",
     "output_type": "stream",
     "text": [
      "\r",
      " 19%|█▉        | 531/2761 [00:47<03:15, 11.44it/s]"
     ]
    },
    {
     "name": "stdout",
     "output_type": "stream",
     "text": [
      "https://osm.wikidata.link/tagged/api/item/Q184492\n",
      "https://osm.wikidata.link/tagged/api/item/Q629354\n",
      "https://osm.wikidata.link/tagged/api/item/Q10684180\n"
     ]
    },
    {
     "name": "stderr",
     "output_type": "stream",
     "text": [
      " 19%|█▉        | 535/2761 [00:47<03:14, 11.44it/s]"
     ]
    },
    {
     "name": "stdout",
     "output_type": "stream",
     "text": [
      "https://osm.wikidata.link/tagged/api/item/Q173596\n",
      "https://osm.wikidata.link/tagged/api/item/Q1474746\n",
      "https://osm.wikidata.link/tagged/api/item/Q18187272\n"
     ]
    },
    {
     "name": "stderr",
     "output_type": "stream",
     "text": [
      "\r",
      " 19%|█▉        | 537/2761 [00:47<03:13, 11.50it/s]"
     ]
    },
    {
     "name": "stdout",
     "output_type": "stream",
     "text": [
      "https://osm.wikidata.link/tagged/api/item/Q18189436\n",
      "https://osm.wikidata.link/tagged/api/item/Q2518033\n",
      "https://osm.wikidata.link/tagged/api/item/Q4993120\n"
     ]
    },
    {
     "name": "stderr",
     "output_type": "stream",
     "text": [
      " 20%|█▉        | 541/2761 [00:48<03:12, 11.52it/s]"
     ]
    },
    {
     "name": "stdout",
     "output_type": "stream",
     "text": [
      "https://osm.wikidata.link/tagged/api/item/Q10658649\n",
      "https://osm.wikidata.link/tagged/api/item/Q184492\n",
      "https://osm.wikidata.link/tagged/api/item/Q184492\n"
     ]
    },
    {
     "name": "stderr",
     "output_type": "stream",
     "text": [
      "\r",
      " 20%|█▉        | 543/2761 [00:48<03:12, 11.52it/s]"
     ]
    },
    {
     "name": "stdout",
     "output_type": "stream",
     "text": [
      "https://osm.wikidata.link/tagged/api/item/Q17618304\n",
      "https://osm.wikidata.link/tagged/api/item/Q10419838\n",
      "https://osm.wikidata.link/tagged/api/item/Q184492\n"
     ]
    },
    {
     "name": "stderr",
     "output_type": "stream",
     "text": [
      " 20%|█▉        | 547/2761 [00:48<03:12, 11.52it/s]"
     ]
    },
    {
     "name": "stdout",
     "output_type": "stream",
     "text": [
      "https://osm.wikidata.link/tagged/api/item/Q629354\n",
      "https://osm.wikidata.link/tagged/api/item/Q3360872\n",
      "https://osm.wikidata.link/tagged/api/item/Q184492\n"
     ]
    },
    {
     "name": "stderr",
     "output_type": "stream",
     "text": [
      "\r",
      " 20%|█▉        | 549/2761 [00:48<03:12, 11.48it/s]"
     ]
    },
    {
     "name": "stdout",
     "output_type": "stream",
     "text": [
      "https://osm.wikidata.link/tagged/api/item/Q18178872\n",
      "https://osm.wikidata.link/tagged/api/item/Q18002573\n",
      "https://osm.wikidata.link/tagged/api/item/Q149448\n"
     ]
    },
    {
     "name": "stderr",
     "output_type": "stream",
     "text": [
      " 20%|██        | 553/2761 [00:49<03:11, 11.50it/s]"
     ]
    },
    {
     "name": "stdout",
     "output_type": "stream",
     "text": [
      "https://osm.wikidata.link/tagged/api/item/Q18178824\n",
      "https://osm.wikidata.link/tagged/api/item/Q12324323\n",
      "https://osm.wikidata.link/tagged/api/item/Q184492\n"
     ]
    },
    {
     "name": "stderr",
     "output_type": "stream",
     "text": [
      "\r",
      " 20%|██        | 555/2761 [00:49<03:12, 11.46it/s]"
     ]
    },
    {
     "name": "stdout",
     "output_type": "stream",
     "text": [
      "https://osm.wikidata.link/tagged/api/item/Q184492\n",
      "https://osm.wikidata.link/tagged/api/item/Q202868\n",
      "https://osm.wikidata.link/tagged/api/item/Q2370591\n"
     ]
    },
    {
     "name": "stderr",
     "output_type": "stream",
     "text": [
      " 20%|██        | 559/2761 [00:49<03:15, 11.27it/s]"
     ]
    },
    {
     "name": "stdout",
     "output_type": "stream",
     "text": [
      "https://osm.wikidata.link/tagged/api/item/Q217430\n",
      "https://osm.wikidata.link/tagged/api/item/Q10698662\n",
      "https://osm.wikidata.link/tagged/api/item/Q4993120\n"
     ]
    },
    {
     "name": "stderr",
     "output_type": "stream",
     "text": [
      "\r",
      " 20%|██        | 561/2761 [00:49<03:14, 11.29it/s]"
     ]
    },
    {
     "name": "stdout",
     "output_type": "stream",
     "text": [
      "https://osm.wikidata.link/tagged/api/item/Q18187311\n",
      "https://osm.wikidata.link/tagged/api/item/Q10419129\n",
      "https://osm.wikidata.link/tagged/api/item/Q7348436\n"
     ]
    },
    {
     "name": "stderr",
     "output_type": "stream",
     "text": [
      " 20%|██        | 565/2761 [00:50<03:12, 11.42it/s]"
     ]
    },
    {
     "name": "stdout",
     "output_type": "stream",
     "text": [
      "https://osm.wikidata.link/tagged/api/item/Q271286\n",
      "https://osm.wikidata.link/tagged/api/item/Q188195\n",
      "https://osm.wikidata.link/tagged/api/item/Q10602983\n"
     ]
    },
    {
     "name": "stderr",
     "output_type": "stream",
     "text": [
      "\r",
      " 21%|██        | 567/2761 [00:50<03:10, 11.51it/s]"
     ]
    },
    {
     "name": "stdout",
     "output_type": "stream",
     "text": [
      "https://osm.wikidata.link/tagged/api/item/Q17780940\n",
      "https://osm.wikidata.link/tagged/api/item/Q17745409\n",
      "https://osm.wikidata.link/tagged/api/item/Q18194057\n"
     ]
    },
    {
     "name": "stderr",
     "output_type": "stream",
     "text": [
      " 21%|██        | 571/2761 [00:50<03:11, 11.43it/s]"
     ]
    },
    {
     "name": "stdout",
     "output_type": "stream",
     "text": [
      "https://osm.wikidata.link/tagged/api/item/Q3361115\n",
      "https://osm.wikidata.link/tagged/api/item/Q10488451\n",
      "https://osm.wikidata.link/tagged/api/item/Q18194072\n"
     ]
    },
    {
     "name": "stderr",
     "output_type": "stream",
     "text": [
      "\r",
      " 21%|██        | 573/2761 [00:50<03:09, 11.52it/s]"
     ]
    },
    {
     "name": "stdout",
     "output_type": "stream",
     "text": [
      "https://osm.wikidata.link/tagged/api/item/Q184492\n",
      "https://osm.wikidata.link/tagged/api/item/Q184492\n",
      "https://osm.wikidata.link/tagged/api/item/Q17587505\n"
     ]
    },
    {
     "name": "stderr",
     "output_type": "stream",
     "text": [
      " 21%|██        | 577/2761 [00:51<03:08, 11.57it/s]"
     ]
    },
    {
     "name": "stdout",
     "output_type": "stream",
     "text": [
      "https://osm.wikidata.link/tagged/api/item/Q10659141\n",
      "https://osm.wikidata.link/tagged/api/item/Q217430\n",
      "https://osm.wikidata.link/tagged/api/item/Q10688255\n"
     ]
    },
    {
     "name": "stderr",
     "output_type": "stream",
     "text": [
      "\r",
      " 21%|██        | 579/2761 [00:51<03:07, 11.63it/s]"
     ]
    },
    {
     "name": "stdout",
     "output_type": "stream",
     "text": [
      "https://osm.wikidata.link/tagged/api/item/Q18193855\n",
      "https://osm.wikidata.link/tagged/api/item/Q28745783\n",
      "https://osm.wikidata.link/tagged/api/item/Q1611019\n"
     ]
    },
    {
     "name": "stderr",
     "output_type": "stream",
     "text": [
      " 21%|██        | 583/2761 [00:51<03:08, 11.54it/s]"
     ]
    },
    {
     "name": "stdout",
     "output_type": "stream",
     "text": [
      "https://osm.wikidata.link/tagged/api/item/Q173596\n",
      "https://osm.wikidata.link/tagged/api/item/Q18181271\n",
      "https://osm.wikidata.link/tagged/api/item/Q1154899\n"
     ]
    },
    {
     "name": "stderr",
     "output_type": "stream",
     "text": [
      "\r",
      " 21%|██        | 585/2761 [00:51<03:12, 11.31it/s]"
     ]
    },
    {
     "name": "stdout",
     "output_type": "stream",
     "text": [
      "https://osm.wikidata.link/tagged/api/item/Q271286\n",
      "https://osm.wikidata.link/tagged/api/item/Q17745192\n",
      "https://osm.wikidata.link/tagged/api/item/Q1160449\n"
     ]
    },
    {
     "name": "stderr",
     "output_type": "stream",
     "text": [
      " 21%|██▏       | 589/2761 [00:52<03:13, 11.22it/s]"
     ]
    },
    {
     "name": "stdout",
     "output_type": "stream",
     "text": [
      "https://osm.wikidata.link/tagged/api/item/Q184492\n",
      "https://osm.wikidata.link/tagged/api/item/Q184492\n",
      "https://osm.wikidata.link/tagged/api/item/Q173596\n"
     ]
    },
    {
     "name": "stderr",
     "output_type": "stream",
     "text": [
      "\r",
      " 21%|██▏       | 591/2761 [00:52<03:12, 11.29it/s]"
     ]
    },
    {
     "name": "stdout",
     "output_type": "stream",
     "text": [
      "https://osm.wikidata.link/tagged/api/item/Q2208706\n",
      "https://osm.wikidata.link/tagged/api/item/Q1146737\n",
      "https://osm.wikidata.link/tagged/api/item/Q17634034\n"
     ]
    },
    {
     "name": "stderr",
     "output_type": "stream",
     "text": [
      " 22%|██▏       | 595/2761 [00:52<03:11, 11.28it/s]"
     ]
    },
    {
     "name": "stdout",
     "output_type": "stream",
     "text": [
      "https://osm.wikidata.link/tagged/api/item/Q188195\n",
      "https://osm.wikidata.link/tagged/api/item/Q188195\n",
      "https://osm.wikidata.link/tagged/api/item/Q2208706\n"
     ]
    },
    {
     "name": "stderr",
     "output_type": "stream",
     "text": [
      "\r",
      " 22%|██▏       | 597/2761 [00:52<03:09, 11.41it/s]"
     ]
    },
    {
     "name": "stdout",
     "output_type": "stream",
     "text": [
      "https://osm.wikidata.link/tagged/api/item/Q2208706\n",
      "https://osm.wikidata.link/tagged/api/item/Q17618287\n",
      "https://osm.wikidata.link/tagged/api/item/Q18177812\n"
     ]
    },
    {
     "name": "stderr",
     "output_type": "stream",
     "text": [
      " 22%|██▏       | 601/2761 [00:53<03:06, 11.58it/s]"
     ]
    },
    {
     "name": "stdout",
     "output_type": "stream",
     "text": [
      "https://osm.wikidata.link/tagged/api/item/Q10713150\n",
      "https://osm.wikidata.link/tagged/api/item/Q18184519\n",
      "https://osm.wikidata.link/tagged/api/item/Q217430\n"
     ]
    },
    {
     "name": "stderr",
     "output_type": "stream",
     "text": [
      "\r",
      " 22%|██▏       | 603/2761 [00:53<03:06, 11.59it/s]"
     ]
    },
    {
     "name": "stdout",
     "output_type": "stream",
     "text": [
      "https://osm.wikidata.link/tagged/api/item/Q10715216\n",
      "https://osm.wikidata.link/tagged/api/item/Q3430555\n",
      "https://osm.wikidata.link/tagged/api/item/Q18095354\n"
     ]
    },
    {
     "name": "stderr",
     "output_type": "stream",
     "text": [
      "\r",
      " 22%|██▏       | 605/2761 [00:53<03:04, 11.68it/s]"
     ]
    },
    {
     "name": "stdout",
     "output_type": "stream",
     "text": [
      "https://osm.wikidata.link/tagged/api/item/Q173596\n",
      "https://osm.wikidata.link/tagged/api/item/Q630136\n"
     ]
    },
    {
     "name": "stderr",
     "output_type": "stream",
     "text": [
      " 22%|██▏       | 609/2761 [00:54<03:26, 10.43it/s]"
     ]
    },
    {
     "name": "stdout",
     "output_type": "stream",
     "text": [
      "https://osm.wikidata.link/tagged/api/item/Q18196845\n",
      "https://osm.wikidata.link/tagged/api/item/Q35694946\n",
      "https://osm.wikidata.link/tagged/api/item/Q10699233\n"
     ]
    },
    {
     "name": "stderr",
     "output_type": "stream",
     "text": [
      "\r",
      " 22%|██▏       | 611/2761 [00:54<03:20, 10.73it/s]"
     ]
    },
    {
     "name": "stdout",
     "output_type": "stream",
     "text": [
      "https://osm.wikidata.link/tagged/api/item/Q17618310\n",
      "https://osm.wikidata.link/tagged/api/item/Q18135040\n",
      "https://osm.wikidata.link/tagged/api/item/Q28473980\n"
     ]
    },
    {
     "name": "stderr",
     "output_type": "stream",
     "text": [
      " 22%|██▏       | 615/2761 [00:54<03:13, 11.07it/s]"
     ]
    },
    {
     "name": "stdout",
     "output_type": "stream",
     "text": [
      "https://osm.wikidata.link/tagged/api/item/Q18179204\n",
      "https://osm.wikidata.link/tagged/api/item/Q10717729\n",
      "https://osm.wikidata.link/tagged/api/item/Q17618001\n"
     ]
    },
    {
     "name": "stderr",
     "output_type": "stream",
     "text": [
      "\r",
      " 22%|██▏       | 617/2761 [00:54<03:10, 11.25it/s]"
     ]
    },
    {
     "name": "stdout",
     "output_type": "stream",
     "text": [
      "https://osm.wikidata.link/tagged/api/item/Q16503724\n",
      "https://osm.wikidata.link/tagged/api/item/Q10525334\n",
      "https://osm.wikidata.link/tagged/api/item/Q10561762\n"
     ]
    },
    {
     "name": "stderr",
     "output_type": "stream",
     "text": [
      " 22%|██▏       | 621/2761 [00:55<03:12, 11.10it/s]"
     ]
    },
    {
     "name": "stdout",
     "output_type": "stream",
     "text": [
      "https://osm.wikidata.link/tagged/api/item/Q10718014\n",
      "https://osm.wikidata.link/tagged/api/item/Q18184533\n",
      "https://osm.wikidata.link/tagged/api/item/Q188195\n"
     ]
    },
    {
     "name": "stderr",
     "output_type": "stream",
     "text": [
      "\r",
      " 23%|██▎       | 623/2761 [00:55<03:12, 11.11it/s]"
     ]
    },
    {
     "name": "stdout",
     "output_type": "stream",
     "text": [
      "https://osm.wikidata.link/tagged/api/item/Q1851416\n",
      "https://osm.wikidata.link/tagged/api/item/Q18184460\n",
      "https://osm.wikidata.link/tagged/api/item/Q2291254\n"
     ]
    },
    {
     "name": "stderr",
     "output_type": "stream",
     "text": [
      " 23%|██▎       | 627/2761 [00:55<03:08, 11.29it/s]"
     ]
    },
    {
     "name": "stdout",
     "output_type": "stream",
     "text": [
      "https://osm.wikidata.link/tagged/api/item/Q184492\n",
      "https://osm.wikidata.link/tagged/api/item/Q5350532\n",
      "https://osm.wikidata.link/tagged/api/item/Q5350532\n"
     ]
    },
    {
     "name": "stderr",
     "output_type": "stream",
     "text": [
      "\r",
      " 23%|██▎       | 629/2761 [00:55<03:06, 11.42it/s]"
     ]
    },
    {
     "name": "stdout",
     "output_type": "stream",
     "text": [
      "https://osm.wikidata.link/tagged/api/item/Q16505537\n",
      "https://osm.wikidata.link/tagged/api/item/Q18132560\n",
      "https://osm.wikidata.link/tagged/api/item/Q1272368\n"
     ]
    },
    {
     "name": "stderr",
     "output_type": "stream",
     "text": [
      " 23%|██▎       | 633/2761 [00:56<03:02, 11.64it/s]"
     ]
    },
    {
     "name": "stdout",
     "output_type": "stream",
     "text": [
      "https://osm.wikidata.link/tagged/api/item/Q3361022\n",
      "https://osm.wikidata.link/tagged/api/item/Q16275927\n",
      "https://osm.wikidata.link/tagged/api/item/Q16497590\n"
     ]
    },
    {
     "name": "stderr",
     "output_type": "stream",
     "text": [
      "\r",
      " 23%|██▎       | 635/2761 [00:56<03:04, 11.55it/s]"
     ]
    },
    {
     "name": "stdout",
     "output_type": "stream",
     "text": [
      "https://osm.wikidata.link/tagged/api/item/Q16504110\n",
      "https://osm.wikidata.link/tagged/api/item/Q16505256\n",
      "https://osm.wikidata.link/tagged/api/item/Q16505587\n"
     ]
    },
    {
     "name": "stderr",
     "output_type": "stream",
     "text": [
      " 23%|██▎       | 639/2761 [00:56<03:06, 11.38it/s]"
     ]
    },
    {
     "name": "stdout",
     "output_type": "stream",
     "text": [
      "https://osm.wikidata.link/tagged/api/item/Q18136766\n",
      "https://osm.wikidata.link/tagged/api/item/Q18177485\n",
      "https://osm.wikidata.link/tagged/api/item/Q18177485\n"
     ]
    },
    {
     "name": "stderr",
     "output_type": "stream",
     "text": [
      "\r",
      " 23%|██▎       | 641/2761 [00:56<03:05, 11.45it/s]"
     ]
    },
    {
     "name": "stdout",
     "output_type": "stream",
     "text": [
      "https://osm.wikidata.link/tagged/api/item/Q17780829\n",
      "https://osm.wikidata.link/tagged/api/item/Q17780836\n",
      "https://osm.wikidata.link/tagged/api/item/Q17576709\n"
     ]
    },
    {
     "name": "stderr",
     "output_type": "stream",
     "text": [
      " 23%|██▎       | 645/2761 [00:57<03:08, 11.22it/s]"
     ]
    },
    {
     "name": "stdout",
     "output_type": "stream",
     "text": [
      "https://osm.wikidata.link/tagged/api/item/Q188195\n",
      "https://osm.wikidata.link/tagged/api/item/Q4176489\n",
      "https://osm.wikidata.link/tagged/api/item/Q4176489\n"
     ]
    },
    {
     "name": "stderr",
     "output_type": "stream",
     "text": [
      "\r",
      " 23%|██▎       | 647/2761 [00:57<03:08, 11.22it/s]"
     ]
    },
    {
     "name": "stdout",
     "output_type": "stream",
     "text": [
      "https://osm.wikidata.link/tagged/api/item/Q4176489\n",
      "https://osm.wikidata.link/tagged/api/item/Q17709327\n",
      "https://osm.wikidata.link/tagged/api/item/Q17692309\n"
     ]
    },
    {
     "name": "stderr",
     "output_type": "stream",
     "text": [
      " 24%|██▎       | 651/2761 [00:57<03:05, 11.37it/s]"
     ]
    },
    {
     "name": "stdout",
     "output_type": "stream",
     "text": [
      "https://osm.wikidata.link/tagged/api/item/Q5519368\n",
      "https://osm.wikidata.link/tagged/api/item/Q10516345\n",
      "https://osm.wikidata.link/tagged/api/item/Q18186366\n"
     ]
    },
    {
     "name": "stderr",
     "output_type": "stream",
     "text": [
      "\r",
      " 24%|██▎       | 653/2761 [00:57<03:03, 11.49it/s]"
     ]
    },
    {
     "name": "stdout",
     "output_type": "stream",
     "text": [
      "https://osm.wikidata.link/tagged/api/item/Q18186926\n",
      "https://osm.wikidata.link/tagged/api/item/Q1474746\n",
      "https://osm.wikidata.link/tagged/api/item/Q1278126\n"
     ]
    },
    {
     "name": "stderr",
     "output_type": "stream",
     "text": [
      " 24%|██▍       | 657/2761 [00:58<03:04, 11.38it/s]"
     ]
    },
    {
     "name": "stdout",
     "output_type": "stream",
     "text": [
      "https://osm.wikidata.link/tagged/api/item/Q18178586\n",
      "https://osm.wikidata.link/tagged/api/item/Q173596\n",
      "https://osm.wikidata.link/tagged/api/item/Q18105720\n"
     ]
    },
    {
     "name": "stderr",
     "output_type": "stream",
     "text": [
      "\r",
      " 24%|██▍       | 659/2761 [00:58<03:03, 11.43it/s]"
     ]
    },
    {
     "name": "stdout",
     "output_type": "stream",
     "text": [
      "https://osm.wikidata.link/tagged/api/item/Q17644580\n",
      "https://osm.wikidata.link/tagged/api/item/Q10496954\n",
      "https://osm.wikidata.link/tagged/api/item/Q16275732\n"
     ]
    },
    {
     "name": "stderr",
     "output_type": "stream",
     "text": [
      " 24%|██▍       | 663/2761 [00:58<03:03, 11.43it/s]"
     ]
    },
    {
     "name": "stdout",
     "output_type": "stream",
     "text": [
      "https://osm.wikidata.link/tagged/api/item/Q10554009\n",
      "https://osm.wikidata.link/tagged/api/item/Q5506766\n",
      "https://osm.wikidata.link/tagged/api/item/Q18198819\n"
     ]
    },
    {
     "name": "stderr",
     "output_type": "stream",
     "text": [
      "\r",
      " 24%|██▍       | 665/2761 [00:58<03:02, 11.50it/s]"
     ]
    },
    {
     "name": "stdout",
     "output_type": "stream",
     "text": [
      "https://osm.wikidata.link/tagged/api/item/Q18105866\n",
      "https://osm.wikidata.link/tagged/api/item/Q18198752\n",
      "https://osm.wikidata.link/tagged/api/item/Q21856416\n"
     ]
    },
    {
     "name": "stderr",
     "output_type": "stream",
     "text": [
      " 24%|██▍       | 669/2761 [00:59<02:58, 11.71it/s]"
     ]
    },
    {
     "name": "stdout",
     "output_type": "stream",
     "text": [
      "https://osm.wikidata.link/tagged/api/item/Q18186935\n",
      "https://osm.wikidata.link/tagged/api/item/Q16914857\n",
      "https://osm.wikidata.link/tagged/api/item/Q18136968\n"
     ]
    },
    {
     "name": "stderr",
     "output_type": "stream",
     "text": [
      "\r",
      " 24%|██▍       | 671/2761 [00:59<02:58, 11.74it/s]"
     ]
    },
    {
     "name": "stdout",
     "output_type": "stream",
     "text": [
      "https://osm.wikidata.link/tagged/api/item/Q18193832\n",
      "https://osm.wikidata.link/tagged/api/item/Q173596\n",
      "https://osm.wikidata.link/tagged/api/item/Q248626\n"
     ]
    },
    {
     "name": "stderr",
     "output_type": "stream",
     "text": [
      " 24%|██▍       | 675/2761 [00:59<02:57, 11.76it/s]"
     ]
    },
    {
     "name": "stdout",
     "output_type": "stream",
     "text": [
      "https://osm.wikidata.link/tagged/api/item/Q248626\n",
      "https://osm.wikidata.link/tagged/api/item/Q248626\n",
      "https://osm.wikidata.link/tagged/api/item/Q16505669\n"
     ]
    },
    {
     "name": "stderr",
     "output_type": "stream",
     "text": [
      "\r",
      " 25%|██▍       | 677/2761 [00:59<02:58, 11.69it/s]"
     ]
    },
    {
     "name": "stdout",
     "output_type": "stream",
     "text": [
      "https://osm.wikidata.link/tagged/api/item/Q188195\n",
      "https://osm.wikidata.link/tagged/api/item/Q18188765\n",
      "https://osm.wikidata.link/tagged/api/item/Q18188765\n"
     ]
    },
    {
     "name": "stderr",
     "output_type": "stream",
     "text": [
      " 25%|██▍       | 681/2761 [01:00<02:55, 11.84it/s]"
     ]
    },
    {
     "name": "stdout",
     "output_type": "stream",
     "text": [
      "https://osm.wikidata.link/tagged/api/item/Q18197327\n",
      "https://osm.wikidata.link/tagged/api/item/Q18188950\n",
      "https://osm.wikidata.link/tagged/api/item/Q18188738\n"
     ]
    },
    {
     "name": "stderr",
     "output_type": "stream",
     "text": [
      "\r",
      " 25%|██▍       | 683/2761 [01:00<02:55, 11.84it/s]"
     ]
    },
    {
     "name": "stdout",
     "output_type": "stream",
     "text": [
      "https://osm.wikidata.link/tagged/api/item/Q18179786\n",
      "https://osm.wikidata.link/tagged/api/item/Q188195\n",
      "https://osm.wikidata.link/tagged/api/item/Q10510892\n"
     ]
    },
    {
     "name": "stderr",
     "output_type": "stream",
     "text": [
      " 25%|██▍       | 687/2761 [01:00<02:55, 11.84it/s]"
     ]
    },
    {
     "name": "stdout",
     "output_type": "stream",
     "text": [
      "https://osm.wikidata.link/tagged/api/item/Q18052040\n",
      "https://osm.wikidata.link/tagged/api/item/Q16502530\n",
      "https://osm.wikidata.link/tagged/api/item/Q17638567\n"
     ]
    },
    {
     "name": "stderr",
     "output_type": "stream",
     "text": [
      "\r",
      " 25%|██▍       | 689/2761 [01:01<03:03, 11.32it/s]"
     ]
    },
    {
     "name": "stdout",
     "output_type": "stream",
     "text": [
      "https://osm.wikidata.link/tagged/api/item/Q188195\n",
      "https://osm.wikidata.link/tagged/api/item/Q1474746\n",
      "https://osm.wikidata.link/tagged/api/item/Q1474746\n"
     ]
    },
    {
     "name": "stderr",
     "output_type": "stream",
     "text": [
      "\r",
      " 25%|██▌       | 691/2761 [01:01<03:19, 10.36it/s]"
     ]
    },
    {
     "name": "stdout",
     "output_type": "stream",
     "text": [
      "https://osm.wikidata.link/tagged/api/item/Q1474746\n",
      "https://osm.wikidata.link/tagged/api/item/Q1474746\n"
     ]
    },
    {
     "name": "stderr",
     "output_type": "stream",
     "text": [
      " 25%|██▌       | 695/2761 [01:01<03:23, 10.15it/s]"
     ]
    },
    {
     "name": "stdout",
     "output_type": "stream",
     "text": [
      "https://osm.wikidata.link/tagged/api/item/Q1474746\n",
      "https://osm.wikidata.link/tagged/api/item/Q18105346\n",
      "https://osm.wikidata.link/tagged/api/item/Q18196863\n"
     ]
    },
    {
     "name": "stderr",
     "output_type": "stream",
     "text": [
      "\r",
      " 25%|██▌       | 697/2761 [01:01<03:16, 10.48it/s]"
     ]
    },
    {
     "name": "stdout",
     "output_type": "stream",
     "text": [
      "https://osm.wikidata.link/tagged/api/item/Q18132352\n",
      "https://osm.wikidata.link/tagged/api/item/Q10524934\n"
     ]
    },
    {
     "name": "stderr",
     "output_type": "stream",
     "text": [
      "\r",
      " 25%|██▌       | 699/2761 [01:02<03:20, 10.29it/s]"
     ]
    },
    {
     "name": "stdout",
     "output_type": "stream",
     "text": [
      "https://osm.wikidata.link/tagged/api/item/Q10526365\n",
      "https://osm.wikidata.link/tagged/api/item/Q18051614\n",
      "https://osm.wikidata.link/tagged/api/item/Q18132359\n"
     ]
    },
    {
     "name": "stderr",
     "output_type": "stream",
     "text": [
      " 25%|██▌       | 703/2761 [01:02<03:09, 10.84it/s]"
     ]
    },
    {
     "name": "stdout",
     "output_type": "stream",
     "text": [
      "https://osm.wikidata.link/tagged/api/item/Q173596\n",
      "https://osm.wikidata.link/tagged/api/item/Q10531635\n",
      "https://osm.wikidata.link/tagged/api/item/Q17645187\n"
     ]
    },
    {
     "name": "stderr",
     "output_type": "stream",
     "text": [
      "\r",
      " 26%|██▌       | 705/2761 [01:02<03:06, 11.02it/s]"
     ]
    },
    {
     "name": "stdout",
     "output_type": "stream",
     "text": [
      "https://osm.wikidata.link/tagged/api/item/Q10532385\n",
      "https://osm.wikidata.link/tagged/api/item/Q17709372\n",
      "https://osm.wikidata.link/tagged/api/item/Q18104983\n"
     ]
    },
    {
     "name": "stderr",
     "output_type": "stream",
     "text": [
      "\r",
      " 26%|██▌       | 707/2761 [01:02<03:03, 11.19it/s]"
     ]
    },
    {
     "name": "stdout",
     "output_type": "stream",
     "text": [
      "https://osm.wikidata.link/tagged/api/item/Q18104986\n",
      "https://osm.wikidata.link/tagged/api/item/Q1675882\n"
     ]
    },
    {
     "name": "stderr",
     "output_type": "stream",
     "text": [
      " 26%|██▌       | 711/2761 [01:03<03:25,  9.97it/s]"
     ]
    },
    {
     "name": "stdout",
     "output_type": "stream",
     "text": [
      "https://osm.wikidata.link/tagged/api/item/Q1675882\n",
      "https://osm.wikidata.link/tagged/api/item/Q1675882\n",
      "https://osm.wikidata.link/tagged/api/item/Q1675882\n"
     ]
    },
    {
     "name": "stderr",
     "output_type": "stream",
     "text": [
      "\r",
      " 26%|██▌       | 713/2761 [01:03<03:17, 10.40it/s]"
     ]
    },
    {
     "name": "stdout",
     "output_type": "stream",
     "text": [
      "https://osm.wikidata.link/tagged/api/item/Q188195\n",
      "https://osm.wikidata.link/tagged/api/item/Q173596\n",
      "https://osm.wikidata.link/tagged/api/item/Q10681371\n"
     ]
    },
    {
     "name": "stderr",
     "output_type": "stream",
     "text": [
      " 26%|██▌       | 717/2761 [01:03<03:06, 10.98it/s]"
     ]
    },
    {
     "name": "stdout",
     "output_type": "stream",
     "text": [
      "https://osm.wikidata.link/tagged/api/item/Q17517464\n",
      "https://osm.wikidata.link/tagged/api/item/Q17645238\n",
      "https://osm.wikidata.link/tagged/api/item/Q18131538\n"
     ]
    },
    {
     "name": "stderr",
     "output_type": "stream",
     "text": [
      "\r",
      " 26%|██▌       | 719/2761 [01:03<03:04, 11.08it/s]"
     ]
    },
    {
     "name": "stdout",
     "output_type": "stream",
     "text": [
      "https://osm.wikidata.link/tagged/api/item/Q3361316\n",
      "https://osm.wikidata.link/tagged/api/item/Q18186377\n",
      "https://osm.wikidata.link/tagged/api/item/Q18178671\n"
     ]
    },
    {
     "name": "stderr",
     "output_type": "stream",
     "text": [
      " 26%|██▌       | 723/2761 [01:04<03:04, 11.07it/s]"
     ]
    },
    {
     "name": "stdout",
     "output_type": "stream",
     "text": [
      "https://osm.wikidata.link/tagged/api/item/Q149448\n",
      "https://osm.wikidata.link/tagged/api/item/Q18105398\n",
      "https://osm.wikidata.link/tagged/api/item/Q173596\n"
     ]
    },
    {
     "name": "stderr",
     "output_type": "stream",
     "text": [
      "\r",
      " 26%|██▋       | 725/2761 [01:04<03:01, 11.22it/s]"
     ]
    },
    {
     "name": "stdout",
     "output_type": "stream",
     "text": [
      "https://osm.wikidata.link/tagged/api/item/Q17709388\n",
      "https://osm.wikidata.link/tagged/api/item/Q18194541\n",
      "https://osm.wikidata.link/tagged/api/item/Q18186354\n"
     ]
    },
    {
     "name": "stderr",
     "output_type": "stream",
     "text": [
      " 26%|██▋       | 729/2761 [01:04<02:58, 11.40it/s]"
     ]
    },
    {
     "name": "stdout",
     "output_type": "stream",
     "text": [
      "https://osm.wikidata.link/tagged/api/item/Q18105414\n",
      "https://osm.wikidata.link/tagged/api/item/Q18179051\n",
      "https://osm.wikidata.link/tagged/api/item/Q149448\n"
     ]
    },
    {
     "name": "stderr",
     "output_type": "stream",
     "text": [
      "\r",
      " 26%|██▋       | 731/2761 [01:04<02:56, 11.52it/s]"
     ]
    },
    {
     "name": "stdout",
     "output_type": "stream",
     "text": [
      "https://osm.wikidata.link/tagged/api/item/Q10553425\n",
      "https://osm.wikidata.link/tagged/api/item/Q18179845\n",
      "https://osm.wikidata.link/tagged/api/item/Q18136133\n"
     ]
    },
    {
     "name": "stderr",
     "output_type": "stream",
     "text": [
      " 27%|██▋       | 735/2761 [01:05<02:56, 11.46it/s]"
     ]
    },
    {
     "name": "stdout",
     "output_type": "stream",
     "text": [
      "https://osm.wikidata.link/tagged/api/item/Q3361316\n",
      "https://osm.wikidata.link/tagged/api/item/Q17517479\n",
      "https://osm.wikidata.link/tagged/api/item/Q6520967\n"
     ]
    },
    {
     "name": "stderr",
     "output_type": "stream",
     "text": [
      "\r",
      " 27%|██▋       | 737/2761 [01:05<02:54, 11.58it/s]"
     ]
    },
    {
     "name": "stdout",
     "output_type": "stream",
     "text": [
      "https://osm.wikidata.link/tagged/api/item/Q6520967\n",
      "https://osm.wikidata.link/tagged/api/item/Q18179910\n",
      "https://osm.wikidata.link/tagged/api/item/Q18179385\n"
     ]
    },
    {
     "name": "stderr",
     "output_type": "stream",
     "text": [
      " 27%|██▋       | 741/2761 [01:05<02:54, 11.58it/s]"
     ]
    },
    {
     "name": "stdout",
     "output_type": "stream",
     "text": [
      "https://osm.wikidata.link/tagged/api/item/Q10560716\n",
      "https://osm.wikidata.link/tagged/api/item/Q18179852\n",
      "https://osm.wikidata.link/tagged/api/item/Q18105088\n"
     ]
    },
    {
     "name": "stderr",
     "output_type": "stream",
     "text": [
      "\r",
      " 27%|██▋       | 743/2761 [01:05<02:54, 11.55it/s]"
     ]
    },
    {
     "name": "stdout",
     "output_type": "stream",
     "text": [
      "https://osm.wikidata.link/tagged/api/item/Q18197607\n",
      "https://osm.wikidata.link/tagged/api/item/Q18132844\n",
      "https://osm.wikidata.link/tagged/api/item/Q17522456\n"
     ]
    },
    {
     "name": "stderr",
     "output_type": "stream",
     "text": [
      " 27%|██▋       | 747/2761 [01:06<02:58, 11.30it/s]"
     ]
    },
    {
     "name": "stdout",
     "output_type": "stream",
     "text": [
      "https://osm.wikidata.link/tagged/api/item/Q17645129\n",
      "https://osm.wikidata.link/tagged/api/item/Q173596\n",
      "https://osm.wikidata.link/tagged/api/item/Q18131585\n"
     ]
    },
    {
     "name": "stderr",
     "output_type": "stream",
     "text": [
      "\r",
      " 27%|██▋       | 749/2761 [01:06<02:57, 11.35it/s]"
     ]
    },
    {
     "name": "stdout",
     "output_type": "stream",
     "text": [
      "https://osm.wikidata.link/tagged/api/item/Q18132847\n",
      "https://osm.wikidata.link/tagged/api/item/Q18132847\n",
      "https://osm.wikidata.link/tagged/api/item/Q18134887\n"
     ]
    },
    {
     "name": "stderr",
     "output_type": "stream",
     "text": [
      " 27%|██▋       | 753/2761 [01:06<02:56, 11.40it/s]"
     ]
    },
    {
     "name": "stdout",
     "output_type": "stream",
     "text": [
      "https://osm.wikidata.link/tagged/api/item/Q10568297\n",
      "https://osm.wikidata.link/tagged/api/item/Q18051640\n",
      "https://osm.wikidata.link/tagged/api/item/Q10568377\n"
     ]
    },
    {
     "name": "stderr",
     "output_type": "stream",
     "text": [
      "\r",
      " 27%|██▋       | 755/2761 [01:07<02:55, 11.44it/s]"
     ]
    },
    {
     "name": "stdout",
     "output_type": "stream",
     "text": [
      "https://osm.wikidata.link/tagged/api/item/Q10570015\n",
      "https://osm.wikidata.link/tagged/api/item/Q18051643\n",
      "https://osm.wikidata.link/tagged/api/item/Q173596\n"
     ]
    },
    {
     "name": "stderr",
     "output_type": "stream",
     "text": [
      " 27%|██▋       | 759/2761 [01:07<02:53, 11.51it/s]"
     ]
    },
    {
     "name": "stdout",
     "output_type": "stream",
     "text": [
      "https://osm.wikidata.link/tagged/api/item/Q18134893\n",
      "https://osm.wikidata.link/tagged/api/item/Q18105022\n",
      "https://osm.wikidata.link/tagged/api/item/Q18192984\n"
     ]
    },
    {
     "name": "stderr",
     "output_type": "stream",
     "text": [
      "\r",
      " 28%|██▊       | 761/2761 [01:07<02:53, 11.53it/s]"
     ]
    },
    {
     "name": "stdout",
     "output_type": "stream",
     "text": [
      "https://osm.wikidata.link/tagged/api/item/Q18194242\n",
      "https://osm.wikidata.link/tagged/api/item/Q18188608\n",
      "https://osm.wikidata.link/tagged/api/item/Q18105561\n"
     ]
    },
    {
     "name": "stderr",
     "output_type": "stream",
     "text": [
      " 28%|██▊       | 765/2761 [01:07<02:52, 11.56it/s]"
     ]
    },
    {
     "name": "stdout",
     "output_type": "stream",
     "text": [
      "https://osm.wikidata.link/tagged/api/item/Q17644600\n",
      "https://osm.wikidata.link/tagged/api/item/Q17693012\n",
      "https://osm.wikidata.link/tagged/api/item/Q173596\n"
     ]
    },
    {
     "name": "stderr",
     "output_type": "stream",
     "text": [
      "\r",
      " 28%|██▊       | 767/2761 [01:08<02:54, 11.42it/s]"
     ]
    },
    {
     "name": "stdout",
     "output_type": "stream",
     "text": [
      "https://osm.wikidata.link/tagged/api/item/Q18105470\n",
      "https://osm.wikidata.link/tagged/api/item/Q10576083\n",
      "https://osm.wikidata.link/tagged/api/item/Q18178747\n"
     ]
    },
    {
     "name": "stderr",
     "output_type": "stream",
     "text": [
      " 28%|██▊       | 771/2761 [01:08<02:57, 11.19it/s]"
     ]
    },
    {
     "name": "stdout",
     "output_type": "stream",
     "text": [
      "https://osm.wikidata.link/tagged/api/item/Q271320\n",
      "https://osm.wikidata.link/tagged/api/item/Q18193000\n",
      "https://osm.wikidata.link/tagged/api/item/Q17644576\n"
     ]
    },
    {
     "name": "stderr",
     "output_type": "stream",
     "text": [
      "\r",
      " 28%|██▊       | 773/2761 [01:08<02:58, 11.11it/s]"
     ]
    },
    {
     "name": "stdout",
     "output_type": "stream",
     "text": [
      "https://osm.wikidata.link/tagged/api/item/Q18177997\n",
      "https://osm.wikidata.link/tagged/api/item/Q1545197\n",
      "https://osm.wikidata.link/tagged/api/item/Q10587510\n"
     ]
    },
    {
     "name": "stderr",
     "output_type": "stream",
     "text": [
      " 28%|██▊       | 777/2761 [01:08<02:58, 11.14it/s]"
     ]
    },
    {
     "name": "stdout",
     "output_type": "stream",
     "text": [
      "https://osm.wikidata.link/tagged/api/item/Q18136308\n",
      "https://osm.wikidata.link/tagged/api/item/Q2618547\n",
      "https://osm.wikidata.link/tagged/api/item/Q10590069\n"
     ]
    },
    {
     "name": "stderr",
     "output_type": "stream",
     "text": [
      "\r",
      " 28%|██▊       | 779/2761 [01:09<02:56, 11.21it/s]"
     ]
    },
    {
     "name": "stdout",
     "output_type": "stream",
     "text": [
      "https://osm.wikidata.link/tagged/api/item/Q18187072\n",
      "https://osm.wikidata.link/tagged/api/item/Q10590094\n",
      "https://osm.wikidata.link/tagged/api/item/Q10538521\n"
     ]
    },
    {
     "name": "stderr",
     "output_type": "stream",
     "text": [
      " 28%|██▊       | 783/2761 [01:09<02:52, 11.44it/s]"
     ]
    },
    {
     "name": "stdout",
     "output_type": "stream",
     "text": [
      "https://osm.wikidata.link/tagged/api/item/Q10591031\n",
      "https://osm.wikidata.link/tagged/api/item/Q18188890\n",
      "https://osm.wikidata.link/tagged/api/item/Q10593482\n"
     ]
    },
    {
     "name": "stderr",
     "output_type": "stream",
     "text": [
      "\r",
      " 28%|██▊       | 785/2761 [01:09<02:52, 11.48it/s]"
     ]
    },
    {
     "name": "stdout",
     "output_type": "stream",
     "text": [
      "https://osm.wikidata.link/tagged/api/item/Q10593482\n",
      "https://osm.wikidata.link/tagged/api/item/Q10551538\n",
      "https://osm.wikidata.link/tagged/api/item/Q173596\n"
     ]
    },
    {
     "name": "stderr",
     "output_type": "stream",
     "text": [
      " 29%|██▊       | 789/2761 [01:10<02:49, 11.63it/s]"
     ]
    },
    {
     "name": "stdout",
     "output_type": "stream",
     "text": [
      "https://osm.wikidata.link/tagged/api/item/Q10594570\n",
      "https://osm.wikidata.link/tagged/api/item/Q18194675\n",
      "https://osm.wikidata.link/tagged/api/item/Q3361111\n"
     ]
    },
    {
     "name": "stderr",
     "output_type": "stream",
     "text": [
      "\r",
      " 29%|██▊       | 791/2761 [01:10<02:48, 11.67it/s]"
     ]
    },
    {
     "name": "stdout",
     "output_type": "stream",
     "text": [
      "https://osm.wikidata.link/tagged/api/item/Q1758931\n",
      "https://osm.wikidata.link/tagged/api/item/Q173596\n",
      "https://osm.wikidata.link/tagged/api/item/Q18186391\n"
     ]
    },
    {
     "name": "stderr",
     "output_type": "stream",
     "text": [
      " 29%|██▉       | 795/2761 [01:10<02:48, 11.65it/s]"
     ]
    },
    {
     "name": "stdout",
     "output_type": "stream",
     "text": [
      "https://osm.wikidata.link/tagged/api/item/Q18051665\n",
      "https://osm.wikidata.link/tagged/api/item/Q18179662\n",
      "https://osm.wikidata.link/tagged/api/item/Q17693204\n"
     ]
    },
    {
     "name": "stderr",
     "output_type": "stream",
     "text": [
      "\r",
      " 29%|██▉       | 797/2761 [01:10<03:01, 10.79it/s]"
     ]
    },
    {
     "name": "stdout",
     "output_type": "stream",
     "text": [
      "https://osm.wikidata.link/tagged/api/item/Q173596\n",
      "https://osm.wikidata.link/tagged/api/item/Q17638540\n",
      "https://osm.wikidata.link/tagged/api/item/Q10688256\n"
     ]
    },
    {
     "name": "stderr",
     "output_type": "stream",
     "text": [
      " 29%|██▉       | 801/2761 [01:11<02:56, 11.09it/s]"
     ]
    },
    {
     "name": "stdout",
     "output_type": "stream",
     "text": [
      "https://osm.wikidata.link/tagged/api/item/Q3424558\n",
      "https://osm.wikidata.link/tagged/api/item/Q18132869\n",
      "https://osm.wikidata.link/tagged/api/item/Q3361272\n"
     ]
    },
    {
     "name": "stderr",
     "output_type": "stream",
     "text": [
      "\r",
      " 29%|██▉       | 803/2761 [01:11<03:01, 10.79it/s]"
     ]
    },
    {
     "name": "stdout",
     "output_type": "stream",
     "text": [
      "https://osm.wikidata.link/tagged/api/item/Q188195\n",
      "https://osm.wikidata.link/tagged/api/item/Q173596\n",
      "https://osm.wikidata.link/tagged/api/item/Q18197613\n"
     ]
    },
    {
     "name": "stderr",
     "output_type": "stream",
     "text": [
      " 29%|██▉       | 807/2761 [01:11<02:57, 10.98it/s]"
     ]
    },
    {
     "name": "stdout",
     "output_type": "stream",
     "text": [
      "https://osm.wikidata.link/tagged/api/item/Q10613445\n",
      "https://osm.wikidata.link/tagged/api/item/Q188195\n",
      "https://osm.wikidata.link/tagged/api/item/Q10723589\n"
     ]
    },
    {
     "name": "stderr",
     "output_type": "stream",
     "text": [
      "\r",
      " 29%|██▉       | 809/2761 [01:11<03:19,  9.77it/s]"
     ]
    },
    {
     "name": "stdout",
     "output_type": "stream",
     "text": [
      "https://osm.wikidata.link/tagged/api/item/Q10727527\n",
      "https://osm.wikidata.link/tagged/api/item/Q188195\n"
     ]
    },
    {
     "name": "stderr",
     "output_type": "stream",
     "text": [
      "\r",
      " 29%|██▉       | 811/2761 [01:12<03:15,  9.99it/s]"
     ]
    },
    {
     "name": "stdout",
     "output_type": "stream",
     "text": [
      "https://osm.wikidata.link/tagged/api/item/Q18144728\n",
      "https://osm.wikidata.link/tagged/api/item/Q271320\n",
      "https://osm.wikidata.link/tagged/api/item/Q188195\n"
     ]
    },
    {
     "name": "stderr",
     "output_type": "stream",
     "text": [
      " 30%|██▉       | 815/2761 [01:12<03:02, 10.67it/s]"
     ]
    },
    {
     "name": "stdout",
     "output_type": "stream",
     "text": [
      "https://osm.wikidata.link/tagged/api/item/Q17709436\n",
      "https://osm.wikidata.link/tagged/api/item/Q18194592\n",
      "https://osm.wikidata.link/tagged/api/item/Q17525236\n"
     ]
    },
    {
     "name": "stderr",
     "output_type": "stream",
     "text": [
      "\r",
      " 30%|██▉       | 817/2761 [01:12<02:56, 10.99it/s]"
     ]
    },
    {
     "name": "stdout",
     "output_type": "stream",
     "text": [
      "https://osm.wikidata.link/tagged/api/item/Q10650565\n",
      "https://osm.wikidata.link/tagged/api/item/Q18187242\n"
     ]
    },
    {
     "name": "stderr",
     "output_type": "stream",
     "text": [
      "\r",
      " 30%|██▉       | 819/2761 [01:12<03:03, 10.57it/s]"
     ]
    },
    {
     "name": "stdout",
     "output_type": "stream",
     "text": [
      "https://osm.wikidata.link/tagged/api/item/Q16914856\n",
      "https://osm.wikidata.link/tagged/api/item/Q18188687\n",
      "https://osm.wikidata.link/tagged/api/item/Q18178824\n"
     ]
    },
    {
     "name": "stderr",
     "output_type": "stream",
     "text": [
      " 30%|██▉       | 823/2761 [01:13<02:55, 11.05it/s]"
     ]
    },
    {
     "name": "stdout",
     "output_type": "stream",
     "text": [
      "https://osm.wikidata.link/tagged/api/item/Q17525220\n",
      "https://osm.wikidata.link/tagged/api/item/Q10535696\n",
      "https://osm.wikidata.link/tagged/api/item/Q17709448\n"
     ]
    },
    {
     "name": "stderr",
     "output_type": "stream",
     "text": [
      "\r",
      " 30%|██▉       | 825/2761 [01:13<02:54, 11.09it/s]"
     ]
    },
    {
     "name": "stdout",
     "output_type": "stream",
     "text": [
      "https://osm.wikidata.link/tagged/api/item/Q10658649\n",
      "https://osm.wikidata.link/tagged/api/item/Q18179929\n",
      "https://osm.wikidata.link/tagged/api/item/Q18179929\n"
     ]
    },
    {
     "name": "stderr",
     "output_type": "stream",
     "text": [
      " 30%|███       | 829/2761 [01:13<02:53, 11.14it/s]"
     ]
    },
    {
     "name": "stdout",
     "output_type": "stream",
     "text": [
      "https://osm.wikidata.link/tagged/api/item/Q18179929\n",
      "https://osm.wikidata.link/tagged/api/item/Q17618355\n",
      "https://osm.wikidata.link/tagged/api/item/Q16504040\n"
     ]
    },
    {
     "name": "stderr",
     "output_type": "stream",
     "text": [
      "\r",
      " 30%|███       | 831/2761 [01:13<02:59, 10.76it/s]"
     ]
    },
    {
     "name": "stdout",
     "output_type": "stream",
     "text": [
      "https://osm.wikidata.link/tagged/api/item/Q173596\n",
      "https://osm.wikidata.link/tagged/api/item/Q10681374\n",
      "https://osm.wikidata.link/tagged/api/item/Q18194839\n"
     ]
    },
    {
     "name": "stderr",
     "output_type": "stream",
     "text": [
      " 30%|███       | 835/2761 [01:14<02:51, 11.25it/s]"
     ]
    },
    {
     "name": "stdout",
     "output_type": "stream",
     "text": [
      "https://osm.wikidata.link/tagged/api/item/Q18137398\n",
      "https://osm.wikidata.link/tagged/api/item/Q173596\n",
      "https://osm.wikidata.link/tagged/api/item/Q18198796\n"
     ]
    },
    {
     "name": "stderr",
     "output_type": "stream",
     "text": [
      "\r",
      " 30%|███       | 837/2761 [01:14<02:49, 11.32it/s]"
     ]
    },
    {
     "name": "stdout",
     "output_type": "stream",
     "text": [
      "https://osm.wikidata.link/tagged/api/item/Q10496954\n",
      "https://osm.wikidata.link/tagged/api/item/Q18194596\n"
     ]
    },
    {
     "name": "stderr",
     "output_type": "stream",
     "text": [
      "\r",
      " 30%|███       | 839/2761 [01:14<03:07, 10.23it/s]"
     ]
    },
    {
     "name": "stdout",
     "output_type": "stream",
     "text": [
      "https://osm.wikidata.link/tagged/api/item/Q18190596\n",
      "https://osm.wikidata.link/tagged/api/item/Q173596\n"
     ]
    },
    {
     "name": "stderr",
     "output_type": "stream",
     "text": [
      "\r",
      " 30%|███       | 841/2761 [01:14<03:04, 10.41it/s]"
     ]
    },
    {
     "name": "stdout",
     "output_type": "stream",
     "text": [
      "https://osm.wikidata.link/tagged/api/item/Q18186399\n",
      "https://osm.wikidata.link/tagged/api/item/Q18188693\n",
      "https://osm.wikidata.link/tagged/api/item/Q18186399\n"
     ]
    },
    {
     "name": "stderr",
     "output_type": "stream",
     "text": [
      " 31%|███       | 845/2761 [01:15<02:55, 10.90it/s]"
     ]
    },
    {
     "name": "stdout",
     "output_type": "stream",
     "text": [
      "https://osm.wikidata.link/tagged/api/item/Q18051685\n",
      "https://osm.wikidata.link/tagged/api/item/Q18132230\n",
      "https://osm.wikidata.link/tagged/api/item/Q2291254\n"
     ]
    },
    {
     "name": "stderr",
     "output_type": "stream",
     "text": [
      "\r",
      " 31%|███       | 847/2761 [01:15<02:50, 11.26it/s]"
     ]
    },
    {
     "name": "stdout",
     "output_type": "stream",
     "text": [
      "https://osm.wikidata.link/tagged/api/item/Q2291254\n",
      "https://osm.wikidata.link/tagged/api/item/Q1938681\n",
      "https://osm.wikidata.link/tagged/api/item/Q18177966\n"
     ]
    },
    {
     "name": "stderr",
     "output_type": "stream",
     "text": [
      " 31%|███       | 851/2761 [01:15<02:51, 11.14it/s]"
     ]
    },
    {
     "name": "stdout",
     "output_type": "stream",
     "text": [
      "https://osm.wikidata.link/tagged/api/item/Q18188961\n",
      "https://osm.wikidata.link/tagged/api/item/Q18187117\n",
      "https://osm.wikidata.link/tagged/api/item/Q18179695\n"
     ]
    },
    {
     "name": "stderr",
     "output_type": "stream",
     "text": [
      "\r",
      " 31%|███       | 853/2761 [01:15<02:53, 10.98it/s]"
     ]
    },
    {
     "name": "stdout",
     "output_type": "stream",
     "text": [
      "https://osm.wikidata.link/tagged/api/item/Q271320\n",
      "https://osm.wikidata.link/tagged/api/item/Q18194323\n",
      "https://osm.wikidata.link/tagged/api/item/Q173596\n"
     ]
    },
    {
     "name": "stderr",
     "output_type": "stream",
     "text": [
      " 31%|███       | 857/2761 [01:16<02:48, 11.33it/s]"
     ]
    },
    {
     "name": "stdout",
     "output_type": "stream",
     "text": [
      "https://osm.wikidata.link/tagged/api/item/Q173596\n",
      "https://osm.wikidata.link/tagged/api/item/Q18132247\n",
      "https://osm.wikidata.link/tagged/api/item/Q18104791\n"
     ]
    },
    {
     "name": "stderr",
     "output_type": "stream",
     "text": [
      "\r",
      " 31%|███       | 859/2761 [01:16<02:44, 11.57it/s]"
     ]
    },
    {
     "name": "stdout",
     "output_type": "stream",
     "text": [
      "https://osm.wikidata.link/tagged/api/item/Q18105806\n",
      "https://osm.wikidata.link/tagged/api/item/Q10555298\n",
      "https://osm.wikidata.link/tagged/api/item/Q10673186\n"
     ]
    },
    {
     "name": "stderr",
     "output_type": "stream",
     "text": [
      " 31%|███▏      | 863/2761 [01:16<02:42, 11.69it/s]"
     ]
    },
    {
     "name": "stdout",
     "output_type": "stream",
     "text": [
      "https://osm.wikidata.link/tagged/api/item/Q10673186\n",
      "https://osm.wikidata.link/tagged/api/item/Q1758931\n",
      "https://osm.wikidata.link/tagged/api/item/Q1758931\n"
     ]
    },
    {
     "name": "stderr",
     "output_type": "stream",
     "text": [
      "\r",
      " 31%|███▏      | 865/2761 [01:16<02:40, 11.78it/s]"
     ]
    },
    {
     "name": "stdout",
     "output_type": "stream",
     "text": [
      "https://osm.wikidata.link/tagged/api/item/Q10674115\n",
      "https://osm.wikidata.link/tagged/api/item/Q1019336\n",
      "https://osm.wikidata.link/tagged/api/item/Q17645090\n"
     ]
    },
    {
     "name": "stderr",
     "output_type": "stream",
     "text": [
      " 31%|███▏      | 869/2761 [01:17<02:40, 11.80it/s]"
     ]
    },
    {
     "name": "stdout",
     "output_type": "stream",
     "text": [
      "https://osm.wikidata.link/tagged/api/item/Q18105537\n",
      "https://osm.wikidata.link/tagged/api/item/Q3361374\n",
      "https://osm.wikidata.link/tagged/api/item/Q18132520\n"
     ]
    },
    {
     "name": "stderr",
     "output_type": "stream",
     "text": [
      "\r",
      " 32%|███▏      | 871/2761 [01:17<02:40, 11.80it/s]"
     ]
    },
    {
     "name": "stdout",
     "output_type": "stream",
     "text": [
      "https://osm.wikidata.link/tagged/api/item/Q10681077\n",
      "https://osm.wikidata.link/tagged/api/item/Q18196254\n",
      "https://osm.wikidata.link/tagged/api/item/Q18194381\n"
     ]
    },
    {
     "name": "stderr",
     "output_type": "stream",
     "text": [
      " 32%|███▏      | 875/2761 [01:17<02:40, 11.79it/s]"
     ]
    },
    {
     "name": "stdout",
     "output_type": "stream",
     "text": [
      "https://osm.wikidata.link/tagged/api/item/Q17780919\n",
      "https://osm.wikidata.link/tagged/api/item/Q126109\n",
      "https://osm.wikidata.link/tagged/api/item/Q17645153\n"
     ]
    },
    {
     "name": "stderr",
     "output_type": "stream",
     "text": [
      "\r",
      " 32%|███▏      | 877/2761 [01:17<02:42, 11.58it/s]"
     ]
    },
    {
     "name": "stdout",
     "output_type": "stream",
     "text": [
      "https://osm.wikidata.link/tagged/api/item/Q18193153\n",
      "https://osm.wikidata.link/tagged/api/item/Q18179648\n",
      "https://osm.wikidata.link/tagged/api/item/Q173596\n"
     ]
    },
    {
     "name": "stderr",
     "output_type": "stream",
     "text": [
      " 32%|███▏      | 881/2761 [01:18<02:40, 11.72it/s]"
     ]
    },
    {
     "name": "stdout",
     "output_type": "stream",
     "text": [
      "https://osm.wikidata.link/tagged/api/item/Q10684180\n",
      "https://osm.wikidata.link/tagged/api/item/Q17525367\n",
      "https://osm.wikidata.link/tagged/api/item/Q10488281\n"
     ]
    },
    {
     "name": "stderr",
     "output_type": "stream",
     "text": [
      "\r",
      " 32%|███▏      | 883/2761 [01:18<02:41, 11.60it/s]"
     ]
    },
    {
     "name": "stdout",
     "output_type": "stream",
     "text": [
      "https://osm.wikidata.link/tagged/api/item/Q18194847\n",
      "https://osm.wikidata.link/tagged/api/item/Q18179737\n",
      "https://osm.wikidata.link/tagged/api/item/Q18105575\n"
     ]
    },
    {
     "name": "stderr",
     "output_type": "stream",
     "text": [
      " 32%|███▏      | 887/2761 [01:18<02:41, 11.59it/s]"
     ]
    },
    {
     "name": "stdout",
     "output_type": "stream",
     "text": [
      "https://osm.wikidata.link/tagged/api/item/Q6520967\n",
      "https://osm.wikidata.link/tagged/api/item/Q18181403\n",
      "https://osm.wikidata.link/tagged/api/item/Q18105577\n"
     ]
    },
    {
     "name": "stderr",
     "output_type": "stream",
     "text": [
      "\r",
      " 32%|███▏      | 889/2761 [01:19<02:58, 10.51it/s]"
     ]
    },
    {
     "name": "stdout",
     "output_type": "stream",
     "text": [
      "https://osm.wikidata.link/tagged/api/item/Q18105104\n",
      "https://osm.wikidata.link/tagged/api/item/Q17645129\n",
      "https://osm.wikidata.link/tagged/api/item/Q18188609\n"
     ]
    },
    {
     "name": "stderr",
     "output_type": "stream",
     "text": [
      " 32%|███▏      | 893/2761 [01:19<02:53, 10.74it/s]"
     ]
    },
    {
     "name": "stdout",
     "output_type": "stream",
     "text": [
      "https://osm.wikidata.link/tagged/api/item/Q10689117\n",
      "https://osm.wikidata.link/tagged/api/item/Q18137570\n",
      "https://osm.wikidata.link/tagged/api/item/Q18134102\n"
     ]
    },
    {
     "name": "stderr",
     "output_type": "stream",
     "text": [
      "\r",
      " 32%|███▏      | 895/2761 [01:19<02:55, 10.64it/s]"
     ]
    },
    {
     "name": "stdout",
     "output_type": "stream",
     "text": [
      "https://osm.wikidata.link/tagged/api/item/Q18178030\n",
      "https://osm.wikidata.link/tagged/api/item/Q10690681\n",
      "https://osm.wikidata.link/tagged/api/item/Q17645209\n"
     ]
    },
    {
     "name": "stderr",
     "output_type": "stream",
     "text": [
      " 33%|███▎      | 899/2761 [01:19<02:49, 10.98it/s]"
     ]
    },
    {
     "name": "stdout",
     "output_type": "stream",
     "text": [
      "https://osm.wikidata.link/tagged/api/item/Q17745444\n",
      "https://osm.wikidata.link/tagged/api/item/Q2435780\n",
      "https://osm.wikidata.link/tagged/api/item/Q3361258\n"
     ]
    },
    {
     "name": "stderr",
     "output_type": "stream",
     "text": [
      "\r",
      " 33%|███▎      | 901/2761 [01:20<02:46, 11.16it/s]"
     ]
    },
    {
     "name": "stdout",
     "output_type": "stream",
     "text": [
      "https://osm.wikidata.link/tagged/api/item/Q3361258\n",
      "https://osm.wikidata.link/tagged/api/item/Q3361258\n",
      "https://osm.wikidata.link/tagged/api/item/Q18052135\n"
     ]
    },
    {
     "name": "stderr",
     "output_type": "stream",
     "text": [
      " 33%|███▎      | 905/2761 [01:20<02:47, 11.07it/s]"
     ]
    },
    {
     "name": "stdout",
     "output_type": "stream",
     "text": [
      "https://osm.wikidata.link/tagged/api/item/Q10699234\n",
      "https://osm.wikidata.link/tagged/api/item/Q16505669\n",
      "https://osm.wikidata.link/tagged/api/item/Q10699403\n"
     ]
    },
    {
     "name": "stderr",
     "output_type": "stream",
     "text": [
      "\r",
      " 33%|███▎      | 907/2761 [01:20<02:45, 11.23it/s]"
     ]
    },
    {
     "name": "stdout",
     "output_type": "stream",
     "text": [
      "https://osm.wikidata.link/tagged/api/item/Q173596\n",
      "https://osm.wikidata.link/tagged/api/item/Q18052140\n",
      "https://osm.wikidata.link/tagged/api/item/Q18178865\n"
     ]
    },
    {
     "name": "stderr",
     "output_type": "stream",
     "text": [
      "\r",
      " 33%|███▎      | 909/2761 [01:20<02:44, 11.24it/s]"
     ]
    },
    {
     "name": "stdout",
     "output_type": "stream",
     "text": [
      "https://osm.wikidata.link/tagged/api/item/Q17709637\n",
      "https://osm.wikidata.link/tagged/api/item/Q188195\n"
     ]
    },
    {
     "name": "stderr",
     "output_type": "stream",
     "text": [
      " 33%|███▎      | 913/2761 [01:21<03:03, 10.09it/s]"
     ]
    },
    {
     "name": "stdout",
     "output_type": "stream",
     "text": [
      "https://osm.wikidata.link/tagged/api/item/Q173596\n",
      "https://osm.wikidata.link/tagged/api/item/Q18134948\n",
      "https://osm.wikidata.link/tagged/api/item/Q18136912\n"
     ]
    },
    {
     "name": "stderr",
     "output_type": "stream",
     "text": [
      "\r",
      " 33%|███▎      | 915/2761 [01:21<02:56, 10.48it/s]"
     ]
    },
    {
     "name": "stdout",
     "output_type": "stream",
     "text": [
      "https://osm.wikidata.link/tagged/api/item/Q18179999\n",
      "https://osm.wikidata.link/tagged/api/item/Q10711199\n",
      "https://osm.wikidata.link/tagged/api/item/Q10438548\n"
     ]
    },
    {
     "name": "stderr",
     "output_type": "stream",
     "text": [
      " 33%|███▎      | 919/2761 [01:21<02:51, 10.71it/s]"
     ]
    },
    {
     "name": "stdout",
     "output_type": "stream",
     "text": [
      "https://osm.wikidata.link/tagged/api/item/Q17525285\n",
      "https://osm.wikidata.link/tagged/api/item/Q10718314\n",
      "https://osm.wikidata.link/tagged/api/item/Q18179200\n"
     ]
    },
    {
     "name": "stderr",
     "output_type": "stream",
     "text": [
      "\r",
      " 33%|███▎      | 921/2761 [01:22<02:48, 10.89it/s]"
     ]
    },
    {
     "name": "stdout",
     "output_type": "stream",
     "text": [
      "https://osm.wikidata.link/tagged/api/item/Q18178047\n",
      "https://osm.wikidata.link/tagged/api/item/Q18105494\n",
      "https://osm.wikidata.link/tagged/api/item/Q18137560\n"
     ]
    },
    {
     "name": "stderr",
     "output_type": "stream",
     "text": [
      " 34%|███▎      | 925/2761 [01:22<02:47, 10.94it/s]"
     ]
    },
    {
     "name": "stdout",
     "output_type": "stream",
     "text": [
      "https://osm.wikidata.link/tagged/api/item/Q18193857\n",
      "https://osm.wikidata.link/tagged/api/item/Q7916088\n",
      "https://osm.wikidata.link/tagged/api/item/Q18187217\n"
     ]
    },
    {
     "name": "stderr",
     "output_type": "stream",
     "text": [
      "\r",
      " 34%|███▎      | 927/2761 [01:22<02:45, 11.08it/s]"
     ]
    },
    {
     "name": "stdout",
     "output_type": "stream",
     "text": [
      "https://osm.wikidata.link/tagged/api/item/Q18134949\n",
      "https://osm.wikidata.link/tagged/api/item/Q1967328\n",
      "https://osm.wikidata.link/tagged/api/item/Q21856416\n"
     ]
    },
    {
     "name": "stderr",
     "output_type": "stream",
     "text": [
      " 34%|███▎      | 931/2761 [01:22<02:46, 11.00it/s]"
     ]
    },
    {
     "name": "stdout",
     "output_type": "stream",
     "text": [
      "https://osm.wikidata.link/tagged/api/item/Q18105606\n",
      "https://osm.wikidata.link/tagged/api/item/Q2521741\n",
      "https://osm.wikidata.link/tagged/api/item/Q18187221\n"
     ]
    },
    {
     "name": "stderr",
     "output_type": "stream",
     "text": [
      "\r",
      " 34%|███▍      | 933/2761 [01:23<02:43, 11.15it/s]"
     ]
    },
    {
     "name": "stdout",
     "output_type": "stream",
     "text": [
      "https://osm.wikidata.link/tagged/api/item/Q18181316\n",
      "https://osm.wikidata.link/tagged/api/item/Q18196863\n",
      "https://osm.wikidata.link/tagged/api/item/Q18104808\n"
     ]
    },
    {
     "name": "stderr",
     "output_type": "stream",
     "text": [
      " 34%|███▍      | 937/2761 [01:23<02:42, 11.25it/s]"
     ]
    },
    {
     "name": "stdout",
     "output_type": "stream",
     "text": [
      "https://osm.wikidata.link/tagged/api/item/Q28473981\n",
      "https://osm.wikidata.link/tagged/api/item/Q10692665\n",
      "https://osm.wikidata.link/tagged/api/item/Q18195227\n"
     ]
    },
    {
     "name": "stderr",
     "output_type": "stream",
     "text": [
      "\r",
      " 34%|███▍      | 939/2761 [01:23<02:41, 11.31it/s]"
     ]
    },
    {
     "name": "stdout",
     "output_type": "stream",
     "text": [
      "https://osm.wikidata.link/tagged/api/item/Q2138358\n",
      "https://osm.wikidata.link/tagged/api/item/Q173596\n",
      "https://osm.wikidata.link/tagged/api/item/Q173596\n"
     ]
    },
    {
     "name": "stderr",
     "output_type": "stream",
     "text": [
      " 34%|███▍      | 943/2761 [01:24<02:44, 11.02it/s]"
     ]
    },
    {
     "name": "stdout",
     "output_type": "stream",
     "text": [
      "https://osm.wikidata.link/tagged/api/item/Q173596\n",
      "https://osm.wikidata.link/tagged/api/item/Q173596\n",
      "https://osm.wikidata.link/tagged/api/item/Q173596\n"
     ]
    },
    {
     "name": "stderr",
     "output_type": "stream",
     "text": [
      "\r",
      " 34%|███▍      | 945/2761 [01:24<02:43, 11.10it/s]"
     ]
    },
    {
     "name": "stdout",
     "output_type": "stream",
     "text": [
      "https://osm.wikidata.link/tagged/api/item/Q173596\n",
      "https://osm.wikidata.link/tagged/api/item/Q173596\n",
      "https://osm.wikidata.link/tagged/api/item/Q10717650\n"
     ]
    },
    {
     "name": "stderr",
     "output_type": "stream",
     "text": [
      " 34%|███▍      | 949/2761 [01:24<02:42, 11.17it/s]"
     ]
    },
    {
     "name": "stdout",
     "output_type": "stream",
     "text": [
      "https://osm.wikidata.link/tagged/api/item/Q10717650\n",
      "https://osm.wikidata.link/tagged/api/item/Q10717650\n",
      "https://osm.wikidata.link/tagged/api/item/Q10718278\n"
     ]
    },
    {
     "name": "stderr",
     "output_type": "stream",
     "text": [
      "\r",
      " 34%|███▍      | 951/2761 [01:24<02:40, 11.29it/s]"
     ]
    },
    {
     "name": "stdout",
     "output_type": "stream",
     "text": [
      "https://osm.wikidata.link/tagged/api/item/Q17709418\n",
      "https://osm.wikidata.link/tagged/api/item/Q18179709\n",
      "https://osm.wikidata.link/tagged/api/item/Q188195\n"
     ]
    },
    {
     "name": "stderr",
     "output_type": "stream",
     "text": [
      " 35%|███▍      | 955/2761 [01:25<02:37, 11.47it/s]"
     ]
    },
    {
     "name": "stdout",
     "output_type": "stream",
     "text": [
      "https://osm.wikidata.link/tagged/api/item/Q188195\n",
      "https://osm.wikidata.link/tagged/api/item/Q188195\n",
      "https://osm.wikidata.link/tagged/api/item/Q4992317\n"
     ]
    },
    {
     "name": "stderr",
     "output_type": "stream",
     "text": [
      "\r",
      " 35%|███▍      | 957/2761 [01:25<02:36, 11.52it/s]"
     ]
    },
    {
     "name": "stdout",
     "output_type": "stream",
     "text": [
      "https://osm.wikidata.link/tagged/api/item/Q3361714\n",
      "https://osm.wikidata.link/tagged/api/item/Q173596\n",
      "https://osm.wikidata.link/tagged/api/item/Q18189025\n"
     ]
    },
    {
     "name": "stderr",
     "output_type": "stream",
     "text": [
      " 35%|███▍      | 961/2761 [01:25<02:40, 11.18it/s]"
     ]
    },
    {
     "name": "stdout",
     "output_type": "stream",
     "text": [
      "https://osm.wikidata.link/tagged/api/item/Q18132365\n",
      "https://osm.wikidata.link/tagged/api/item/Q10726520\n",
      "https://osm.wikidata.link/tagged/api/item/Q10726113\n"
     ]
    },
    {
     "name": "stderr",
     "output_type": "stream",
     "text": [
      "\r",
      " 35%|███▍      | 963/2761 [01:25<02:43, 10.97it/s]"
     ]
    },
    {
     "name": "stdout",
     "output_type": "stream",
     "text": [
      "https://osm.wikidata.link/tagged/api/item/Q3378013\n",
      "https://osm.wikidata.link/tagged/api/item/Q4991981\n",
      "https://osm.wikidata.link/tagged/api/item/Q17645255\n"
     ]
    },
    {
     "name": "stderr",
     "output_type": "stream",
     "text": [
      " 35%|███▌      | 967/2761 [01:26<02:39, 11.23it/s]"
     ]
    },
    {
     "name": "stdout",
     "output_type": "stream",
     "text": [
      "https://osm.wikidata.link/tagged/api/item/Q18134953\n",
      "https://osm.wikidata.link/tagged/api/item/Q173596\n",
      "https://osm.wikidata.link/tagged/api/item/Q17634132\n"
     ]
    },
    {
     "name": "stderr",
     "output_type": "stream",
     "text": [
      "\r",
      " 35%|███▌      | 969/2761 [01:26<02:41, 11.10it/s]"
     ]
    },
    {
     "name": "stdout",
     "output_type": "stream",
     "text": [
      "https://osm.wikidata.link/tagged/api/item/Q10728364\n",
      "https://osm.wikidata.link/tagged/api/item/Q16914856\n",
      "https://osm.wikidata.link/tagged/api/item/Q18134005\n"
     ]
    },
    {
     "name": "stderr",
     "output_type": "stream",
     "text": [
      " 35%|███▌      | 973/2761 [01:26<02:39, 11.22it/s]"
     ]
    },
    {
     "name": "stdout",
     "output_type": "stream",
     "text": [
      "https://osm.wikidata.link/tagged/api/item/Q10538521\n",
      "https://osm.wikidata.link/tagged/api/item/Q18105492\n",
      "https://osm.wikidata.link/tagged/api/item/Q18105618\n"
     ]
    },
    {
     "name": "stderr",
     "output_type": "stream",
     "text": [
      "\r",
      " 35%|███▌      | 975/2761 [01:26<02:37, 11.31it/s]"
     ]
    },
    {
     "name": "stdout",
     "output_type": "stream",
     "text": [
      "https://osm.wikidata.link/tagged/api/item/Q10727687\n",
      "https://osm.wikidata.link/tagged/api/item/Q18187240\n",
      "https://osm.wikidata.link/tagged/api/item/Q18194657\n"
     ]
    },
    {
     "name": "stderr",
     "output_type": "stream",
     "text": [
      " 35%|███▌      | 979/2761 [01:27<02:41, 11.00it/s]"
     ]
    },
    {
     "name": "stdout",
     "output_type": "stream",
     "text": [
      "https://osm.wikidata.link/tagged/api/item/Q7916088\n",
      "https://osm.wikidata.link/tagged/api/item/Q184492\n",
      "https://osm.wikidata.link/tagged/api/item/Q184492\n"
     ]
    },
    {
     "name": "stderr",
     "output_type": "stream",
     "text": [
      "\r",
      " 36%|███▌      | 981/2761 [01:27<02:40, 11.07it/s]"
     ]
    },
    {
     "name": "stdout",
     "output_type": "stream",
     "text": [
      "https://osm.wikidata.link/tagged/api/item/Q184492\n",
      "https://osm.wikidata.link/tagged/api/item/Q10593482\n",
      "https://osm.wikidata.link/tagged/api/item/Q10718014\n"
     ]
    },
    {
     "name": "stderr",
     "output_type": "stream",
     "text": [
      " 36%|███▌      | 985/2761 [01:27<02:36, 11.35it/s]"
     ]
    },
    {
     "name": "stdout",
     "output_type": "stream",
     "text": [
      "https://osm.wikidata.link/tagged/api/item/Q18134113\n",
      "https://osm.wikidata.link/tagged/api/item/Q1474746\n",
      "https://osm.wikidata.link/tagged/api/item/Q10726224\n"
     ]
    },
    {
     "name": "stderr",
     "output_type": "stream",
     "text": [
      "\r",
      " 36%|███▌      | 987/2761 [01:27<02:36, 11.33it/s]"
     ]
    },
    {
     "name": "stdout",
     "output_type": "stream",
     "text": [
      "https://osm.wikidata.link/tagged/api/item/Q217430\n",
      "https://osm.wikidata.link/tagged/api/item/Q18178373\n",
      "https://osm.wikidata.link/tagged/api/item/Q18134954\n"
     ]
    },
    {
     "name": "stderr",
     "output_type": "stream",
     "text": [
      " 36%|███▌      | 991/2761 [01:28<02:32, 11.60it/s]"
     ]
    },
    {
     "name": "stdout",
     "output_type": "stream",
     "text": [
      "https://osm.wikidata.link/tagged/api/item/Q18177814\n",
      "https://osm.wikidata.link/tagged/api/item/Q10577656\n",
      "https://osm.wikidata.link/tagged/api/item/Q1474746\n"
     ]
    },
    {
     "name": "stderr",
     "output_type": "stream",
     "text": [
      "\r",
      " 36%|███▌      | 993/2761 [01:28<02:31, 11.66it/s]"
     ]
    },
    {
     "name": "stdout",
     "output_type": "stream",
     "text": [
      "https://osm.wikidata.link/tagged/api/item/Q184492\n",
      "https://osm.wikidata.link/tagged/api/item/Q184492\n",
      "https://osm.wikidata.link/tagged/api/item/Q184492\n"
     ]
    },
    {
     "name": "stderr",
     "output_type": "stream",
     "text": [
      " 36%|███▌      | 997/2761 [01:28<02:33, 11.50it/s]"
     ]
    },
    {
     "name": "stdout",
     "output_type": "stream",
     "text": [
      "https://osm.wikidata.link/tagged/api/item/Q18194101\n",
      "https://osm.wikidata.link/tagged/api/item/Q184492\n",
      "https://osm.wikidata.link/tagged/api/item/Q18184573\n"
     ]
    },
    {
     "name": "stderr",
     "output_type": "stream",
     "text": [
      "\r",
      " 36%|███▌      | 999/2761 [01:28<02:31, 11.60it/s]"
     ]
    },
    {
     "name": "stdout",
     "output_type": "stream",
     "text": [
      "https://osm.wikidata.link/tagged/api/item/Q18134117\n",
      "https://osm.wikidata.link/tagged/api/item/Q3360982\n",
      "https://osm.wikidata.link/tagged/api/item/Q18196323\n"
     ]
    },
    {
     "name": "stderr",
     "output_type": "stream",
     "text": [
      " 36%|███▋      | 1001/2761 [01:29<02:36, 11.23it/s]"
     ]
    },
    {
     "name": "stdout",
     "output_type": "stream",
     "text": [
      "1001\n"
     ]
    },
    {
     "name": "stderr",
     "output_type": "stream",
     "text": [
      "\n"
     ]
    }
   ],
   "source": [
    "listSea = []\n",
    "#for WD, row in WDBath.iterrows():\n",
    "for WD, row in tqdm(WDSea.iterrows(), total=WDBath.shape[0]):\n",
    "    #print(row[\"qlakeid\"] ) \n",
    "    url = \"https://osm.wikidata.link/tagged/api/item/\" + row[\"qlakeid\"] \n",
    "    \n",
    "    new_item = dict()\n",
    "    new_item['wikidata'] = row[\"qlakeid\"] \n",
    "    r = http.request('GET', url) \n",
    "    data = json.loads(r.data.decode('utf-8'))\n",
    "    try:\n",
    "        #print (\"ID: \", data[\"osm\"][0][\"id\"])\n",
    "\n",
    "        osmid = data[\"osm\"][0][\"id\"] \n",
    "        \n",
    "    except:\n",
    "        #print (\"error\")\n",
    "        osmid =\"\"\n",
    "    new_item['osmid'] = osmid \n",
    "    listSea.append(new_item)\n",
    "print (len(listSea))\n",
    "OSMSeatot = pd.DataFrame(listSea,\n",
    "                  columns=['wikidata','osmid'])"
   ]
  },
  {
   "cell_type": "code",
   "execution_count": 21,
   "id": "d0e3c014",
   "metadata": {},
   "outputs": [
    {
     "data": {
      "text/html": [
       "<div>\n",
       "<style scoped>\n",
       "    .dataframe tbody tr th:only-of-type {\n",
       "        vertical-align: middle;\n",
       "    }\n",
       "\n",
       "    .dataframe tbody tr th {\n",
       "        vertical-align: top;\n",
       "    }\n",
       "\n",
       "    .dataframe thead th {\n",
       "        text-align: right;\n",
       "    }\n",
       "</style>\n",
       "<table border=\"1\" class=\"dataframe\">\n",
       "  <thead>\n",
       "    <tr style=\"text-align: right;\">\n",
       "      <th></th>\n",
       "      <th>wikidata</th>\n",
       "      <th>osmid</th>\n",
       "    </tr>\n",
       "  </thead>\n",
       "  <tbody>\n",
       "    <tr>\n",
       "      <th>0</th>\n",
       "      <td>Q35694946</td>\n",
       "      <td></td>\n",
       "    </tr>\n",
       "    <tr>\n",
       "      <th>1</th>\n",
       "      <td>Q16275305</td>\n",
       "      <td>10677610</td>\n",
       "    </tr>\n",
       "    <tr>\n",
       "      <th>2</th>\n",
       "      <td>Q16275388</td>\n",
       "      <td>241597601</td>\n",
       "    </tr>\n",
       "    <tr>\n",
       "      <th>3</th>\n",
       "      <td>Q16487572</td>\n",
       "      <td>30167501</td>\n",
       "    </tr>\n",
       "    <tr>\n",
       "      <th>4</th>\n",
       "      <td>Q17538599</td>\n",
       "      <td>181285898</td>\n",
       "    </tr>\n",
       "    <tr>\n",
       "      <th>...</th>\n",
       "      <td>...</td>\n",
       "      <td>...</td>\n",
       "    </tr>\n",
       "    <tr>\n",
       "      <th>996</th>\n",
       "      <td>Q184492</td>\n",
       "      <td>1433877</td>\n",
       "    </tr>\n",
       "    <tr>\n",
       "      <th>997</th>\n",
       "      <td>Q18184573</td>\n",
       "      <td>23047338</td>\n",
       "    </tr>\n",
       "    <tr>\n",
       "      <th>998</th>\n",
       "      <td>Q18134117</td>\n",
       "      <td>48996</td>\n",
       "    </tr>\n",
       "    <tr>\n",
       "      <th>999</th>\n",
       "      <td>Q3360982</td>\n",
       "      <td>23988339</td>\n",
       "    </tr>\n",
       "    <tr>\n",
       "      <th>1000</th>\n",
       "      <td>Q18196323</td>\n",
       "      <td>10492529</td>\n",
       "    </tr>\n",
       "  </tbody>\n",
       "</table>\n",
       "<p>1001 rows × 2 columns</p>\n",
       "</div>"
      ],
      "text/plain": [
       "       wikidata      osmid\n",
       "0     Q35694946           \n",
       "1     Q16275305   10677610\n",
       "2     Q16275388  241597601\n",
       "3     Q16487572   30167501\n",
       "4     Q17538599  181285898\n",
       "...         ...        ...\n",
       "996     Q184492    1433877\n",
       "997   Q18184573   23047338\n",
       "998   Q18134117      48996\n",
       "999    Q3360982   23988339\n",
       "1000  Q18196323   10492529\n",
       "\n",
       "[1001 rows x 2 columns]"
      ]
     },
     "execution_count": 21,
     "metadata": {},
     "output_type": "execute_result"
    }
   ],
   "source": [
    "OSMSeatot"
   ]
  },
  {
   "cell_type": "code",
   "execution_count": 22,
   "id": "00e1610c",
   "metadata": {},
   "outputs": [
    {
     "data": {
      "text/plain": [
       "(216, 2)"
      ]
     },
     "execution_count": 22,
     "metadata": {},
     "output_type": "execute_result"
    }
   ],
   "source": [
    "OSMSeatot[(OSMSeatot['osmid']==\"\")].shape\n"
   ]
  },
  {
   "cell_type": "code",
   "execution_count": 23,
   "id": "57489cc0",
   "metadata": {},
   "outputs": [],
   "source": [
    "OSMSeaEmpty =OSMSeatot[(OSMSeatot['osmid']==\"\")]"
   ]
  },
  {
   "cell_type": "markdown",
   "id": "e9cc6d4d",
   "metadata": {},
   "source": [
    "Badplatser 2756 ej OSM kopplade 2199\n",
    "vatten kopplade 979 ej OSM kopplade 215"
   ]
  },
  {
   "cell_type": "code",
   "execution_count": 43,
   "id": "0325b013",
   "metadata": {},
   "outputs": [
    {
     "name": "stdout",
     "output_type": "stream",
     "text": [
      "20210522  Badplatser 2761 ej OSM kopplade 2142\n",
      " vatten kopplade 1001 ej OSM kopplade 216\n"
     ]
    }
   ],
   "source": [
    "print(start_time.strftime(\"%Y%m%d\"),\" Badplatser\", WDBath.shape[0], \"ej OSM kopplade\",OSMEmpty.shape[0]) \n",
    "print(\" vatten kopplade\", WDSea.shape[0], \"ej OSM kopplade\",OSMSeaEmpty.shape[0])"
   ]
  },
  {
   "cell_type": "code",
   "execution_count": null,
   "id": "a309a424",
   "metadata": {},
   "outputs": [],
   "source": []
  }
 ],
 "metadata": {
  "kernelspec": {
   "display_name": "Python 3",
   "language": "python",
   "name": "python3"
  },
  "language_info": {
   "codemirror_mode": {
    "name": "ipython",
    "version": 3
   },
   "file_extension": ".py",
   "mimetype": "text/x-python",
   "name": "python",
   "nbconvert_exporter": "python",
   "pygments_lexer": "ipython3",
   "version": "3.9.4"
  }
 },
 "nbformat": 4,
 "nbformat_minor": 5
}
